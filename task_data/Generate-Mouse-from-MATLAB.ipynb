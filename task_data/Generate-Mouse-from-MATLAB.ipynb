{
 "cells": [
  {
   "cell_type": "code",
   "execution_count": 1,
   "id": "8e4193ee",
   "metadata": {
    "tags": []
   },
   "outputs": [],
   "source": [
    "import pandas as pd\n",
    "import numpy as np\n",
    "import scipy.io\n",
    "import re\n",
    "\n",
    "from collections import defaultdict"
   ]
  },
  {
   "cell_type": "code",
   "execution_count": 2,
   "id": "15eb07e2",
   "metadata": {
    "tags": []
   },
   "outputs": [],
   "source": [
    "# Path to the folder containing the inputs in the secCellFie repository\n",
    "folder = './secCellFie-master/CellFie/input/'"
   ]
  },
  {
   "cell_type": "markdown",
   "id": "74e4f1b2-6918-4f7f-b8b0-0c061a7659e5",
   "metadata": {},
   "source": [
    "# Metabolic reconstruction"
   ]
  },
  {
   "cell_type": "code",
   "execution_count": 3,
   "id": "7af84eb1-d41f-44ab-b450-2c23d3af2671",
   "metadata": {
    "tags": []
   },
   "outputs": [],
   "source": [
    "from cobra.io import load_matlab_model"
   ]
  },
  {
   "cell_type": "code",
   "execution_count": 4,
   "id": "d76635c2-ad8f-4439-9fd7-65a085f5565d",
   "metadata": {
    "tags": []
   },
   "outputs": [],
   "source": [
    "model = scipy.io.loadmat(folder + '/MT_iMM1415_sec.mat')['model']"
   ]
  },
  {
   "cell_type": "code",
   "execution_count": 5,
   "id": "801c4ad0-996e-488c-b24a-ac00fc4b3fae",
   "metadata": {
    "tags": []
   },
   "outputs": [
    {
     "data": {
      "text/plain": [
       "17"
      ]
     },
     "execution_count": 5,
     "metadata": {},
     "output_type": "execute_result"
    }
   ],
   "source": [
    "len(model[0][0])"
   ]
  },
  {
   "cell_type": "code",
   "execution_count": 6,
   "id": "70f1e764-294d-49ea-a776-4397c2e76d04",
   "metadata": {
    "tags": []
   },
   "outputs": [],
   "source": [
    "_rxn_names = model[0][0][6]\n",
    "_met_names = model[0][0][1]\n",
    "_S = model[0][0][4]\n",
    "_c = model[0][0][13]\n",
    "_lb = model[0][0][10]\n",
    "_ub = model[0][0][11]\n",
    "_gene_names = model[0][0][3]\n",
    "_gprs = model[0][0][5]"
   ]
  },
  {
   "cell_type": "code",
   "execution_count": 7,
   "id": "e2994732-188e-41fd-93cf-157c7428d966",
   "metadata": {
    "tags": []
   },
   "outputs": [
    {
     "data": {
      "text/plain": [
       "array([[array([], dtype='<U1')],\n",
       "       [array([], dtype='<U1')],\n",
       "       [array([], dtype='<U1')],\n",
       "       ...,\n",
       "       [array(['( 19170 ) and ( 26445 ) and ( 26446 ) and ( 19172 ) and ( 19173 ) and ( 19175 ) and ( 19177 ) and ( 16913 ) and ( 16912 ) and ( 19171 ) and ( 73902 )'],\n",
       "              dtype='<U149')                                                                                                                                            ],\n",
       "       [array([], dtype='<U1')],\n",
       "       [array([], dtype='<U1')]], dtype=object)"
      ]
     },
     "execution_count": 7,
     "metadata": {},
     "output_type": "execute_result"
    }
   ],
   "source": [
    "_gprs"
   ]
  },
  {
   "cell_type": "code",
   "execution_count": 8,
   "id": "4d32e0fb-d7d6-4ee8-b48c-c83e654d0f49",
   "metadata": {
    "tags": []
   },
   "outputs": [],
   "source": [
    "_rxn_ids = []\n",
    "for i in range(_rxn_names.shape[0]):\n",
    "    _rxn_ids.append(_rxn_names[i][0][0])"
   ]
  },
  {
   "cell_type": "code",
   "execution_count": 9,
   "id": "c7fc1762-b03e-485b-8c23-34e8327d75ab",
   "metadata": {
    "tags": []
   },
   "outputs": [],
   "source": [
    "_gpr_records = []\n",
    "for _rxn, _gpr in zip(_rxn_ids, _gprs):\n",
    "    if _gpr[0].shape[0] == 0:\n",
    "        continue\n",
    "    else:\n",
    "        _gpr_records.append((_rxn, _gpr[0][0].replace('HGNC:HGNC:', 'HGNC:')))"
   ]
  },
  {
   "cell_type": "markdown",
   "id": "dd82d364",
   "metadata": {},
   "source": [
    "# Generate task information"
   ]
  },
  {
   "cell_type": "code",
   "execution_count": 10,
   "id": "7b6e99ad",
   "metadata": {
    "tags": []
   },
   "outputs": [],
   "source": [
    "mat = scipy.io.loadmat(folder + '/taskStructure_met_sec.mat')"
   ]
  },
  {
   "cell_type": "code",
   "execution_count": 11,
   "id": "79f52b09",
   "metadata": {
    "tags": []
   },
   "outputs": [
    {
     "data": {
      "text/plain": [
       "{'__header__': b'MATLAB 5.0 MAT-file, Platform: MACI64, Created on: Thu Dec 22 12:36:34 2022',\n",
       " '__version__': '1.0',\n",
       " '__globals__': [],\n",
       " 'taskInfos': array([[array(['1'], dtype='<U1'),\n",
       "         array(['Oxidative phosphorylation via NADH-coenzyme Q oxidoreductase (COMPLEX I)'],\n",
       "               dtype='<U72')                                                                ,\n",
       "         array(['ENERGY METABOLISM'], dtype='<U17'),\n",
       "         array(['OXYDATIVE PHOSPHORYLATION'], dtype='<U25')],\n",
       "        [array(['2'], dtype='<U1'),\n",
       "         array(['Oxidative phosphorylation via succinate-coenzyme Q oxidoreductase (COMPLEX II)'],\n",
       "               dtype='<U78')                                                                      ,\n",
       "         array(['ENERGY METABOLISM'], dtype='<U17'),\n",
       "         array(['OXYDATIVE PHOSPHORYLATION'], dtype='<U25')],\n",
       "        [array(['3'], dtype='<U1'),\n",
       "         array(['Krebs cycle - oxidative decarboxylation of pyruvate'],\n",
       "               dtype='<U51')                                           ,\n",
       "         array(['ENERGY METABOLISM'], dtype='<U17'),\n",
       "         array(['KREBS CYCLE'], dtype='<U11')],\n",
       "        [array(['4'], dtype='<U1'),\n",
       "         array(['Krebs cycle - NADH generation'], dtype='<U29'),\n",
       "         array(['ENERGY METABOLISM'], dtype='<U17'),\n",
       "         array(['KREBS CYCLE'], dtype='<U11')],\n",
       "        [array(['5'], dtype='<U1'),\n",
       "         array(['ATP regeneration from glucose (normoxic conditions) - glycolysis + krebs cycle'],\n",
       "               dtype='<U78')                                                                      ,\n",
       "         array(['ENERGY METABOLISM'], dtype='<U17'),\n",
       "         array(['ATP GENERATION'], dtype='<U14')],\n",
       "        [array(['6'], dtype='<U1'),\n",
       "         array(['ATP generation from glucose (hypoxic conditions) - glycolysis'],\n",
       "               dtype='<U61')                                                     ,\n",
       "         array(['ENERGY METABOLISM'], dtype='<U17'),\n",
       "         array(['ATP GENERATION'], dtype='<U14')],\n",
       "        [array(['7'], dtype='<U1'),\n",
       "         array(['Reactive oxygen species detoxification (H2O2 to H2O)'],\n",
       "               dtype='<U52')                                            ,\n",
       "         array(['ENERGY METABOLISM'], dtype='<U17'),\n",
       "         array(['OXIDATIVE PHOSPHORYLATION & ROS DETOXIFICATION'], dtype='<U46')],\n",
       "        [array(['8'], dtype='<U1'),\n",
       "         array(['Presence of the thioredoxin system through the thioredoxin reductase activity'],\n",
       "               dtype='<U77')                                                                     ,\n",
       "         array(['ENERGY METABOLISM'], dtype='<U17'),\n",
       "         array(['REDOX METABOLISM'], dtype='<U16')],\n",
       "        [array(['9'], dtype='<U1'),\n",
       "         array(['Inosine monophosphate synthesis (IMP)'], dtype='<U37'),\n",
       "         array(['NUCLEOTIDE METABOLISM'], dtype='<U21'),\n",
       "         array(['IMP SYNTHESIS / PURINE METABOLISM'], dtype='<U33')],\n",
       "        [array(['10'], dtype='<U2'),\n",
       "         array(['Cytidine triphosphate synthesis (CTP)'], dtype='<U37'),\n",
       "         array(['NUCLEOTIDE METABOLISM'], dtype='<U21'),\n",
       "         array(['UMP SYNTHESIS'], dtype='<U13')],\n",
       "        [array(['11'], dtype='<U2'),\n",
       "         array(['Guanosine triphosphate synthesis (GTP)'], dtype='<U38'),\n",
       "         array(['NUCLEOTIDE METABOLISM'], dtype='<U21'),\n",
       "         array(['IMP SYNTHESIS / PURINE METABOLISM'], dtype='<U33')],\n",
       "        [array(['12'], dtype='<U2'),\n",
       "         array(['Uridine triphosphate synthesis (UTP)'], dtype='<U36'),\n",
       "         array(['NUCLEOTIDE METABOLISM'], dtype='<U21'),\n",
       "         array(['UMP SYNTHESIS'], dtype='<U13')],\n",
       "        [array(['13'], dtype='<U2'),\n",
       "         array(['Deoxyadenosine triphosphate synthesis (dATP)'], dtype='<U44'),\n",
       "         array(['NUCLEOTIDE METABOLISM'], dtype='<U21'),\n",
       "         array(['DEOXYNUCLEOTIDES SYNTHESIS'], dtype='<U26')],\n",
       "        [array(['14'], dtype='<U2'),\n",
       "         array(['Deoxycytidine triphosphate synthesis (dCTP)'], dtype='<U43'),\n",
       "         array(['NUCLEOTIDE METABOLISM'], dtype='<U21'),\n",
       "         array(['DEOXYNUCLEOTIDES SYNTHESIS'], dtype='<U26')],\n",
       "        [array(['15'], dtype='<U2'),\n",
       "         array(['Deoxyguanosine triphosphate synthesis (dGTP)'], dtype='<U44'),\n",
       "         array(['NUCLEOTIDE METABOLISM'], dtype='<U21'),\n",
       "         array(['DEOXYNUCLEOTIDES SYNTHESIS'], dtype='<U26')],\n",
       "        [array(['16'], dtype='<U2'),\n",
       "         array(['Deoxyuridine triphosphate synthesis (dUTP)'], dtype='<U42'),\n",
       "         array(['NUCLEOTIDE METABOLISM'], dtype='<U21'),\n",
       "         array(['DEOXYNUCLEOTIDES SYNTHESIS'], dtype='<U26')],\n",
       "        [array(['17'], dtype='<U2'),\n",
       "         array(['Deoxythymidine triphosphate synthesis (dTTP)'], dtype='<U44'),\n",
       "         array(['NUCLEOTIDE METABOLISM'], dtype='<U21'),\n",
       "         array(['DEOXYNUCLEOTIDES SYNTHESIS'], dtype='<U26')],\n",
       "        [array(['18'], dtype='<U2'),\n",
       "         array(['AMP salvage from adenine'], dtype='<U24'),\n",
       "         array(['NUCLEOTIDE METABOLISM'], dtype='<U21'),\n",
       "         array(['SALVAGE'], dtype='<U7')],\n",
       "        [array(['19'], dtype='<U2'),\n",
       "         array(['IMP salvage from hypoxanthine'], dtype='<U29'),\n",
       "         array(['NUCLEOTIDE METABOLISM'], dtype='<U21'),\n",
       "         array(['SALVAGE'], dtype='<U7')],\n",
       "        [array(['20'], dtype='<U2'),\n",
       "         array(['GMP salvage from guanine'], dtype='<U24'),\n",
       "         array(['NUCLEOTIDE METABOLISM'], dtype='<U21'),\n",
       "         array(['SALVAGE'], dtype='<U7')],\n",
       "        [array(['21'], dtype='<U2'),\n",
       "         array([\"3'-Phospho-5'-adenylyl sulfate synthesis\"], dtype='<U40'),\n",
       "         array(['NUCLEOTIDE METABOLISM'], dtype='<U21'),\n",
       "         array(['COFACTOR'], dtype='<U8')],\n",
       "        [array(['22'], dtype='<U2'),\n",
       "         array(['Degradation of adenine to urate'], dtype='<U31'),\n",
       "         array(['NUCLEOTIDE METABOLISM'], dtype='<U21'),\n",
       "         array(['PURINE CATABOLISM'], dtype='<U17')],\n",
       "        [array(['23'], dtype='<U2'),\n",
       "         array(['Degradation of guanine to urate'], dtype='<U31'),\n",
       "         array(['NUCLEOTIDE METABOLISM'], dtype='<U21'),\n",
       "         array(['PURINE CATABOLISM'], dtype='<U17')],\n",
       "        [array(['24'], dtype='<U2'),\n",
       "         array(['Degradation of cytosine'], dtype='<U23'),\n",
       "         array(['NUCLEOTIDE METABOLISM'], dtype='<U21'),\n",
       "         array(['PYRIMIDINE CATABOLISM'], dtype='<U21')],\n",
       "        [array(['25'], dtype='<U2'),\n",
       "         array(['Degradation of uracil'], dtype='<U21'),\n",
       "         array(['NUCLEOTIDE METABOLISM'], dtype='<U21'),\n",
       "         array(['PYRIMIDINE CATABOLISM'], dtype='<U21')],\n",
       "        [array(['26'], dtype='<U2'),\n",
       "         array(['Gluconeogenesis from pyruvate'], dtype='<U29'),\n",
       "         array(['CARBOHYDRATES METABOLISM'], dtype='<U24'),\n",
       "         array(['GLUCONEOGENESIS'], dtype='<U15')],\n",
       "        [array(['27'], dtype='<U2'),\n",
       "         array(['Gluconeogenesis from Lactate'], dtype='<U28'),\n",
       "         array(['CARBOHYDRATES METABOLISM'], dtype='<U24'),\n",
       "         array(['GLUCONEOGENESIS'], dtype='<U15')],\n",
       "        [array(['28'], dtype='<U2'),\n",
       "         array(['Gluconeogenesis from Glycerol'], dtype='<U29'),\n",
       "         array(['CARBOHYDRATES METABOLISM'], dtype='<U24'),\n",
       "         array(['GLUCONEOGENESIS'], dtype='<U15')],\n",
       "        [array(['29'], dtype='<U2'),\n",
       "         array(['Gluconeogenesis from Alanine'], dtype='<U28'),\n",
       "         array(['CARBOHYDRATES METABOLISM'], dtype='<U24'),\n",
       "         array(['GLUCONEOGENESIS'], dtype='<U15')],\n",
       "        [array(['30'], dtype='<U2'),\n",
       "         array(['Gluconeogenesis from Glutamine'], dtype='<U30'),\n",
       "         array(['CARBOHYDRATES METABOLISM'], dtype='<U24'),\n",
       "         array(['GLUCONEOGENESIS'], dtype='<U15')],\n",
       "        [array(['31'], dtype='<U2'),\n",
       "         array(['Ethanol to acetaldehyde'], dtype='<U23'),\n",
       "         array(['CARBOHYDRATES METABOLISM'], dtype='<U24'),\n",
       "         array(['GLYCOLYSIS/GLUCONEOGENESIS'], dtype='<U26')],\n",
       "        [array(['32'], dtype='<U2'),\n",
       "         array(['Glucose to lactate conversion'], dtype='<U29'),\n",
       "         array(['CARBOHYDRATES METABOLISM'], dtype='<U24'),\n",
       "         array(['PYRUVATE METABOLISM'], dtype='<U19')],\n",
       "        [array(['33'], dtype='<U2'),\n",
       "         array(['Malate to pyruvate conversion'], dtype='<U29'),\n",
       "         array(['CARBOHYDRATES METABOLISM'], dtype='<U24'),\n",
       "         array(['PYRUVATE METABOLISM'], dtype='<U19')],\n",
       "        [array(['34'], dtype='<U2'),\n",
       "         array(['Synthesis of fructose-6-phosphate from erythrose-4-phosphate (HMP shunt)'],\n",
       "               dtype='<U72')                                                                ,\n",
       "         array(['CARBOHYDRATES METABOLISM'], dtype='<U24'),\n",
       "         array(['PENTOSE PHOSPHATE PATHWAY'], dtype='<U25')],\n",
       "        [array(['35'], dtype='<U2'),\n",
       "         array(['Synthesis of ribose-5-phosphate'], dtype='<U31'),\n",
       "         array(['CARBOHYDRATES METABOLISM'], dtype='<U24'),\n",
       "         array(['PENTOSE PHOSPHATE PATHWAY'], dtype='<U25')],\n",
       "        [array(['36'], dtype='<U2'),\n",
       "         array(['Synthesis of lactose'], dtype='<U20'),\n",
       "         array(['CARBOHYDRATES METABOLISM'], dtype='<U24'),\n",
       "         array(['GALACTOSE METABOLISM'], dtype='<U20')],\n",
       "        [array(['37'], dtype='<U2'),\n",
       "         array(['Glycogen biosynthesis'], dtype='<U21'),\n",
       "         array(['CARBOHYDRATES METABOLISM'], dtype='<U24'),\n",
       "         array(['GLYCOGEN METABOLISM'], dtype='<U19')],\n",
       "        [array(['38'], dtype='<U2'),\n",
       "         array(['Glycogen degradation'], dtype='<U20'),\n",
       "         array(['CARBOHYDRATES METABOLISM'], dtype='<U24'),\n",
       "         array(['GLYCOGEN METABOLISM'], dtype='<U19')],\n",
       "        [array(['39'], dtype='<U2'),\n",
       "         array(['Fructose degradation (to glucose-3-phosphate)'], dtype='<U45'),\n",
       "         array(['CARBOHYDRATES METABOLISM'], dtype='<U24'),\n",
       "         array(['FRUCTOSE METABOLISM'], dtype='<U19')],\n",
       "        [array(['40'], dtype='<U2'),\n",
       "         array(['Fructose to glucose conversion (via fructose-6-phosphate)'],\n",
       "               dtype='<U57')                                                 ,\n",
       "         array(['CARBOHYDRATES METABOLISM'], dtype='<U24'),\n",
       "         array(['FRUCTOSE METABOLISM'], dtype='<U19')],\n",
       "        [array(['41'], dtype='<U2'),\n",
       "         array(['UDP-glucose synthesis'], dtype='<U21'),\n",
       "         array(['CARBOHYDRATES METABOLISM'], dtype='<U24'),\n",
       "         array(['NUCLEOTIDE SUGAR'], dtype='<U16')],\n",
       "        [array(['42'], dtype='<U2'),\n",
       "         array(['UDP-galactose synthesis'], dtype='<U23'),\n",
       "         array(['CARBOHYDRATES METABOLISM'], dtype='<U24'),\n",
       "         array(['NUCLEOTIDE SUGAR'], dtype='<U16')],\n",
       "        [array(['43'], dtype='<U2'),\n",
       "         array(['UDP-glucuronate synthesis'], dtype='<U25'),\n",
       "         array(['CARBOHYDRATES METABOLISM'], dtype='<U24'),\n",
       "         array(['NUCLEOTIDE SUGAR'], dtype='<U16')],\n",
       "        [array(['44'], dtype='<U2'),\n",
       "         array(['GDP-L-fucose synthesis'], dtype='<U22'),\n",
       "         array(['CARBOHYDRATES METABOLISM'], dtype='<U24'),\n",
       "         array(['FUCOSE METABOLISM'], dtype='<U17')],\n",
       "        [array(['45'], dtype='<U2'),\n",
       "         array(['Mannose degradation (to fructose-6-phosphate)'], dtype='<U45'),\n",
       "         array(['CARBOHYDRATES METABOLISM'], dtype='<U24'),\n",
       "         array(['MANNOSE METABOLISM'], dtype='<U18')],\n",
       "        [array(['46'], dtype='<U2'),\n",
       "         array(['GDP-mannose synthesis'], dtype='<U21'),\n",
       "         array(['CARBOHYDRATES METABOLISM'], dtype='<U24'),\n",
       "         array(['MANNOSE METABOLISM'], dtype='<U18')],\n",
       "        [array(['47'], dtype='<U2'),\n",
       "         array(['UDP-N-acetyl D-galactosamine synthesis'], dtype='<U38'),\n",
       "         array(['CARBOHYDRATES METABOLISM'], dtype='<U24'),\n",
       "         array(['AMINO SUGARS METABOLISM'], dtype='<U23')],\n",
       "        [array(['48'], dtype='<U2'),\n",
       "         array(['CMP-N-acetylneuraminate synthesis'], dtype='<U33'),\n",
       "         array(['CARBOHYDRATES METABOLISM'], dtype='<U24'),\n",
       "         array(['AMINO SUGARS METABOLISM'], dtype='<U23')],\n",
       "        [array(['49'], dtype='<U2'),\n",
       "         array(['N-Acetylglucosamine synthesis'], dtype='<U29'),\n",
       "         array(['CARBOHYDRATES METABOLISM'], dtype='<U24'),\n",
       "         array(['AMINO SUGARS METABOLISM'], dtype='<U23')],\n",
       "        [array(['50'], dtype='<U2'),\n",
       "         array(['Glucuronate synthesis (via inositol)'], dtype='<U36'),\n",
       "         array(['CARBOHYDRATES METABOLISM'], dtype='<U24'),\n",
       "         array(['PENTOSE AND GLUCURONATE INTERCONVERSION'], dtype='<U39')],\n",
       "        [array(['51'], dtype='<U2'),\n",
       "         array(['Glucuronate synthesis (via udp-glucose)'], dtype='<U39'),\n",
       "         array(['CARBOHYDRATES METABOLISM'], dtype='<U24'),\n",
       "         array(['PENTOSE AND GLUCURONATE INTERCONVERSION'], dtype='<U39')],\n",
       "        [array(['52'], dtype='<U2'),\n",
       "         array(['Synthesis of acetone'], dtype='<U20'),\n",
       "         array(['CARBOHYDRATES METABOLISM'], dtype='<U24'),\n",
       "         array(['KETOGENESIS'], dtype='<U11')],\n",
       "        [array(['53'], dtype='<U2'),\n",
       "         array(['(R)-3-Hydroxybutanoate synthesis'], dtype='<U32'),\n",
       "         array(['CARBOHYDRATES METABOLISM'], dtype='<U24'),\n",
       "         array(['KETOGENESIS'], dtype='<U11')],\n",
       "        [array(['54'], dtype='<U2'),\n",
       "         array(['Synthesis of inositol'], dtype='<U21'),\n",
       "         array(['CARBOHYDRATES METABOLISM'], dtype='<U24'),\n",
       "         array(['PHOSPHATE INOSITOL METABOLISM'], dtype='<U29')],\n",
       "        [array(['55'], dtype='<U2'),\n",
       "         array(['Inositol as input for glucuronate-xylulose pathway'], dtype='<U50'),\n",
       "         array(['CARBOHYDRATES METABOLISM'], dtype='<U24'),\n",
       "         array(['PHOSPHATE INOSITOL METABOLISM'], dtype='<U29')],\n",
       "        [array(['56'], dtype='<U2'),\n",
       "         array(['Synthesis of phosphatidylinositol from inositol'], dtype='<U47'),\n",
       "         array(['CARBOHYDRATES METABOLISM'], dtype='<U24'),\n",
       "         array(['PHOSPHATE INOSITOL METABOLISM'], dtype='<U29')],\n",
       "        [array(['57'], dtype='<U2'),\n",
       "         array(['Conversion of 1-phosphatidyl-1D-myo-inositol 4,5-bisphosphate to 1D-myo-inositol 1,4,5-trisphosphate'],\n",
       "               dtype='<U100')                                                                                           ,\n",
       "         array(['CARBOHYDRATES METABOLISM'], dtype='<U24'),\n",
       "         array(['PHOSPHATE INOSITOL METABOLISM'], dtype='<U29')],\n",
       "        [array(['58'], dtype='<U2'),\n",
       "         array(['Starch degradation'], dtype='<U18'),\n",
       "         array(['CARBOHYDRATES METABOLISM'], dtype='<U24'),\n",
       "         array(['STARCH DEGRADATION'], dtype='<U18')],\n",
       "        [array(['59'], dtype='<U2'),\n",
       "         array(['Link between glyoxylate metabolism and pentose phosphate pathway (Xylulose to glycolate)'],\n",
       "               dtype='<U88')                                                                                ,\n",
       "         array(['CARBOHYDRATES METABOLISM'], dtype='<U24'),\n",
       "         array(['GLYOXYLATE METABOLISM'], dtype='<U21')],\n",
       "        [array(['60'], dtype='<U2'),\n",
       "         array(['Synthesis of methylglyoxal'], dtype='<U26'),\n",
       "         array(['CARBOHYDRATES METABOLISM'], dtype='<U24'),\n",
       "         array(['METHYLGLYOXAL METABOLISM'], dtype='<U24')],\n",
       "        [array(['61'], dtype='<U2'),\n",
       "         array(['Alanine synthesis'], dtype='<U17'),\n",
       "         array(['AMINO ACIDS METABOLISM'], dtype='<U22'),\n",
       "         array(['ALANINE METABOLISM'], dtype='<U18')],\n",
       "        [array(['62'], dtype='<U2'),\n",
       "         array(['Alanine degradation'], dtype='<U19'),\n",
       "         array(['AMINO ACIDS METABOLISM'], dtype='<U22'),\n",
       "         array(['ALANINE METABOLISM'], dtype='<U18')],\n",
       "        [array(['63'], dtype='<U2'),\n",
       "         array(['Synthesis of alanine from glutamine'], dtype='<U35'),\n",
       "         array(['AMINO ACIDS METABOLISM'], dtype='<U22'),\n",
       "         array(['ALANINE METABOLISM'], dtype='<U18')],\n",
       "        [array(['64'], dtype='<U2'),\n",
       "         array(['Arginine synthesis'], dtype='<U18'),\n",
       "         array(['AMINO ACIDS METABOLISM'], dtype='<U22'),\n",
       "         array(['ARGININE METABOLISM'], dtype='<U19')],\n",
       "        [array(['65'], dtype='<U2'),\n",
       "         array(['Arginine degradation'], dtype='<U20'),\n",
       "         array(['AMINO ACIDS METABOLISM'], dtype='<U22'),\n",
       "         array(['ARGININE METABOLISM'], dtype='<U19')],\n",
       "        [array(['66'], dtype='<U2'),\n",
       "         array(['Synthesis of arginine from glutamine'], dtype='<U36'),\n",
       "         array(['AMINO ACIDS METABOLISM'], dtype='<U22'),\n",
       "         array(['ARGININE METABOLISM'], dtype='<U19')],\n",
       "        [array(['67'], dtype='<U2'),\n",
       "         array(['Synthesis of nitric oxide from arginine'], dtype='<U39'),\n",
       "         array(['AMINO ACIDS METABOLISM'], dtype='<U22'),\n",
       "         array(['ARGININE METABOLISM'], dtype='<U19')],\n",
       "        [array(['68'], dtype='<U2'),\n",
       "         array(['Synthesis of aspartate from glutamine'], dtype='<U37'),\n",
       "         array(['AMINO ACIDS METABOLISM'], dtype='<U22'),\n",
       "         array(['ASPARTATE METABOLISM'], dtype='<U20')],\n",
       "        [array(['69'], dtype='<U2'),\n",
       "         array(['Synthesis of creatine from arginine'], dtype='<U35'),\n",
       "         array(['AMINO ACIDS METABOLISM'], dtype='<U22'),\n",
       "         array(['ARGININE METABOLISM'], dtype='<U19')],\n",
       "        [array(['70'], dtype='<U2'),\n",
       "         array(['Asparagine synthesis'], dtype='<U20'),\n",
       "         array(['AMINO ACIDS METABOLISM'], dtype='<U22'),\n",
       "         array(['ASPARAGINE METABOLISM'], dtype='<U21')],\n",
       "        [array(['71'], dtype='<U2'),\n",
       "         array(['Asparagine degradation'], dtype='<U22'),\n",
       "         array(['AMINO ACIDS METABOLISM'], dtype='<U22'),\n",
       "         array(['ASPARAGINE METABOLISM'], dtype='<U21')],\n",
       "        [array(['72'], dtype='<U2'),\n",
       "         array(['Aspartate synthesis'], dtype='<U19'),\n",
       "         array(['AMINO ACIDS METABOLISM'], dtype='<U22'),\n",
       "         array(['ASPARTATE METABOLISM'], dtype='<U20')],\n",
       "        [array(['73'], dtype='<U2'),\n",
       "         array(['Aspartate degradation'], dtype='<U21'),\n",
       "         array(['AMINO ACIDS METABOLISM'], dtype='<U22'),\n",
       "         array(['ASPARTATE METABOLISM'], dtype='<U20')],\n",
       "        [array(['74'], dtype='<U2'),\n",
       "         array(['Conversion of aspartate to arginine'], dtype='<U35'),\n",
       "         array(['AMINO ACIDS METABOLISM'], dtype='<U22'),\n",
       "         array(['ASPARTATE METABOLISM'], dtype='<U20')],\n",
       "        [array(['75'], dtype='<U2'),\n",
       "         array(['Conversion of aspartate to beta-alanine'], dtype='<U39'),\n",
       "         array(['AMINO ACIDS METABOLISM'], dtype='<U22'),\n",
       "         array(['ASPARTATE METABOLISM'], dtype='<U20')],\n",
       "        [array(['76'], dtype='<U2'),\n",
       "         array(['Conversion of asparate to asparagine'], dtype='<U36'),\n",
       "         array(['AMINO ACIDS METABOLISM'], dtype='<U22'),\n",
       "         array(['ASPARTATE METABOLISM'], dtype='<U20')],\n",
       "        [array(['77'], dtype='<U2'),\n",
       "         array(['beta-Alanine synthesis'], dtype='<U22'),\n",
       "         array(['AMINO ACIDS METABOLISM'], dtype='<U22'),\n",
       "         array(['BETA-ALANINE METABOLISM'], dtype='<U23')],\n",
       "        [array(['78'], dtype='<U2'),\n",
       "         array(['beta-Alanine degradation'], dtype='<U24'),\n",
       "         array(['AMINO ACIDS METABOLISM'], dtype='<U22'),\n",
       "         array(['BETA-ALANINE METABOLISM'], dtype='<U23')],\n",
       "        [array(['79'], dtype='<U2'),\n",
       "         array(['Conversion of carnosine to beta-alanine'], dtype='<U39'),\n",
       "         array(['AMINO ACIDS METABOLISM'], dtype='<U22'),\n",
       "         array(['BETA-ALANINE METABOLISM'], dtype='<U23')],\n",
       "        [array(['80'], dtype='<U2'),\n",
       "         array(['Beta-alanine to 3-oxopropanoate'], dtype='<U31'),\n",
       "         array(['AMINO ACIDS METABOLISM'], dtype='<U22'),\n",
       "         array(['BETA-ALANINE METABOLISM'], dtype='<U23')],\n",
       "        [array(['81'], dtype='<U2'),\n",
       "         array(['Cysteine synthesis (need serine and methionine)'], dtype='<U47'),\n",
       "         array(['AMINO ACIDS METABOLISM'], dtype='<U22'),\n",
       "         array(['CYSTEINE METABOLISM'], dtype='<U19')],\n",
       "        [array(['82'], dtype='<U2'),\n",
       "         array(['Cysteine degradation'], dtype='<U20'),\n",
       "         array(['AMINO ACIDS METABOLISM'], dtype='<U22'),\n",
       "         array(['CYSTEINE METABOLISM'], dtype='<U19')],\n",
       "        [array(['83'], dtype='<U2'),\n",
       "         array(['Synthesis of cysteine from cystine'], dtype='<U34'),\n",
       "         array(['AMINO ACIDS METABOLISM'], dtype='<U22'),\n",
       "         array(['CYSTEINE METABOLISM'], dtype='<U19')],\n",
       "        [array(['84'], dtype='<U2'),\n",
       "         array(['Synthesis of taurine from cysteine'], dtype='<U34'),\n",
       "         array(['AMINO ACIDS METABOLISM'], dtype='<U22'),\n",
       "         array(['CYSTEINE METABOLISM'], dtype='<U19')],\n",
       "        [array(['85'], dtype='<U2'),\n",
       "         array(['Glutamate synthesis'], dtype='<U19'),\n",
       "         array(['AMINO ACIDS METABOLISM'], dtype='<U22'),\n",
       "         array(['GLUTAMATE METABOLISM'], dtype='<U20')],\n",
       "        [array(['86'], dtype='<U2'),\n",
       "         array(['Glutamate degradation'], dtype='<U21'),\n",
       "         array(['AMINO ACIDS METABOLISM'], dtype='<U22'),\n",
       "         array(['GLUTAMATE METABOLISM'], dtype='<U20')],\n",
       "        [array(['87'], dtype='<U2'),\n",
       "         array(['Conversion of glutamate to glutamine'], dtype='<U36'),\n",
       "         array(['AMINO ACIDS METABOLISM'], dtype='<U22'),\n",
       "         array(['GLUTAMATE METABOLISM'], dtype='<U20')],\n",
       "        [array(['88'], dtype='<U2'),\n",
       "         array(['Conversion of glutamate to proline'], dtype='<U34'),\n",
       "         array(['AMINO ACIDS METABOLISM'], dtype='<U22'),\n",
       "         array(['GLUTAMATE METABOLISM'], dtype='<U20')],\n",
       "        [array(['89'], dtype='<U2'),\n",
       "         array(['Conversion of GABA into succinate'], dtype='<U33'),\n",
       "         array(['AMINO ACIDS METABOLISM'], dtype='<U22'),\n",
       "         array(['GLUTAMATE METABOLISM'], dtype='<U20')],\n",
       "        [array(['90'], dtype='<U2'),\n",
       "         array(['Glutamine synthesis'], dtype='<U19'),\n",
       "         array(['AMINO ACIDS METABOLISM'], dtype='<U22'),\n",
       "         array(['GLUTAMINE METABOLISM'], dtype='<U20')],\n",
       "        [array(['91'], dtype='<U2'),\n",
       "         array(['Glutamine degradation'], dtype='<U21'),\n",
       "         array(['AMINO ACIDS METABOLISM'], dtype='<U22'),\n",
       "         array(['GLUTAMINE METABOLISM'], dtype='<U20')],\n",
       "        [array(['92'], dtype='<U2'),\n",
       "         array(['Glutaminolysis (glutamine to lactate)'], dtype='<U37'),\n",
       "         array(['AMINO ACIDS METABOLISM'], dtype='<U22'),\n",
       "         array(['GLUTAMINE METABOLISM'], dtype='<U20')],\n",
       "        [array(['93'], dtype='<U2'),\n",
       "         array(['Glutathionate synthesis'], dtype='<U23'),\n",
       "         array(['AMINO ACIDS METABOLISM'], dtype='<U22'),\n",
       "         array(['GLUTATHIONE METABOLISM'], dtype='<U22')],\n",
       "        [array(['94'], dtype='<U2'),\n",
       "         array(['Glycine synthesis'], dtype='<U17'),\n",
       "         array(['AMINO ACIDS METABOLISM'], dtype='<U22'),\n",
       "         array(['GLYCINE METABOLISM'], dtype='<U18')],\n",
       "        [array(['95'], dtype='<U2'),\n",
       "         array(['Glycine degradation'], dtype='<U19'),\n",
       "         array(['AMINO ACIDS METABOLISM'], dtype='<U22'),\n",
       "         array(['GLYCINE METABOLISM'], dtype='<U18')],\n",
       "        [array(['96'], dtype='<U2'),\n",
       "         array(['Conversion of glycine to pyruvate'], dtype='<U33'),\n",
       "         array(['AMINO ACIDS METABOLISM'], dtype='<U22'),\n",
       "         array(['GLYCINE METABOLISM'], dtype='<U18')],\n",
       "        [array(['97'], dtype='<U2'),\n",
       "         array(['Histidine degradation'], dtype='<U21'),\n",
       "         array(['AMINO ACIDS METABOLISM'], dtype='<U22'),\n",
       "         array(['HISTIDINE METABOLISM'], dtype='<U20')],\n",
       "        [array(['98'], dtype='<U2'),\n",
       "         array(['Conversion of histidine to glutamate'], dtype='<U36'),\n",
       "         array(['AMINO ACIDS METABOLISM'], dtype='<U22'),\n",
       "         array(['HISTIDINE METABOLISM'], dtype='<U20')],\n",
       "        [array(['99'], dtype='<U2'),\n",
       "         array(['Conversion of histidine to histamine'], dtype='<U36'),\n",
       "         array(['AMINO ACIDS METABOLISM'], dtype='<U22'),\n",
       "         array(['HISTIDINE METABOLISM'], dtype='<U20')],\n",
       "        [array(['100'], dtype='<U3'),\n",
       "         array(['Homocysteine synthesis (need methionine)'], dtype='<U40'),\n",
       "         array(['AMINO ACIDS METABOLISM'], dtype='<U22'),\n",
       "         array(['HOMOCYSTEINE METABOLISM'], dtype='<U23')],\n",
       "        [array(['101'], dtype='<U3'),\n",
       "         array(['Homocysteine degradation'], dtype='<U24'),\n",
       "         array(['AMINO ACIDS METABOLISM'], dtype='<U22'),\n",
       "         array(['HOMOCYSTEINE METABOLISM'], dtype='<U23')],\n",
       "        [array(['102'], dtype='<U3'),\n",
       "         array(['Isoleucine degradation'], dtype='<U22'),\n",
       "         array(['AMINO ACIDS METABOLISM'], dtype='<U22'),\n",
       "         array(['ISOLEUCINE METABOLISM'], dtype='<U21')],\n",
       "        [array(['103'], dtype='<U3'),\n",
       "         array(['Leucine degradation'], dtype='<U19'),\n",
       "         array(['AMINO ACIDS METABOLISM'], dtype='<U22'),\n",
       "         array(['LEUCINE METABOLISM'], dtype='<U18')],\n",
       "        [array(['104'], dtype='<U3'),\n",
       "         array(['Conversion of leucine to acetyl-coA'], dtype='<U35'),\n",
       "         array(['AMINO ACIDS METABOLISM'], dtype='<U22'),\n",
       "         array(['LEUCINE METABOLISM'], dtype='<U18')],\n",
       "        [array(['105'], dtype='<U3'),\n",
       "         array(['Lysine degradation'], dtype='<U18'),\n",
       "         array(['AMINO ACIDS METABOLISM'], dtype='<U22'),\n",
       "         array(['LYSINE METABOLISM'], dtype='<U17')],\n",
       "        [array(['106'], dtype='<U3'),\n",
       "         array(['Conversion of lysine to L-Saccharopine'], dtype='<U38'),\n",
       "         array(['AMINO ACIDS METABOLISM'], dtype='<U22'),\n",
       "         array(['LYSINE METABOLISM'], dtype='<U17')],\n",
       "        [array(['107'], dtype='<U3'),\n",
       "         array(['Conversion of lysine to L-2-Aminoadipate'], dtype='<U40'),\n",
       "         array(['AMINO ACIDS METABOLISM'], dtype='<U22'),\n",
       "         array(['LYSINE METABOLISM'], dtype='<U17')],\n",
       "        [array(['108'], dtype='<U3'),\n",
       "         array(['Methionine degradation'], dtype='<U22'),\n",
       "         array(['AMINO ACIDS METABOLISM'], dtype='<U22'),\n",
       "         array(['METHIONINE METABOLISM'], dtype='<U21')],\n",
       "        [array(['109'], dtype='<U3'),\n",
       "         array(['S-adenosyl-L-methionine synthesis'], dtype='<U33'),\n",
       "         array(['AMINO ACIDS METABOLISM'], dtype='<U22'),\n",
       "         array(['METHIONINE METABOLISM'], dtype='<U21')],\n",
       "        [array(['110'], dtype='<U3'),\n",
       "         array(['Ornithine degradation'], dtype='<U21'),\n",
       "         array(['AMINO ACIDS METABOLISM'], dtype='<U22'),\n",
       "         array(['ORNITHINE METABOLISM'], dtype='<U20')],\n",
       "        [array(['111'], dtype='<U3'),\n",
       "         array(['Synthesis of ornithine from glutamine'], dtype='<U37'),\n",
       "         array(['AMINO ACIDS METABOLISM'], dtype='<U22'),\n",
       "         array(['ORNITHINE METABOLISM'], dtype='<U20')],\n",
       "        [array(['112'], dtype='<U3'),\n",
       "         array(['Synthesis of spermidine from ornithine'], dtype='<U38'),\n",
       "         array(['AMINO ACIDS METABOLISM'], dtype='<U22'),\n",
       "         array(['ORNITHINE METABOLISM'], dtype='<U20')],\n",
       "        [array(['113'], dtype='<U3'),\n",
       "         array(['Serine synthesis'], dtype='<U16'),\n",
       "         array(['AMINO ACIDS METABOLISM'], dtype='<U22'),\n",
       "         array(['SERINE METABOLISM'], dtype='<U17')],\n",
       "        [array(['114'], dtype='<U3'),\n",
       "         array(['Serine degradation'], dtype='<U18'),\n",
       "         array(['AMINO ACIDS METABOLISM'], dtype='<U22'),\n",
       "         array(['SERINE METABOLISM'], dtype='<U17')],\n",
       "        [array(['115'], dtype='<U3'),\n",
       "         array(['Phenylalanine degradation'], dtype='<U25'),\n",
       "         array(['AMINO ACIDS METABOLISM'], dtype='<U22'),\n",
       "         array(['PHENYLALANINE METABOLISM'], dtype='<U24')],\n",
       "        [array(['116'], dtype='<U3'),\n",
       "         array(['Phenylalanine to phenylacetaldehyde'], dtype='<U35'),\n",
       "         array(['AMINO ACIDS METABOLISM'], dtype='<U22'),\n",
       "         array(['PHENYLALANINE METABOLISM'], dtype='<U24')],\n",
       "        [array(['117'], dtype='<U3'),\n",
       "         array(['Phenylalanine to phenylacetyl-L-glutaminate'], dtype='<U43'),\n",
       "         array(['AMINO ACIDS METABOLISM'], dtype='<U22'),\n",
       "         array(['PHENYLALANINE METABOLISM'], dtype='<U24')],\n",
       "        [array(['118'], dtype='<U3'),\n",
       "         array(['Phenylalanine to tyrosine'], dtype='<U25'),\n",
       "         array(['AMINO ACIDS METABOLISM'], dtype='<U22'),\n",
       "         array(['PHENYLALANINE METABOLISM'], dtype='<U24')],\n",
       "        [array(['119'], dtype='<U3'),\n",
       "         array(['Proline synthesis'], dtype='<U17'),\n",
       "         array(['AMINO ACIDS METABOLISM'], dtype='<U22'),\n",
       "         array(['PROLINE METABOLISM'], dtype='<U18')],\n",
       "        [array(['120'], dtype='<U3'),\n",
       "         array(['Proline degradation'], dtype='<U19'),\n",
       "         array(['AMINO ACIDS METABOLISM'], dtype='<U22'),\n",
       "         array(['PROLINE METABOLISM'], dtype='<U18')],\n",
       "        [array(['121'], dtype='<U3'),\n",
       "         array(['Synthesis of proline from glutamine'], dtype='<U35'),\n",
       "         array(['AMINO ACIDS METABOLISM'], dtype='<U22'),\n",
       "         array(['PROLINE METABOLISM'], dtype='<U18')],\n",
       "        [array(['122'], dtype='<U3'),\n",
       "         array(['Threonine degradation'], dtype='<U21'),\n",
       "         array(['AMINO ACIDS METABOLISM'], dtype='<U22'),\n",
       "         array(['THREONINE METABOLISM'], dtype='<U20')],\n",
       "        [array(['123'], dtype='<U3'),\n",
       "         array(['Tryptophan degradation'], dtype='<U22'),\n",
       "         array(['AMINO ACIDS METABOLISM'], dtype='<U22'),\n",
       "         array(['TRYPTOPHAN METABOLISM'], dtype='<U21')],\n",
       "        [array(['124'], dtype='<U3'),\n",
       "         array(['Synthesis of anthranilate from tryptophan'], dtype='<U41'),\n",
       "         array(['AMINO ACIDS METABOLISM'], dtype='<U22'),\n",
       "         array(['TRYPTOPHAN METABOLISM'], dtype='<U21')],\n",
       "        [array(['125'], dtype='<U3'),\n",
       "         array(['Synthesis of kynate from tryptophan'], dtype='<U35'),\n",
       "         array(['AMINO ACIDS METABOLISM'], dtype='<U22'),\n",
       "         array(['TRYPTOPHAN METABOLISM'], dtype='<U21')],\n",
       "        [array(['126'], dtype='<U3'),\n",
       "         array(['Synthesis of L-kynurenine from tryptophan'], dtype='<U41'),\n",
       "         array(['AMINO ACIDS METABOLISM'], dtype='<U22'),\n",
       "         array(['TRYPTOPHAN METABOLISM'], dtype='<U21')],\n",
       "        [array(['127'], dtype='<U3'),\n",
       "         array(['Synthesis of N-formylanthranilate from tryptophan'], dtype='<U49'),\n",
       "         array(['AMINO ACIDS METABOLISM'], dtype='<U22'),\n",
       "         array(['TRYPTOPHAN METABOLISM'], dtype='<U21')],\n",
       "        [array(['128'], dtype='<U3'),\n",
       "         array(['Synthesis of quinolinate from tryptophan'], dtype='<U40'),\n",
       "         array(['AMINO ACIDS METABOLISM'], dtype='<U22'),\n",
       "         array(['TRYPTOPHAN METABOLISM'], dtype='<U21')],\n",
       "        [array(['129'], dtype='<U3'),\n",
       "         array(['Synthesis of serotonin from tryptophan'], dtype='<U38'),\n",
       "         array(['AMINO ACIDS METABOLISM'], dtype='<U22'),\n",
       "         array(['TRYPTOPHAN METABOLISM'], dtype='<U21')],\n",
       "        [array(['130'], dtype='<U3'),\n",
       "         array(['Tyrosine synthesis (need phenylalanine)'], dtype='<U39'),\n",
       "         array(['AMINO ACIDS METABOLISM'], dtype='<U22'),\n",
       "         array(['TYROSINE METABOLISM'], dtype='<U19')],\n",
       "        [array(['131'], dtype='<U3'),\n",
       "         array(['Tyrosine degradation'], dtype='<U20'),\n",
       "         array(['AMINO ACIDS METABOLISM'], dtype='<U22'),\n",
       "         array(['TYROSINE METABOLISM'], dtype='<U19')],\n",
       "        [array(['132'], dtype='<U3'),\n",
       "         array(['Tyrosine to adrenaline'], dtype='<U22'),\n",
       "         array(['AMINO ACIDS METABOLISM'], dtype='<U22'),\n",
       "         array(['TYROSINE METABOLISM'], dtype='<U19')],\n",
       "        [array(['133'], dtype='<U3'),\n",
       "         array(['Tyrosine to dopamine'], dtype='<U20'),\n",
       "         array(['AMINO ACIDS METABOLISM'], dtype='<U22'),\n",
       "         array(['TYROSINE METABOLISM'], dtype='<U19')],\n",
       "        [array(['134'], dtype='<U3'),\n",
       "         array(['Tyrosine to acetoacetate and fumarate'], dtype='<U37'),\n",
       "         array(['AMINO ACIDS METABOLISM'], dtype='<U22'),\n",
       "         array(['TYROSINE METABOLISM'], dtype='<U19')],\n",
       "        [array(['135'], dtype='<U3'),\n",
       "         array(['Valine degradation'], dtype='<U18'),\n",
       "         array(['AMINO ACIDS METABOLISM'], dtype='<U22'),\n",
       "         array(['VALINE METABOLISM'], dtype='<U17')],\n",
       "        [array(['136'], dtype='<U3'),\n",
       "         array(['Valine to succinyl-coA'], dtype='<U22'),\n",
       "         array(['AMINO ACIDS METABOLISM'], dtype='<U22'),\n",
       "         array(['VALINE METABOLISM'], dtype='<U17')],\n",
       "        [array(['137'], dtype='<U3'),\n",
       "         array(['Hydroxymethylglutaryl-CoA synthesis'], dtype='<U35'),\n",
       "         array(['LIPIDS METABOLISM'], dtype='<U17'),\n",
       "         array(['CHOLESTEROL METABOLISM'], dtype='<U22')],\n",
       "        [array(['138'], dtype='<U3'),\n",
       "         array(['Cholesterol synthesis'], dtype='<U21'),\n",
       "         array(['LIPIDS METABOLISM'], dtype='<U17'),\n",
       "         array(['CHOLESTEROL METABOLISM'], dtype='<U22')],\n",
       "        [array(['139'], dtype='<U3'),\n",
       "         array(['Acetoacetate synthesis'], dtype='<U22'),\n",
       "         array(['LIPIDS METABOLISM'], dtype='<U17'),\n",
       "         array(['CHOLESTEROL METABOLISM'], dtype='<U22')],\n",
       "        [array(['140'], dtype='<U3'),\n",
       "         array(['Mevalonate synthesis'], dtype='<U20'),\n",
       "         array(['LIPIDS METABOLISM'], dtype='<U17'),\n",
       "         array(['CHOLESTEROL METABOLISM'], dtype='<U22')],\n",
       "        [array(['141'], dtype='<U3'),\n",
       "         array(['Farnesyl-pyrophosphate synthesis'], dtype='<U32'),\n",
       "         array(['LIPIDS METABOLISM'], dtype='<U17'),\n",
       "         array(['CHOLESTEROL METABOLISM'], dtype='<U22')],\n",
       "        [array(['142'], dtype='<U3'),\n",
       "         array(['Glycerol-3-phosphate synthesis'], dtype='<U30'),\n",
       "         array(['LIPIDS METABOLISM'], dtype='<U17'),\n",
       "         array(['GLYCEROPHOSPHOLIPID METABOLISM'], dtype='<U30')],\n",
       "        [array(['143'], dtype='<U3'),\n",
       "         array(['Phosphatidyl-choline synthesis'], dtype='<U30'),\n",
       "         array(['LIPIDS METABOLISM'], dtype='<U17'),\n",
       "         array(['GLYCEROPHOSPHOLIPID METABOLISM'], dtype='<U30')],\n",
       "        [array(['144'], dtype='<U3'),\n",
       "         array(['Phosphatidyl-ethanolamine synthesis'], dtype='<U35'),\n",
       "         array(['LIPIDS METABOLISM'], dtype='<U17'),\n",
       "         array(['GLYCEROPHOSPHOLIPID METABOLISM'], dtype='<U30')],\n",
       "        [array(['145'], dtype='<U3'),\n",
       "         array(['Phosphatidyl-serine synthesis'], dtype='<U29'),\n",
       "         array(['LIPIDS METABOLISM'], dtype='<U17'),\n",
       "         array(['GLYCEROPHOSPHOLIPID METABOLISM'], dtype='<U30')],\n",
       "        [array(['146'], dtype='<U3'),\n",
       "         array(['Phosphatidyl-inositol synthesis'], dtype='<U31'),\n",
       "         array(['LIPIDS METABOLISM'], dtype='<U17'),\n",
       "         array(['GLYCEROPHOSPHOLIPID METABOLISM'], dtype='<U30')],\n",
       "        [array(['147'], dtype='<U3'),\n",
       "         array(['Cardiolipin synthesis'], dtype='<U21'),\n",
       "         array(['LIPIDS METABOLISM'], dtype='<U17'),\n",
       "         array(['GLYCEROPHOSPHOLIPID METABOLISM'], dtype='<U30')],\n",
       "        [array(['148'], dtype='<U3'),\n",
       "         array(['Triacylglycerol synthesis'], dtype='<U25'),\n",
       "         array(['LIPIDS METABOLISM'], dtype='<U17'),\n",
       "         array(['TRIACYLGLYCEROL METABOLISM'], dtype='<U26')],\n",
       "        [array(['149'], dtype='<U3'),\n",
       "         array(['Sphingomyelin synthesis'], dtype='<U23'),\n",
       "         array(['LIPIDS METABOLISM'], dtype='<U17'),\n",
       "         array(['SPHINGOLIPID METABOLISM'], dtype='<U23')],\n",
       "        [array(['150'], dtype='<U3'),\n",
       "         array(['Ceramide synthesis'], dtype='<U18'),\n",
       "         array(['LIPIDS METABOLISM'], dtype='<U17'),\n",
       "         array(['SPHINGOLIPID METABOLISM'], dtype='<U23')],\n",
       "        [array(['151'], dtype='<U3'),\n",
       "         array(['Palmitate synthesis'], dtype='<U19'),\n",
       "         array(['LIPIDS METABOLISM'], dtype='<U17'),\n",
       "         array(['FATTY ACID METABOLISM'], dtype='<U21')],\n",
       "        [array(['152'], dtype='<U3'),\n",
       "         array(['Palmitate degradation'], dtype='<U21'),\n",
       "         array(['LIPIDS METABOLISM'], dtype='<U17'),\n",
       "         array(['FATTY ACID METABOLISM'], dtype='<U21')],\n",
       "        [array(['153'], dtype='<U3'),\n",
       "         array(['Palmitolate synthesis'], dtype='<U21'),\n",
       "         array(['LIPIDS METABOLISM'], dtype='<U17'),\n",
       "         array(['FATTY ACID METABOLISM'], dtype='<U21')],\n",
       "        [array(['154'], dtype='<U3'),\n",
       "         array(['Palmitolate degradation'], dtype='<U23'),\n",
       "         array(['LIPIDS METABOLISM'], dtype='<U17'),\n",
       "         array(['FATTY ACID METABOLISM'], dtype='<U21')],\n",
       "        [array(['155'], dtype='<U3'),\n",
       "         array(['cis-vaccenic acid synthesis'], dtype='<U27'),\n",
       "         array(['LIPIDS METABOLISM'], dtype='<U17'),\n",
       "         array(['FATTY ACID METABOLISM'], dtype='<U21')],\n",
       "        [array(['156'], dtype='<U3'),\n",
       "         array(['cis-vaccenic acid degradation'], dtype='<U29'),\n",
       "         array(['LIPIDS METABOLISM'], dtype='<U17'),\n",
       "         array(['FATTY ACID METABOLISM'], dtype='<U21')],\n",
       "        [array(['157'], dtype='<U3'),\n",
       "         array(['Elaidate synthesis'], dtype='<U18'),\n",
       "         array(['LIPIDS METABOLISM'], dtype='<U17'),\n",
       "         array(['FATTY ACID METABOLISM'], dtype='<U21')],\n",
       "        [array(['158'], dtype='<U3'),\n",
       "         array(['Elaidate degradation'], dtype='<U20'),\n",
       "         array(['LIPIDS METABOLISM'], dtype='<U17'),\n",
       "         array(['FATTY ACID METABOLISM'], dtype='<U21')],\n",
       "        [array(['159'], dtype='<U3'),\n",
       "         array(['Linolenate degradation'], dtype='<U22'),\n",
       "         array(['LIPIDS METABOLISM'], dtype='<U17'),\n",
       "         array(['FATTY ACID METABOLISM'], dtype='<U21')],\n",
       "        [array(['160'], dtype='<U3'),\n",
       "         array(['Linoleate degradation'], dtype='<U21'),\n",
       "         array(['LIPIDS METABOLISM'], dtype='<U17'),\n",
       "         array(['FATTY ACID METABOLISM'], dtype='<U21')],\n",
       "        [array(['161'], dtype='<U3'),\n",
       "         array(['gamma-Linolenate synthesis'], dtype='<U26'),\n",
       "         array(['LIPIDS METABOLISM'], dtype='<U17'),\n",
       "         array(['FATTY ACID METABOLISM'], dtype='<U21')],\n",
       "        [array(['162'], dtype='<U3'),\n",
       "         array(['gamma-Linolenate degradation'], dtype='<U28'),\n",
       "         array(['LIPIDS METABOLISM'], dtype='<U17'),\n",
       "         array(['FATTY ACID METABOLISM'], dtype='<U21')],\n",
       "        [array(['163'], dtype='<U3'),\n",
       "         array(['Arachidonate synthesis'], dtype='<U22'),\n",
       "         array(['LIPIDS METABOLISM'], dtype='<U17'),\n",
       "         array(['FATTY ACID METABOLISM'], dtype='<U21')],\n",
       "        [array(['164'], dtype='<U3'),\n",
       "         array(['Arachidonate degradation'], dtype='<U24'),\n",
       "         array(['LIPIDS METABOLISM'], dtype='<U17'),\n",
       "         array(['FATTY ACID METABOLISM'], dtype='<U21')],\n",
       "        [array(['165'], dtype='<U3'),\n",
       "         array(['Synthesis of malonyl-coa'], dtype='<U24'),\n",
       "         array(['LIPIDS METABOLISM'], dtype='<U17'),\n",
       "         array(['FATTY ACID METABOLISM'], dtype='<U21')],\n",
       "        [array(['166'], dtype='<U3'),\n",
       "         array(['Synthesis of palmitoyl-CoA'], dtype='<U26'),\n",
       "         array(['LIPIDS METABOLISM'], dtype='<U17'),\n",
       "         array(['FATTY ACID METABOLISM'], dtype='<U21')],\n",
       "        [array(['167'], dtype='<U3'),\n",
       "         array(['Taurochenodeoxycholate synthesis'], dtype='<U32'),\n",
       "         array(['LIPIDS METABOLISM'], dtype='<U17'),\n",
       "         array(['BILE ACID SYNTHESIS'], dtype='<U19')],\n",
       "        [array(['168'], dtype='<U3'),\n",
       "         array(['Glycochenodeoxycholate synthesis'], dtype='<U32'),\n",
       "         array(['LIPIDS METABOLISM'], dtype='<U17'),\n",
       "         array(['BILE ACID SYNTHESIS'], dtype='<U19')],\n",
       "        [array(['169'], dtype='<U3'),\n",
       "         array(['tauro-cholate synthesis'], dtype='<U23'),\n",
       "         array(['LIPIDS METABOLISM'], dtype='<U17'),\n",
       "         array(['BILE ACID SYNTHESIS'], dtype='<U19')],\n",
       "        [array(['170'], dtype='<U3'),\n",
       "         array(['glyco-cholate synthesis'], dtype='<U23'),\n",
       "         array(['LIPIDS METABOLISM'], dtype='<U17'),\n",
       "         array(['BILE ACID SYNTHESIS'], dtype='<U19')],\n",
       "        [array(['171'], dtype='<U3'),\n",
       "         array(['Synthesis of thromboxane from arachidonate'], dtype='<U42'),\n",
       "         array(['LIPIDS METABOLISM'], dtype='<U17'),\n",
       "         array(['EICOSANOID METABOLISM'], dtype='<U21')],\n",
       "        [array(['172'], dtype='<U3'),\n",
       "         array(['Synthesis of galactosyl glucosyl ceramide (link with ganglioside metabolism)'],\n",
       "               dtype='<U76')                                                                    ,\n",
       "         array(['LIPIDS METABOLISM'], dtype='<U17'),\n",
       "         array(['GANGLIOSIDE METABOLISM'], dtype='<U22')],\n",
       "        [array(['173'], dtype='<U3'),\n",
       "         array(['Synthesis of glucocerebroside'], dtype='<U29'),\n",
       "         array(['LIPIDS METABOLISM'], dtype='<U17'),\n",
       "         array(['GANGLIOSIDE METABOLISM'], dtype='<U22')],\n",
       "        [array(['174'], dtype='<U3'),\n",
       "         array(['Synthesis of globoside (link with globoside metabolism)'],\n",
       "               dtype='<U55')                                               ,\n",
       "         array(['LIPIDS METABOLISM'], dtype='<U17'),\n",
       "         array(['GLOBOSIDE METABOLISM'], dtype='<U20')],\n",
       "        [array(['175'], dtype='<U3'),\n",
       "         array(['NAD synthesis from nicotinamide'], dtype='<U31'),\n",
       "         array(['VITAMIN & COFACTOR METABOLISM'], dtype='<U29'),\n",
       "         array(['COENZYME NAD BIOSYNTHESIS'], dtype='<U25')],\n",
       "        [array(['176'], dtype='<U3'),\n",
       "         array(['FAD synthesis'], dtype='<U13'),\n",
       "         array(['VITAMIN & COFACTOR METABOLISM'], dtype='<U29'),\n",
       "         array(['COENZYME FAD BIOSYNTHESIS'], dtype='<U25')],\n",
       "        [array(['177'], dtype='<U3'),\n",
       "         array(['Synthesis of coenzyme A'], dtype='<U23'),\n",
       "         array(['VITAMIN & COFACTOR METABOLISM'], dtype='<U29'),\n",
       "         array(['COENZYME A BIOSYNTHESIS'], dtype='<U23')],\n",
       "        [array(['178'], dtype='<U3'),\n",
       "         array(['Synthesis of ubiquinone from tyrosine'], dtype='<U37'),\n",
       "         array(['VITAMIN & COFACTOR METABOLISM'], dtype='<U29'),\n",
       "         array(['UBIQUINONE 10 BIOSYNTHESIS'], dtype='<U26')],\n",
       "        [array(['179'], dtype='<U3'),\n",
       "         array(['Tetrahydrofolate synthesis'], dtype='<U26'),\n",
       "         array(['VITAMIN & COFACTOR METABOLISM'], dtype='<U29'),\n",
       "         array(['FOLATE METABOLISM'], dtype='<U17')],\n",
       "        [array(['180'], dtype='<U3'),\n",
       "         array(['Pyridoxal-phosphate synthesis'], dtype='<U29'),\n",
       "         array(['VITAMIN & COFACTOR METABOLISM'], dtype='<U29'),\n",
       "         array(['VITAMIN B6 METABOLISM'], dtype='<U21')],\n",
       "        [array(['181'], dtype='<U3'),\n",
       "         array(['Synthesis of bilirubin'], dtype='<U22'),\n",
       "         array(['VITAMIN & COFACTOR METABOLISM'], dtype='<U29'),\n",
       "         array(['HEME METABOLISM'], dtype='<U15')],\n",
       "        [array(['182'], dtype='<U3'),\n",
       "         array(['Heme synthesis'], dtype='<U14'),\n",
       "         array(['VITAMIN & COFACTOR METABOLISM'], dtype='<U29'),\n",
       "         array(['HEME METABOLISM'], dtype='<U15')],\n",
       "        [array(['183'], dtype='<U3'),\n",
       "         array(['Phosphatidyl-inositol to glucosaminyl-acylphosphatidylinositol'],\n",
       "               dtype='<U62')                                                      ,\n",
       "         array(['GLYCAN METABOLISM'], dtype='<U17'),\n",
       "         array(['GPI ANCHOR BIOSYNTHESIS'], dtype='<U23')],\n",
       "        [array(['184'], dtype='<U3'),\n",
       "         array(['Glucosaminyl-acylphosphatidylinositoll to deacylated-glycophosphatidylinositol (GPI)-anchored protein'],\n",
       "               dtype='<U101')                                                                                            ,\n",
       "         array(['GLYCAN METABOLISM'], dtype='<U17'),\n",
       "         array(['GPI ANCHOR BIOSYNTHESIS'], dtype='<U23')],\n",
       "        [array(['185'], dtype='<U3'),\n",
       "         array(['Degradation of n2m2nmasn'], dtype='<U24'),\n",
       "         array(['GLYCAN METABOLISM'], dtype='<U17'),\n",
       "         array(['N-GLYCAN METABOLISM'], dtype='<U19')],\n",
       "        [array(['186'], dtype='<U3'),\n",
       "         array(['Biosynthesis of m4mpdol_U'], dtype='<U25'),\n",
       "         array(['GLYCAN METABOLISM'], dtype='<U17'),\n",
       "         array(['N-GLYCAN METABOLISM'], dtype='<U19')],\n",
       "        [array(['187'], dtype='<U3'),\n",
       "         array(['Biosynthesis of g3m8masn'], dtype='<U24'),\n",
       "         array(['GLYCAN METABOLISM'], dtype='<U17'),\n",
       "         array(['N-GLYCAN METABOLISM'], dtype='<U19')],\n",
       "        [array(['188'], dtype='<U3'),\n",
       "         array(['Degradation of s2l2fn2m2masn'], dtype='<U28'),\n",
       "         array(['GLYCAN METABOLISM'], dtype='<U17'),\n",
       "         array(['N-GLYCAN METABOLISM'], dtype='<U19')],\n",
       "        [array(['189'], dtype='<U3'),\n",
       "         array(['Biosynthesis of core2 (beta-D-Galactosyl-1,3-(N-acetyl-beta-D-glucosaminyl-1,6)-N-acetyl-D-galactosaminyl-R)'],\n",
       "               dtype='<U108')                                                                                                   ,\n",
       "         array(['GLYCAN METABOLISM'], dtype='<U17'),\n",
       "         array(['O-GLYCAN METABOLISM'], dtype='<U19')],\n",
       "        [array(['190'], dtype='<U3'),\n",
       "         array(['Biosynthesis of core4 (N-Acetyl-beta-D-glucosaminyl-1,6-(N-acetyl-beta-D-glucosaminyl-1,3)-N-acetyl-D-galactosaminyl-R)'],\n",
       "               dtype='<U119')                                                                                                              ,\n",
       "         array(['GLYCAN METABOLISM'], dtype='<U17'),\n",
       "         array(['O-GLYCAN METABOLISM'], dtype='<U19')],\n",
       "        [array(['191'], dtype='<U3'),\n",
       "         array(['Biosynthesis of Tn_antigen (Glycoprotein N-acetyl-D-galactosamine)'],\n",
       "               dtype='<U66')                                                          ,\n",
       "         array(['GLYCAN METABOLISM'], dtype='<U17'),\n",
       "         array(['O-GLYCAN METABOLISM'], dtype='<U19')],\n",
       "        [array(['192'], dtype='<U3'),\n",
       "         array(['Keratan sulfate biosynthesis from O-glycan (core 2-linked)'],\n",
       "               dtype='<U58')                                                  ,\n",
       "         array(['GLYCAN METABOLISM'], dtype='<U17'),\n",
       "         array(['KERATAN SULFATE METABOLISM'], dtype='<U26')],\n",
       "        [array(['193'], dtype='<U3'),\n",
       "         array(['Keratan sulfate biosynthesis from O-glycan (core 4-linked)'],\n",
       "               dtype='<U58')                                                  ,\n",
       "         array(['GLYCAN METABOLISM'], dtype='<U17'),\n",
       "         array(['KERATAN SULFATE METABOLISM'], dtype='<U26')],\n",
       "        [array(['194'], dtype='<U3'),\n",
       "         array(['Keratan sulfate degradation'], dtype='<U27'),\n",
       "         array(['GLYCAN METABOLISM'], dtype='<U17'),\n",
       "         array(['KERATAN SULFATE METABOLISM'], dtype='<U26')],\n",
       "        [array(['195'], dtype='<U3'),\n",
       "         array(['Keratan sulfate biosynthesis from N-glycan'], dtype='<U42'),\n",
       "         array(['GLYCAN METABOLISM'], dtype='<U17'),\n",
       "         array(['KERATAN SULFATE METABOLISM'], dtype='<U26')],\n",
       "        [array(['sec_1'], dtype='<U5'),\n",
       "         array(['Co-translational translocation'], dtype='<U30'),\n",
       "         array(['Translocation'], dtype='<U13'),\n",
       "         array(['Translocation'], dtype='<U13')],\n",
       "        [array(['sec_2'], dtype='<U5'),\n",
       "         array(['Post translational translocation'], dtype='<U32'),\n",
       "         array(['Translocation'], dtype='<U13'),\n",
       "         array(['Translocation'], dtype='<U13')],\n",
       "        [array(['sec_3'], dtype='<U5'),\n",
       "         array(['GPI-anchor'], dtype='<U10'),\n",
       "         array(['Processing in the ER'], dtype='<U20'),\n",
       "         array(['PTMs'], dtype='<U4')],\n",
       "        [array(['sec_4'], dtype='<U5'),\n",
       "         array(['N-linked glycosylation'], dtype='<U22'),\n",
       "         array(['Processing in the ER'], dtype='<U20'),\n",
       "         array(['PTMs'], dtype='<U4')],\n",
       "        [array(['sec_5'], dtype='<U5'),\n",
       "         array(['Disulfide bond formation'], dtype='<U24'),\n",
       "         array(['Processing in the ER'], dtype='<U20'),\n",
       "         array(['PTMs'], dtype='<U4')],\n",
       "        [array(['sec_6'], dtype='<U5'),\n",
       "         array(['N-glycan processing (ER)'], dtype='<U24'),\n",
       "         array(['Processing in the ER'], dtype='<U20'),\n",
       "         array(['Protein folding'], dtype='<U15')],\n",
       "        [array(['sec_7'], dtype='<U5'),\n",
       "         array(['Calnexin/calreticulin cycle'], dtype='<U27'),\n",
       "         array(['Processing in the ER'], dtype='<U20'),\n",
       "         array(['Protein folding'], dtype='<U15')],\n",
       "        [array(['sec_8'], dtype='<U5'),\n",
       "         array(['Recognition of misfolded protein'], dtype='<U32'),\n",
       "         array(['Proteostasis'], dtype='<U12'),\n",
       "         array(['ERAD'], dtype='<U4')],\n",
       "        [array(['sec_9'], dtype='<U5'),\n",
       "         array(['Retro-translocation & substrate ubiquitination'], dtype='<U46'),\n",
       "         array(['Proteostasis'], dtype='<U12'),\n",
       "         array(['ERAD'], dtype='<U4')],\n",
       "        [array(['sec_10'], dtype='<U6'),\n",
       "         array(['Proteasome degradation'], dtype='<U22'),\n",
       "         array(['Proteostasis'], dtype='<U12'),\n",
       "         array(['ERAD'], dtype='<U4')],\n",
       "        [array(['sec_11'], dtype='<U6'),\n",
       "         array(['Branching (N-acetylglucosaminyltransferases)'], dtype='<U44'),\n",
       "         array(['Processing in the Golgi'], dtype='<U23'),\n",
       "         array(['N-glycan processing (Golgi)'], dtype='<U27')],\n",
       "        [array(['sec_12'], dtype='<U6'),\n",
       "         array(['Fucosylation (addition of fucose)'], dtype='<U33'),\n",
       "         array(['Processing in the Golgi'], dtype='<U23'),\n",
       "         array(['N-glycan processing (Golgi)'], dtype='<U27')],\n",
       "        [array(['sec_13'], dtype='<U6'),\n",
       "         array(['Galactosylation (addition of galactose)'], dtype='<U39'),\n",
       "         array(['Processing in the Golgi'], dtype='<U23'),\n",
       "         array(['N-glycan processing (Golgi)'], dtype='<U27')],\n",
       "        [array(['sec_14'], dtype='<U6'),\n",
       "         array(['Sialylation (addition of sialic acid)'], dtype='<U37'),\n",
       "         array(['Processing in the Golgi'], dtype='<U23'),\n",
       "         array(['N-glycan processing (Golgi)'], dtype='<U27')],\n",
       "        [array(['sec_15'], dtype='<U6'),\n",
       "         array(['Mannose trimming (mannosidase)'], dtype='<U30'),\n",
       "         array(['Processing in the Golgi'], dtype='<U23'),\n",
       "         array(['N-glycan processing (Golgi)'], dtype='<U27')],\n",
       "        [array(['sec_16'], dtype='<U6'),\n",
       "         array(['O-linked glycosylation'], dtype='<U22'),\n",
       "         array(['Processing in the Golgi'], dtype='<U23'),\n",
       "         array(['O-glycan processing (Golgi)'], dtype='<U27')],\n",
       "        [array(['sec_17'], dtype='<U6'),\n",
       "         array(['Trafficking to endosomes (Clathrin Vesicles)'], dtype='<U44'),\n",
       "         array(['Vesicle trafficking'], dtype='<U19'),\n",
       "         array(['Endosomal trafficking'], dtype='<U21')],\n",
       "        [array(['sec_18'], dtype='<U6'),\n",
       "         array(['COPI mediated retrograde transport'], dtype='<U34'),\n",
       "         array(['Vesicle trafficking'], dtype='<U19'),\n",
       "         array(['Golgi to ER trafficking (COPI)'], dtype='<U30')],\n",
       "        [array(['sec_19'], dtype='<U6'),\n",
       "         array(['COPII-LMAN1 mediated anterograde transport'], dtype='<U42'),\n",
       "         array(['Vesicle trafficking'], dtype='<U19'),\n",
       "         array(['ER to Golgi trafficking (COPII)'], dtype='<U31')],\n",
       "        [array(['sec_20'], dtype='<U6'),\n",
       "         array(['COPII-LMAN2 mediated anterograde transport'], dtype='<U42'),\n",
       "         array(['Vesicle trafficking'], dtype='<U19'),\n",
       "         array(['ER to Golgi trafficking (COPII)'], dtype='<U31')],\n",
       "        [array(['sec_21'], dtype='<U6'),\n",
       "         array(['Vesicle secretion'], dtype='<U17'),\n",
       "         array(['Vesicle trafficking'], dtype='<U19'),\n",
       "         array(['Vesicle secretion'], dtype='<U17')]], dtype=object)}"
      ]
     },
     "execution_count": 11,
     "metadata": {},
     "output_type": "execute_result"
    }
   ],
   "source": [
    "mat"
   ]
  },
  {
   "cell_type": "code",
   "execution_count": 12,
   "id": "bdf3381b",
   "metadata": {
    "tags": []
   },
   "outputs": [
    {
     "data": {
      "text/plain": [
       "array([array(['1'], dtype='<U1'),\n",
       "       array(['Oxidative phosphorylation via NADH-coenzyme Q oxidoreductase (COMPLEX I)'],\n",
       "             dtype='<U72')                                                                ,\n",
       "       array(['ENERGY METABOLISM'], dtype='<U17'),\n",
       "       array(['OXYDATIVE PHOSPHORYLATION'], dtype='<U25')], dtype=object)"
      ]
     },
     "execution_count": 12,
     "metadata": {},
     "output_type": "execute_result"
    }
   ],
   "source": [
    "mat['taskInfos'][0]"
   ]
  },
  {
   "cell_type": "code",
   "execution_count": 13,
   "id": "a93da582",
   "metadata": {
    "tags": []
   },
   "outputs": [],
   "source": [
    "records = []\n",
    "\n",
    "for i, task in enumerate(mat['taskInfos']):\n",
    "    name = task[1][0]\n",
    "    system = task[2][0]\n",
    "    subsystem = task[3][0]\n",
    "    \n",
    "    records.append((name, system, subsystem))"
   ]
  },
  {
   "cell_type": "code",
   "execution_count": 14,
   "id": "2f56fa69",
   "metadata": {
    "tags": []
   },
   "outputs": [
    {
     "data": {
      "text/plain": [
       "[('Oxidative phosphorylation via NADH-coenzyme Q oxidoreductase (COMPLEX I)',\n",
       "  'ENERGY METABOLISM',\n",
       "  'OXYDATIVE PHOSPHORYLATION'),\n",
       " ('Oxidative phosphorylation via succinate-coenzyme Q oxidoreductase (COMPLEX II)',\n",
       "  'ENERGY METABOLISM',\n",
       "  'OXYDATIVE PHOSPHORYLATION'),\n",
       " ('Krebs cycle - oxidative decarboxylation of pyruvate',\n",
       "  'ENERGY METABOLISM',\n",
       "  'KREBS CYCLE'),\n",
       " ('Krebs cycle - NADH generation', 'ENERGY METABOLISM', 'KREBS CYCLE'),\n",
       " ('ATP regeneration from glucose (normoxic conditions) - glycolysis + krebs cycle',\n",
       "  'ENERGY METABOLISM',\n",
       "  'ATP GENERATION'),\n",
       " ('ATP generation from glucose (hypoxic conditions) - glycolysis',\n",
       "  'ENERGY METABOLISM',\n",
       "  'ATP GENERATION'),\n",
       " ('Reactive oxygen species detoxification (H2O2 to H2O)',\n",
       "  'ENERGY METABOLISM',\n",
       "  'OXIDATIVE PHOSPHORYLATION & ROS DETOXIFICATION'),\n",
       " ('Presence of the thioredoxin system through the thioredoxin reductase activity',\n",
       "  'ENERGY METABOLISM',\n",
       "  'REDOX METABOLISM'),\n",
       " ('Inosine monophosphate synthesis (IMP)',\n",
       "  'NUCLEOTIDE METABOLISM',\n",
       "  'IMP SYNTHESIS / PURINE METABOLISM'),\n",
       " ('Cytidine triphosphate synthesis (CTP)',\n",
       "  'NUCLEOTIDE METABOLISM',\n",
       "  'UMP SYNTHESIS'),\n",
       " ('Guanosine triphosphate synthesis (GTP)',\n",
       "  'NUCLEOTIDE METABOLISM',\n",
       "  'IMP SYNTHESIS / PURINE METABOLISM'),\n",
       " ('Uridine triphosphate synthesis (UTP)',\n",
       "  'NUCLEOTIDE METABOLISM',\n",
       "  'UMP SYNTHESIS'),\n",
       " ('Deoxyadenosine triphosphate synthesis (dATP)',\n",
       "  'NUCLEOTIDE METABOLISM',\n",
       "  'DEOXYNUCLEOTIDES SYNTHESIS'),\n",
       " ('Deoxycytidine triphosphate synthesis (dCTP)',\n",
       "  'NUCLEOTIDE METABOLISM',\n",
       "  'DEOXYNUCLEOTIDES SYNTHESIS'),\n",
       " ('Deoxyguanosine triphosphate synthesis (dGTP)',\n",
       "  'NUCLEOTIDE METABOLISM',\n",
       "  'DEOXYNUCLEOTIDES SYNTHESIS'),\n",
       " ('Deoxyuridine triphosphate synthesis (dUTP)',\n",
       "  'NUCLEOTIDE METABOLISM',\n",
       "  'DEOXYNUCLEOTIDES SYNTHESIS'),\n",
       " ('Deoxythymidine triphosphate synthesis (dTTP)',\n",
       "  'NUCLEOTIDE METABOLISM',\n",
       "  'DEOXYNUCLEOTIDES SYNTHESIS'),\n",
       " ('AMP salvage from adenine', 'NUCLEOTIDE METABOLISM', 'SALVAGE'),\n",
       " ('IMP salvage from hypoxanthine', 'NUCLEOTIDE METABOLISM', 'SALVAGE'),\n",
       " ('GMP salvage from guanine', 'NUCLEOTIDE METABOLISM', 'SALVAGE'),\n",
       " (\"3'-Phospho-5'-adenylyl sulfate synthesis\",\n",
       "  'NUCLEOTIDE METABOLISM',\n",
       "  'COFACTOR'),\n",
       " ('Degradation of adenine to urate',\n",
       "  'NUCLEOTIDE METABOLISM',\n",
       "  'PURINE CATABOLISM'),\n",
       " ('Degradation of guanine to urate',\n",
       "  'NUCLEOTIDE METABOLISM',\n",
       "  'PURINE CATABOLISM'),\n",
       " ('Degradation of cytosine', 'NUCLEOTIDE METABOLISM', 'PYRIMIDINE CATABOLISM'),\n",
       " ('Degradation of uracil', 'NUCLEOTIDE METABOLISM', 'PYRIMIDINE CATABOLISM'),\n",
       " ('Gluconeogenesis from pyruvate',\n",
       "  'CARBOHYDRATES METABOLISM',\n",
       "  'GLUCONEOGENESIS'),\n",
       " ('Gluconeogenesis from Lactate',\n",
       "  'CARBOHYDRATES METABOLISM',\n",
       "  'GLUCONEOGENESIS'),\n",
       " ('Gluconeogenesis from Glycerol',\n",
       "  'CARBOHYDRATES METABOLISM',\n",
       "  'GLUCONEOGENESIS'),\n",
       " ('Gluconeogenesis from Alanine',\n",
       "  'CARBOHYDRATES METABOLISM',\n",
       "  'GLUCONEOGENESIS'),\n",
       " ('Gluconeogenesis from Glutamine',\n",
       "  'CARBOHYDRATES METABOLISM',\n",
       "  'GLUCONEOGENESIS'),\n",
       " ('Ethanol to acetaldehyde',\n",
       "  'CARBOHYDRATES METABOLISM',\n",
       "  'GLYCOLYSIS/GLUCONEOGENESIS'),\n",
       " ('Glucose to lactate conversion',\n",
       "  'CARBOHYDRATES METABOLISM',\n",
       "  'PYRUVATE METABOLISM'),\n",
       " ('Malate to pyruvate conversion',\n",
       "  'CARBOHYDRATES METABOLISM',\n",
       "  'PYRUVATE METABOLISM'),\n",
       " ('Synthesis of fructose-6-phosphate from erythrose-4-phosphate (HMP shunt)',\n",
       "  'CARBOHYDRATES METABOLISM',\n",
       "  'PENTOSE PHOSPHATE PATHWAY'),\n",
       " ('Synthesis of ribose-5-phosphate',\n",
       "  'CARBOHYDRATES METABOLISM',\n",
       "  'PENTOSE PHOSPHATE PATHWAY'),\n",
       " ('Synthesis of lactose', 'CARBOHYDRATES METABOLISM', 'GALACTOSE METABOLISM'),\n",
       " ('Glycogen biosynthesis', 'CARBOHYDRATES METABOLISM', 'GLYCOGEN METABOLISM'),\n",
       " ('Glycogen degradation', 'CARBOHYDRATES METABOLISM', 'GLYCOGEN METABOLISM'),\n",
       " ('Fructose degradation (to glucose-3-phosphate)',\n",
       "  'CARBOHYDRATES METABOLISM',\n",
       "  'FRUCTOSE METABOLISM'),\n",
       " ('Fructose to glucose conversion (via fructose-6-phosphate)',\n",
       "  'CARBOHYDRATES METABOLISM',\n",
       "  'FRUCTOSE METABOLISM'),\n",
       " ('UDP-glucose synthesis', 'CARBOHYDRATES METABOLISM', 'NUCLEOTIDE SUGAR'),\n",
       " ('UDP-galactose synthesis', 'CARBOHYDRATES METABOLISM', 'NUCLEOTIDE SUGAR'),\n",
       " ('UDP-glucuronate synthesis', 'CARBOHYDRATES METABOLISM', 'NUCLEOTIDE SUGAR'),\n",
       " ('GDP-L-fucose synthesis', 'CARBOHYDRATES METABOLISM', 'FUCOSE METABOLISM'),\n",
       " ('Mannose degradation (to fructose-6-phosphate)',\n",
       "  'CARBOHYDRATES METABOLISM',\n",
       "  'MANNOSE METABOLISM'),\n",
       " ('GDP-mannose synthesis', 'CARBOHYDRATES METABOLISM', 'MANNOSE METABOLISM'),\n",
       " ('UDP-N-acetyl D-galactosamine synthesis',\n",
       "  'CARBOHYDRATES METABOLISM',\n",
       "  'AMINO SUGARS METABOLISM'),\n",
       " ('CMP-N-acetylneuraminate synthesis',\n",
       "  'CARBOHYDRATES METABOLISM',\n",
       "  'AMINO SUGARS METABOLISM'),\n",
       " ('N-Acetylglucosamine synthesis',\n",
       "  'CARBOHYDRATES METABOLISM',\n",
       "  'AMINO SUGARS METABOLISM'),\n",
       " ('Glucuronate synthesis (via inositol)',\n",
       "  'CARBOHYDRATES METABOLISM',\n",
       "  'PENTOSE AND GLUCURONATE INTERCONVERSION'),\n",
       " ('Glucuronate synthesis (via udp-glucose)',\n",
       "  'CARBOHYDRATES METABOLISM',\n",
       "  'PENTOSE AND GLUCURONATE INTERCONVERSION'),\n",
       " ('Synthesis of acetone', 'CARBOHYDRATES METABOLISM', 'KETOGENESIS'),\n",
       " ('(R)-3-Hydroxybutanoate synthesis',\n",
       "  'CARBOHYDRATES METABOLISM',\n",
       "  'KETOGENESIS'),\n",
       " ('Synthesis of inositol',\n",
       "  'CARBOHYDRATES METABOLISM',\n",
       "  'PHOSPHATE INOSITOL METABOLISM'),\n",
       " ('Inositol as input for glucuronate-xylulose pathway',\n",
       "  'CARBOHYDRATES METABOLISM',\n",
       "  'PHOSPHATE INOSITOL METABOLISM'),\n",
       " ('Synthesis of phosphatidylinositol from inositol',\n",
       "  'CARBOHYDRATES METABOLISM',\n",
       "  'PHOSPHATE INOSITOL METABOLISM'),\n",
       " ('Conversion of 1-phosphatidyl-1D-myo-inositol 4,5-bisphosphate to 1D-myo-inositol 1,4,5-trisphosphate',\n",
       "  'CARBOHYDRATES METABOLISM',\n",
       "  'PHOSPHATE INOSITOL METABOLISM'),\n",
       " ('Starch degradation', 'CARBOHYDRATES METABOLISM', 'STARCH DEGRADATION'),\n",
       " ('Link between glyoxylate metabolism and pentose phosphate pathway (Xylulose to glycolate)',\n",
       "  'CARBOHYDRATES METABOLISM',\n",
       "  'GLYOXYLATE METABOLISM'),\n",
       " ('Synthesis of methylglyoxal',\n",
       "  'CARBOHYDRATES METABOLISM',\n",
       "  'METHYLGLYOXAL METABOLISM'),\n",
       " ('Alanine synthesis', 'AMINO ACIDS METABOLISM', 'ALANINE METABOLISM'),\n",
       " ('Alanine degradation', 'AMINO ACIDS METABOLISM', 'ALANINE METABOLISM'),\n",
       " ('Synthesis of alanine from glutamine',\n",
       "  'AMINO ACIDS METABOLISM',\n",
       "  'ALANINE METABOLISM'),\n",
       " ('Arginine synthesis', 'AMINO ACIDS METABOLISM', 'ARGININE METABOLISM'),\n",
       " ('Arginine degradation', 'AMINO ACIDS METABOLISM', 'ARGININE METABOLISM'),\n",
       " ('Synthesis of arginine from glutamine',\n",
       "  'AMINO ACIDS METABOLISM',\n",
       "  'ARGININE METABOLISM'),\n",
       " ('Synthesis of nitric oxide from arginine',\n",
       "  'AMINO ACIDS METABOLISM',\n",
       "  'ARGININE METABOLISM'),\n",
       " ('Synthesis of aspartate from glutamine',\n",
       "  'AMINO ACIDS METABOLISM',\n",
       "  'ASPARTATE METABOLISM'),\n",
       " ('Synthesis of creatine from arginine',\n",
       "  'AMINO ACIDS METABOLISM',\n",
       "  'ARGININE METABOLISM'),\n",
       " ('Asparagine synthesis', 'AMINO ACIDS METABOLISM', 'ASPARAGINE METABOLISM'),\n",
       " ('Asparagine degradation', 'AMINO ACIDS METABOLISM', 'ASPARAGINE METABOLISM'),\n",
       " ('Aspartate synthesis', 'AMINO ACIDS METABOLISM', 'ASPARTATE METABOLISM'),\n",
       " ('Aspartate degradation', 'AMINO ACIDS METABOLISM', 'ASPARTATE METABOLISM'),\n",
       " ('Conversion of aspartate to arginine',\n",
       "  'AMINO ACIDS METABOLISM',\n",
       "  'ASPARTATE METABOLISM'),\n",
       " ('Conversion of aspartate to beta-alanine',\n",
       "  'AMINO ACIDS METABOLISM',\n",
       "  'ASPARTATE METABOLISM'),\n",
       " ('Conversion of asparate to asparagine',\n",
       "  'AMINO ACIDS METABOLISM',\n",
       "  'ASPARTATE METABOLISM'),\n",
       " ('beta-Alanine synthesis',\n",
       "  'AMINO ACIDS METABOLISM',\n",
       "  'BETA-ALANINE METABOLISM'),\n",
       " ('beta-Alanine degradation',\n",
       "  'AMINO ACIDS METABOLISM',\n",
       "  'BETA-ALANINE METABOLISM'),\n",
       " ('Conversion of carnosine to beta-alanine',\n",
       "  'AMINO ACIDS METABOLISM',\n",
       "  'BETA-ALANINE METABOLISM'),\n",
       " ('Beta-alanine to 3-oxopropanoate',\n",
       "  'AMINO ACIDS METABOLISM',\n",
       "  'BETA-ALANINE METABOLISM'),\n",
       " ('Cysteine synthesis (need serine and methionine)',\n",
       "  'AMINO ACIDS METABOLISM',\n",
       "  'CYSTEINE METABOLISM'),\n",
       " ('Cysteine degradation', 'AMINO ACIDS METABOLISM', 'CYSTEINE METABOLISM'),\n",
       " ('Synthesis of cysteine from cystine',\n",
       "  'AMINO ACIDS METABOLISM',\n",
       "  'CYSTEINE METABOLISM'),\n",
       " ('Synthesis of taurine from cysteine',\n",
       "  'AMINO ACIDS METABOLISM',\n",
       "  'CYSTEINE METABOLISM'),\n",
       " ('Glutamate synthesis', 'AMINO ACIDS METABOLISM', 'GLUTAMATE METABOLISM'),\n",
       " ('Glutamate degradation', 'AMINO ACIDS METABOLISM', 'GLUTAMATE METABOLISM'),\n",
       " ('Conversion of glutamate to glutamine',\n",
       "  'AMINO ACIDS METABOLISM',\n",
       "  'GLUTAMATE METABOLISM'),\n",
       " ('Conversion of glutamate to proline',\n",
       "  'AMINO ACIDS METABOLISM',\n",
       "  'GLUTAMATE METABOLISM'),\n",
       " ('Conversion of GABA into succinate',\n",
       "  'AMINO ACIDS METABOLISM',\n",
       "  'GLUTAMATE METABOLISM'),\n",
       " ('Glutamine synthesis', 'AMINO ACIDS METABOLISM', 'GLUTAMINE METABOLISM'),\n",
       " ('Glutamine degradation', 'AMINO ACIDS METABOLISM', 'GLUTAMINE METABOLISM'),\n",
       " ('Glutaminolysis (glutamine to lactate)',\n",
       "  'AMINO ACIDS METABOLISM',\n",
       "  'GLUTAMINE METABOLISM'),\n",
       " ('Glutathionate synthesis',\n",
       "  'AMINO ACIDS METABOLISM',\n",
       "  'GLUTATHIONE METABOLISM'),\n",
       " ('Glycine synthesis', 'AMINO ACIDS METABOLISM', 'GLYCINE METABOLISM'),\n",
       " ('Glycine degradation', 'AMINO ACIDS METABOLISM', 'GLYCINE METABOLISM'),\n",
       " ('Conversion of glycine to pyruvate',\n",
       "  'AMINO ACIDS METABOLISM',\n",
       "  'GLYCINE METABOLISM'),\n",
       " ('Histidine degradation', 'AMINO ACIDS METABOLISM', 'HISTIDINE METABOLISM'),\n",
       " ('Conversion of histidine to glutamate',\n",
       "  'AMINO ACIDS METABOLISM',\n",
       "  'HISTIDINE METABOLISM'),\n",
       " ('Conversion of histidine to histamine',\n",
       "  'AMINO ACIDS METABOLISM',\n",
       "  'HISTIDINE METABOLISM'),\n",
       " ('Homocysteine synthesis (need methionine)',\n",
       "  'AMINO ACIDS METABOLISM',\n",
       "  'HOMOCYSTEINE METABOLISM'),\n",
       " ('Homocysteine degradation',\n",
       "  'AMINO ACIDS METABOLISM',\n",
       "  'HOMOCYSTEINE METABOLISM'),\n",
       " ('Isoleucine degradation', 'AMINO ACIDS METABOLISM', 'ISOLEUCINE METABOLISM'),\n",
       " ('Leucine degradation', 'AMINO ACIDS METABOLISM', 'LEUCINE METABOLISM'),\n",
       " ('Conversion of leucine to acetyl-coA',\n",
       "  'AMINO ACIDS METABOLISM',\n",
       "  'LEUCINE METABOLISM'),\n",
       " ('Lysine degradation', 'AMINO ACIDS METABOLISM', 'LYSINE METABOLISM'),\n",
       " ('Conversion of lysine to L-Saccharopine',\n",
       "  'AMINO ACIDS METABOLISM',\n",
       "  'LYSINE METABOLISM'),\n",
       " ('Conversion of lysine to L-2-Aminoadipate',\n",
       "  'AMINO ACIDS METABOLISM',\n",
       "  'LYSINE METABOLISM'),\n",
       " ('Methionine degradation', 'AMINO ACIDS METABOLISM', 'METHIONINE METABOLISM'),\n",
       " ('S-adenosyl-L-methionine synthesis',\n",
       "  'AMINO ACIDS METABOLISM',\n",
       "  'METHIONINE METABOLISM'),\n",
       " ('Ornithine degradation', 'AMINO ACIDS METABOLISM', 'ORNITHINE METABOLISM'),\n",
       " ('Synthesis of ornithine from glutamine',\n",
       "  'AMINO ACIDS METABOLISM',\n",
       "  'ORNITHINE METABOLISM'),\n",
       " ('Synthesis of spermidine from ornithine',\n",
       "  'AMINO ACIDS METABOLISM',\n",
       "  'ORNITHINE METABOLISM'),\n",
       " ('Serine synthesis', 'AMINO ACIDS METABOLISM', 'SERINE METABOLISM'),\n",
       " ('Serine degradation', 'AMINO ACIDS METABOLISM', 'SERINE METABOLISM'),\n",
       " ('Phenylalanine degradation',\n",
       "  'AMINO ACIDS METABOLISM',\n",
       "  'PHENYLALANINE METABOLISM'),\n",
       " ('Phenylalanine to phenylacetaldehyde',\n",
       "  'AMINO ACIDS METABOLISM',\n",
       "  'PHENYLALANINE METABOLISM'),\n",
       " ('Phenylalanine to phenylacetyl-L-glutaminate',\n",
       "  'AMINO ACIDS METABOLISM',\n",
       "  'PHENYLALANINE METABOLISM'),\n",
       " ('Phenylalanine to tyrosine',\n",
       "  'AMINO ACIDS METABOLISM',\n",
       "  'PHENYLALANINE METABOLISM'),\n",
       " ('Proline synthesis', 'AMINO ACIDS METABOLISM', 'PROLINE METABOLISM'),\n",
       " ('Proline degradation', 'AMINO ACIDS METABOLISM', 'PROLINE METABOLISM'),\n",
       " ('Synthesis of proline from glutamine',\n",
       "  'AMINO ACIDS METABOLISM',\n",
       "  'PROLINE METABOLISM'),\n",
       " ('Threonine degradation', 'AMINO ACIDS METABOLISM', 'THREONINE METABOLISM'),\n",
       " ('Tryptophan degradation', 'AMINO ACIDS METABOLISM', 'TRYPTOPHAN METABOLISM'),\n",
       " ('Synthesis of anthranilate from tryptophan',\n",
       "  'AMINO ACIDS METABOLISM',\n",
       "  'TRYPTOPHAN METABOLISM'),\n",
       " ('Synthesis of kynate from tryptophan',\n",
       "  'AMINO ACIDS METABOLISM',\n",
       "  'TRYPTOPHAN METABOLISM'),\n",
       " ('Synthesis of L-kynurenine from tryptophan',\n",
       "  'AMINO ACIDS METABOLISM',\n",
       "  'TRYPTOPHAN METABOLISM'),\n",
       " ('Synthesis of N-formylanthranilate from tryptophan',\n",
       "  'AMINO ACIDS METABOLISM',\n",
       "  'TRYPTOPHAN METABOLISM'),\n",
       " ('Synthesis of quinolinate from tryptophan',\n",
       "  'AMINO ACIDS METABOLISM',\n",
       "  'TRYPTOPHAN METABOLISM'),\n",
       " ('Synthesis of serotonin from tryptophan',\n",
       "  'AMINO ACIDS METABOLISM',\n",
       "  'TRYPTOPHAN METABOLISM'),\n",
       " ('Tyrosine synthesis (need phenylalanine)',\n",
       "  'AMINO ACIDS METABOLISM',\n",
       "  'TYROSINE METABOLISM'),\n",
       " ('Tyrosine degradation', 'AMINO ACIDS METABOLISM', 'TYROSINE METABOLISM'),\n",
       " ('Tyrosine to adrenaline', 'AMINO ACIDS METABOLISM', 'TYROSINE METABOLISM'),\n",
       " ('Tyrosine to dopamine', 'AMINO ACIDS METABOLISM', 'TYROSINE METABOLISM'),\n",
       " ('Tyrosine to acetoacetate and fumarate',\n",
       "  'AMINO ACIDS METABOLISM',\n",
       "  'TYROSINE METABOLISM'),\n",
       " ('Valine degradation', 'AMINO ACIDS METABOLISM', 'VALINE METABOLISM'),\n",
       " ('Valine to succinyl-coA', 'AMINO ACIDS METABOLISM', 'VALINE METABOLISM'),\n",
       " ('Hydroxymethylglutaryl-CoA synthesis',\n",
       "  'LIPIDS METABOLISM',\n",
       "  'CHOLESTEROL METABOLISM'),\n",
       " ('Cholesterol synthesis', 'LIPIDS METABOLISM', 'CHOLESTEROL METABOLISM'),\n",
       " ('Acetoacetate synthesis', 'LIPIDS METABOLISM', 'CHOLESTEROL METABOLISM'),\n",
       " ('Mevalonate synthesis', 'LIPIDS METABOLISM', 'CHOLESTEROL METABOLISM'),\n",
       " ('Farnesyl-pyrophosphate synthesis',\n",
       "  'LIPIDS METABOLISM',\n",
       "  'CHOLESTEROL METABOLISM'),\n",
       " ('Glycerol-3-phosphate synthesis',\n",
       "  'LIPIDS METABOLISM',\n",
       "  'GLYCEROPHOSPHOLIPID METABOLISM'),\n",
       " ('Phosphatidyl-choline synthesis',\n",
       "  'LIPIDS METABOLISM',\n",
       "  'GLYCEROPHOSPHOLIPID METABOLISM'),\n",
       " ('Phosphatidyl-ethanolamine synthesis',\n",
       "  'LIPIDS METABOLISM',\n",
       "  'GLYCEROPHOSPHOLIPID METABOLISM'),\n",
       " ('Phosphatidyl-serine synthesis',\n",
       "  'LIPIDS METABOLISM',\n",
       "  'GLYCEROPHOSPHOLIPID METABOLISM'),\n",
       " ('Phosphatidyl-inositol synthesis',\n",
       "  'LIPIDS METABOLISM',\n",
       "  'GLYCEROPHOSPHOLIPID METABOLISM'),\n",
       " ('Cardiolipin synthesis',\n",
       "  'LIPIDS METABOLISM',\n",
       "  'GLYCEROPHOSPHOLIPID METABOLISM'),\n",
       " ('Triacylglycerol synthesis',\n",
       "  'LIPIDS METABOLISM',\n",
       "  'TRIACYLGLYCEROL METABOLISM'),\n",
       " ('Sphingomyelin synthesis', 'LIPIDS METABOLISM', 'SPHINGOLIPID METABOLISM'),\n",
       " ('Ceramide synthesis', 'LIPIDS METABOLISM', 'SPHINGOLIPID METABOLISM'),\n",
       " ('Palmitate synthesis', 'LIPIDS METABOLISM', 'FATTY ACID METABOLISM'),\n",
       " ('Palmitate degradation', 'LIPIDS METABOLISM', 'FATTY ACID METABOLISM'),\n",
       " ('Palmitolate synthesis', 'LIPIDS METABOLISM', 'FATTY ACID METABOLISM'),\n",
       " ('Palmitolate degradation', 'LIPIDS METABOLISM', 'FATTY ACID METABOLISM'),\n",
       " ('cis-vaccenic acid synthesis', 'LIPIDS METABOLISM', 'FATTY ACID METABOLISM'),\n",
       " ('cis-vaccenic acid degradation',\n",
       "  'LIPIDS METABOLISM',\n",
       "  'FATTY ACID METABOLISM'),\n",
       " ('Elaidate synthesis', 'LIPIDS METABOLISM', 'FATTY ACID METABOLISM'),\n",
       " ('Elaidate degradation', 'LIPIDS METABOLISM', 'FATTY ACID METABOLISM'),\n",
       " ('Linolenate degradation', 'LIPIDS METABOLISM', 'FATTY ACID METABOLISM'),\n",
       " ('Linoleate degradation', 'LIPIDS METABOLISM', 'FATTY ACID METABOLISM'),\n",
       " ('gamma-Linolenate synthesis', 'LIPIDS METABOLISM', 'FATTY ACID METABOLISM'),\n",
       " ('gamma-Linolenate degradation',\n",
       "  'LIPIDS METABOLISM',\n",
       "  'FATTY ACID METABOLISM'),\n",
       " ('Arachidonate synthesis', 'LIPIDS METABOLISM', 'FATTY ACID METABOLISM'),\n",
       " ('Arachidonate degradation', 'LIPIDS METABOLISM', 'FATTY ACID METABOLISM'),\n",
       " ('Synthesis of malonyl-coa', 'LIPIDS METABOLISM', 'FATTY ACID METABOLISM'),\n",
       " ('Synthesis of palmitoyl-CoA', 'LIPIDS METABOLISM', 'FATTY ACID METABOLISM'),\n",
       " ('Taurochenodeoxycholate synthesis',\n",
       "  'LIPIDS METABOLISM',\n",
       "  'BILE ACID SYNTHESIS'),\n",
       " ('Glycochenodeoxycholate synthesis',\n",
       "  'LIPIDS METABOLISM',\n",
       "  'BILE ACID SYNTHESIS'),\n",
       " ('tauro-cholate synthesis', 'LIPIDS METABOLISM', 'BILE ACID SYNTHESIS'),\n",
       " ('glyco-cholate synthesis', 'LIPIDS METABOLISM', 'BILE ACID SYNTHESIS'),\n",
       " ('Synthesis of thromboxane from arachidonate',\n",
       "  'LIPIDS METABOLISM',\n",
       "  'EICOSANOID METABOLISM'),\n",
       " ('Synthesis of galactosyl glucosyl ceramide (link with ganglioside metabolism)',\n",
       "  'LIPIDS METABOLISM',\n",
       "  'GANGLIOSIDE METABOLISM'),\n",
       " ('Synthesis of glucocerebroside',\n",
       "  'LIPIDS METABOLISM',\n",
       "  'GANGLIOSIDE METABOLISM'),\n",
       " ('Synthesis of globoside (link with globoside metabolism)',\n",
       "  'LIPIDS METABOLISM',\n",
       "  'GLOBOSIDE METABOLISM'),\n",
       " ('NAD synthesis from nicotinamide',\n",
       "  'VITAMIN & COFACTOR METABOLISM',\n",
       "  'COENZYME NAD BIOSYNTHESIS'),\n",
       " ('FAD synthesis',\n",
       "  'VITAMIN & COFACTOR METABOLISM',\n",
       "  'COENZYME FAD BIOSYNTHESIS'),\n",
       " ('Synthesis of coenzyme A',\n",
       "  'VITAMIN & COFACTOR METABOLISM',\n",
       "  'COENZYME A BIOSYNTHESIS'),\n",
       " ('Synthesis of ubiquinone from tyrosine',\n",
       "  'VITAMIN & COFACTOR METABOLISM',\n",
       "  'UBIQUINONE 10 BIOSYNTHESIS'),\n",
       " ('Tetrahydrofolate synthesis',\n",
       "  'VITAMIN & COFACTOR METABOLISM',\n",
       "  'FOLATE METABOLISM'),\n",
       " ('Pyridoxal-phosphate synthesis',\n",
       "  'VITAMIN & COFACTOR METABOLISM',\n",
       "  'VITAMIN B6 METABOLISM'),\n",
       " ('Synthesis of bilirubin',\n",
       "  'VITAMIN & COFACTOR METABOLISM',\n",
       "  'HEME METABOLISM'),\n",
       " ('Heme synthesis', 'VITAMIN & COFACTOR METABOLISM', 'HEME METABOLISM'),\n",
       " ('Phosphatidyl-inositol to glucosaminyl-acylphosphatidylinositol',\n",
       "  'GLYCAN METABOLISM',\n",
       "  'GPI ANCHOR BIOSYNTHESIS'),\n",
       " ('Glucosaminyl-acylphosphatidylinositoll to deacylated-glycophosphatidylinositol (GPI)-anchored protein',\n",
       "  'GLYCAN METABOLISM',\n",
       "  'GPI ANCHOR BIOSYNTHESIS'),\n",
       " ('Degradation of n2m2nmasn', 'GLYCAN METABOLISM', 'N-GLYCAN METABOLISM'),\n",
       " ('Biosynthesis of m4mpdol_U', 'GLYCAN METABOLISM', 'N-GLYCAN METABOLISM'),\n",
       " ('Biosynthesis of g3m8masn', 'GLYCAN METABOLISM', 'N-GLYCAN METABOLISM'),\n",
       " ('Degradation of s2l2fn2m2masn', 'GLYCAN METABOLISM', 'N-GLYCAN METABOLISM'),\n",
       " ('Biosynthesis of core2 (beta-D-Galactosyl-1,3-(N-acetyl-beta-D-glucosaminyl-1,6)-N-acetyl-D-galactosaminyl-R)',\n",
       "  'GLYCAN METABOLISM',\n",
       "  'O-GLYCAN METABOLISM'),\n",
       " ('Biosynthesis of core4 (N-Acetyl-beta-D-glucosaminyl-1,6-(N-acetyl-beta-D-glucosaminyl-1,3)-N-acetyl-D-galactosaminyl-R)',\n",
       "  'GLYCAN METABOLISM',\n",
       "  'O-GLYCAN METABOLISM'),\n",
       " ('Biosynthesis of Tn_antigen (Glycoprotein N-acetyl-D-galactosamine)',\n",
       "  'GLYCAN METABOLISM',\n",
       "  'O-GLYCAN METABOLISM'),\n",
       " ('Keratan sulfate biosynthesis from O-glycan (core 2-linked)',\n",
       "  'GLYCAN METABOLISM',\n",
       "  'KERATAN SULFATE METABOLISM'),\n",
       " ('Keratan sulfate biosynthesis from O-glycan (core 4-linked)',\n",
       "  'GLYCAN METABOLISM',\n",
       "  'KERATAN SULFATE METABOLISM'),\n",
       " ('Keratan sulfate degradation',\n",
       "  'GLYCAN METABOLISM',\n",
       "  'KERATAN SULFATE METABOLISM'),\n",
       " ('Keratan sulfate biosynthesis from N-glycan',\n",
       "  'GLYCAN METABOLISM',\n",
       "  'KERATAN SULFATE METABOLISM'),\n",
       " ('Co-translational translocation', 'Translocation', 'Translocation'),\n",
       " ('Post translational translocation', 'Translocation', 'Translocation'),\n",
       " ('GPI-anchor', 'Processing in the ER', 'PTMs'),\n",
       " ('N-linked glycosylation', 'Processing in the ER', 'PTMs'),\n",
       " ('Disulfide bond formation', 'Processing in the ER', 'PTMs'),\n",
       " ('N-glycan processing (ER)', 'Processing in the ER', 'Protein folding'),\n",
       " ('Calnexin/calreticulin cycle', 'Processing in the ER', 'Protein folding'),\n",
       " ('Recognition of misfolded protein', 'Proteostasis', 'ERAD'),\n",
       " ('Retro-translocation & substrate ubiquitination', 'Proteostasis', 'ERAD'),\n",
       " ('Proteasome degradation', 'Proteostasis', 'ERAD'),\n",
       " ('Branching (N-acetylglucosaminyltransferases)',\n",
       "  'Processing in the Golgi',\n",
       "  'N-glycan processing (Golgi)'),\n",
       " ('Fucosylation (addition of fucose)',\n",
       "  'Processing in the Golgi',\n",
       "  'N-glycan processing (Golgi)'),\n",
       " ('Galactosylation (addition of galactose)',\n",
       "  'Processing in the Golgi',\n",
       "  'N-glycan processing (Golgi)'),\n",
       " ('Sialylation (addition of sialic acid)',\n",
       "  'Processing in the Golgi',\n",
       "  'N-glycan processing (Golgi)'),\n",
       " ('Mannose trimming (mannosidase)',\n",
       "  'Processing in the Golgi',\n",
       "  'N-glycan processing (Golgi)'),\n",
       " ('O-linked glycosylation',\n",
       "  'Processing in the Golgi',\n",
       "  'O-glycan processing (Golgi)'),\n",
       " ('Trafficking to endosomes (Clathrin Vesicles)',\n",
       "  'Vesicle trafficking',\n",
       "  'Endosomal trafficking'),\n",
       " ('COPI mediated retrograde transport',\n",
       "  'Vesicle trafficking',\n",
       "  'Golgi to ER trafficking (COPI)'),\n",
       " ('COPII-LMAN1 mediated anterograde transport',\n",
       "  'Vesicle trafficking',\n",
       "  'ER to Golgi trafficking (COPII)'),\n",
       " ('COPII-LMAN2 mediated anterograde transport',\n",
       "  'Vesicle trafficking',\n",
       "  'ER to Golgi trafficking (COPII)'),\n",
       " ('Vesicle secretion', 'Vesicle trafficking', 'Vesicle secretion')]"
      ]
     },
     "execution_count": 14,
     "metadata": {},
     "output_type": "execute_result"
    }
   ],
   "source": [
    "records"
   ]
  },
  {
   "cell_type": "code",
   "execution_count": 15,
   "id": "e7a00456",
   "metadata": {
    "tags": []
   },
   "outputs": [],
   "source": [
    "task_df = pd.DataFrame.from_records(records, columns=['Task', 'System', 'Subsystem']).set_index('Task')"
   ]
  },
  {
   "cell_type": "code",
   "execution_count": 16,
   "id": "a303ae6a",
   "metadata": {
    "tags": []
   },
   "outputs": [
    {
     "data": {
      "text/html": [
       "<div>\n",
       "<style scoped>\n",
       "    .dataframe tbody tr th:only-of-type {\n",
       "        vertical-align: middle;\n",
       "    }\n",
       "\n",
       "    .dataframe tbody tr th {\n",
       "        vertical-align: top;\n",
       "    }\n",
       "\n",
       "    .dataframe thead th {\n",
       "        text-align: right;\n",
       "    }\n",
       "</style>\n",
       "<table border=\"1\" class=\"dataframe\">\n",
       "  <thead>\n",
       "    <tr style=\"text-align: right;\">\n",
       "      <th></th>\n",
       "      <th>System</th>\n",
       "      <th>Subsystem</th>\n",
       "    </tr>\n",
       "    <tr>\n",
       "      <th>Task</th>\n",
       "      <th></th>\n",
       "      <th></th>\n",
       "    </tr>\n",
       "  </thead>\n",
       "  <tbody>\n",
       "    <tr>\n",
       "      <th>Oxidative phosphorylation via NADH-coenzyme Q oxidoreductase (COMPLEX I)</th>\n",
       "      <td>ENERGY METABOLISM</td>\n",
       "      <td>OXYDATIVE PHOSPHORYLATION</td>\n",
       "    </tr>\n",
       "    <tr>\n",
       "      <th>Oxidative phosphorylation via succinate-coenzyme Q oxidoreductase (COMPLEX II)</th>\n",
       "      <td>ENERGY METABOLISM</td>\n",
       "      <td>OXYDATIVE PHOSPHORYLATION</td>\n",
       "    </tr>\n",
       "    <tr>\n",
       "      <th>Krebs cycle - oxidative decarboxylation of pyruvate</th>\n",
       "      <td>ENERGY METABOLISM</td>\n",
       "      <td>KREBS CYCLE</td>\n",
       "    </tr>\n",
       "    <tr>\n",
       "      <th>Krebs cycle - NADH generation</th>\n",
       "      <td>ENERGY METABOLISM</td>\n",
       "      <td>KREBS CYCLE</td>\n",
       "    </tr>\n",
       "    <tr>\n",
       "      <th>ATP regeneration from glucose (normoxic conditions) - glycolysis + krebs cycle</th>\n",
       "      <td>ENERGY METABOLISM</td>\n",
       "      <td>ATP GENERATION</td>\n",
       "    </tr>\n",
       "    <tr>\n",
       "      <th>...</th>\n",
       "      <td>...</td>\n",
       "      <td>...</td>\n",
       "    </tr>\n",
       "    <tr>\n",
       "      <th>Trafficking to endosomes (Clathrin Vesicles)</th>\n",
       "      <td>Vesicle trafficking</td>\n",
       "      <td>Endosomal trafficking</td>\n",
       "    </tr>\n",
       "    <tr>\n",
       "      <th>COPI mediated retrograde transport</th>\n",
       "      <td>Vesicle trafficking</td>\n",
       "      <td>Golgi to ER trafficking (COPI)</td>\n",
       "    </tr>\n",
       "    <tr>\n",
       "      <th>COPII-LMAN1 mediated anterograde transport</th>\n",
       "      <td>Vesicle trafficking</td>\n",
       "      <td>ER to Golgi trafficking (COPII)</td>\n",
       "    </tr>\n",
       "    <tr>\n",
       "      <th>COPII-LMAN2 mediated anterograde transport</th>\n",
       "      <td>Vesicle trafficking</td>\n",
       "      <td>ER to Golgi trafficking (COPII)</td>\n",
       "    </tr>\n",
       "    <tr>\n",
       "      <th>Vesicle secretion</th>\n",
       "      <td>Vesicle trafficking</td>\n",
       "      <td>Vesicle secretion</td>\n",
       "    </tr>\n",
       "  </tbody>\n",
       "</table>\n",
       "<p>216 rows × 2 columns</p>\n",
       "</div>"
      ],
      "text/plain": [
       "                                                                 System  \\\n",
       "Task                                                                      \n",
       "Oxidative phosphorylation via NADH-coenzyme Q o...    ENERGY METABOLISM   \n",
       "Oxidative phosphorylation via succinate-coenzym...    ENERGY METABOLISM   \n",
       "Krebs cycle - oxidative decarboxylation of pyru...    ENERGY METABOLISM   \n",
       "Krebs cycle - NADH generation                         ENERGY METABOLISM   \n",
       "ATP regeneration from glucose (normoxic conditi...    ENERGY METABOLISM   \n",
       "...                                                                 ...   \n",
       "Trafficking to endosomes (Clathrin Vesicles)        Vesicle trafficking   \n",
       "COPI mediated retrograde transport                  Vesicle trafficking   \n",
       "COPII-LMAN1 mediated anterograde transport          Vesicle trafficking   \n",
       "COPII-LMAN2 mediated anterograde transport          Vesicle trafficking   \n",
       "Vesicle secretion                                   Vesicle trafficking   \n",
       "\n",
       "                                                                          Subsystem  \n",
       "Task                                                                                 \n",
       "Oxidative phosphorylation via NADH-coenzyme Q o...        OXYDATIVE PHOSPHORYLATION  \n",
       "Oxidative phosphorylation via succinate-coenzym...        OXYDATIVE PHOSPHORYLATION  \n",
       "Krebs cycle - oxidative decarboxylation of pyru...                      KREBS CYCLE  \n",
       "Krebs cycle - NADH generation                                           KREBS CYCLE  \n",
       "ATP regeneration from glucose (normoxic conditi...                   ATP GENERATION  \n",
       "...                                                                             ...  \n",
       "Trafficking to endosomes (Clathrin Vesicles)                  Endosomal trafficking  \n",
       "COPI mediated retrograde transport                   Golgi to ER trafficking (COPI)  \n",
       "COPII-LMAN1 mediated anterograde transport          ER to Golgi trafficking (COPII)  \n",
       "COPII-LMAN2 mediated anterograde transport          ER to Golgi trafficking (COPII)  \n",
       "Vesicle secretion                                                 Vesicle secretion  \n",
       "\n",
       "[216 rows x 2 columns]"
      ]
     },
     "execution_count": 16,
     "metadata": {},
     "output_type": "execute_result"
    }
   ],
   "source": [
    "task_df"
   ]
  },
  {
   "cell_type": "markdown",
   "id": "32acf6bb",
   "metadata": {},
   "source": [
    "# Task by reactions"
   ]
  },
  {
   "cell_type": "code",
   "execution_count": 17,
   "id": "8dedcba5",
   "metadata": {
    "tags": []
   },
   "outputs": [],
   "source": [
    "rxns = scipy.io.loadmat(folder + '/essentialRxns/essentialRxnsbyTask_MT_MT_iMM1415_met_sec.mat')"
   ]
  },
  {
   "cell_type": "code",
   "execution_count": 18,
   "id": "dd3abd71",
   "metadata": {
    "tags": []
   },
   "outputs": [
    {
     "name": "stdout",
     "output_type": "stream",
     "text": [
      "Task 5 is empty\n",
      "Task 32 is empty\n",
      "Task 61 is empty\n",
      "Task 64 is empty\n",
      "Task 70 is empty\n",
      "Task 71 is empty\n",
      "Task 72 is empty\n",
      "Task 77 is empty\n",
      "Task 85 is empty\n",
      "Task 90 is empty\n",
      "Task 119 is empty\n",
      "Task 140 is empty\n",
      "Task 141 is empty\n",
      "Task 176 is empty\n",
      "Task 189 is empty\n",
      "Task 190 is empty\n",
      "Task 191 is empty\n",
      "Task 213 is empty\n",
      "Task 214 is empty\n",
      "Task 215 is empty\n"
     ]
    }
   ],
   "source": [
    "records = []\n",
    "rxn_set = set()\n",
    "for i, task in enumerate(rxns['essentialRxns'].T):\n",
    "    name = task_df.index[i]\n",
    "    if len(task[0]) == 0:\n",
    "        print(f'Task {i+1} is empty')\n",
    "    for reaction in task[0]:\n",
    "        rxn = reaction[0][0]\n",
    "        records.append((name, rxn))\n",
    "        rxn_set.add(rxn)"
   ]
  },
  {
   "cell_type": "code",
   "execution_count": 19,
   "id": "4486d958",
   "metadata": {
    "tags": []
   },
   "outputs": [],
   "source": [
    "task_rxn_df = pd.DataFrame.from_records(records, columns=['Task', 'Reaction'])"
   ]
  },
  {
   "cell_type": "code",
   "execution_count": 20,
   "id": "195aa749",
   "metadata": {
    "tags": []
   },
   "outputs": [
    {
     "data": {
      "text/plain": [
       "(196,)"
      ]
     },
     "execution_count": 20,
     "metadata": {},
     "output_type": "execute_result"
    }
   ],
   "source": [
    "task_rxn_df.Task.unique().shape"
   ]
  },
  {
   "cell_type": "code",
   "execution_count": 21,
   "id": "5905808b",
   "metadata": {
    "tags": []
   },
   "outputs": [],
   "source": [
    "task_by_rxn = pd.crosstab(task_rxn_df['Task'], task_rxn_df['Reaction'])\n",
    "task_by_rxn[task_by_rxn > 0] = 1"
   ]
  },
  {
   "cell_type": "code",
   "execution_count": 22,
   "id": "1b4bc63f",
   "metadata": {
    "tags": []
   },
   "outputs": [
    {
     "data": {
      "text/plain": [
       "(196, 809)"
      ]
     },
     "execution_count": 22,
     "metadata": {},
     "output_type": "execute_result"
    }
   ],
   "source": [
    "task_by_rxn.shape"
   ]
  },
  {
   "cell_type": "code",
   "execution_count": 23,
   "id": "cc9ff798",
   "metadata": {
    "tags": []
   },
   "outputs": [
    {
     "data": {
      "text/plain": [
       "809"
      ]
     },
     "execution_count": 23,
     "metadata": {},
     "output_type": "execute_result"
    }
   ],
   "source": [
    "len(rxn_set)"
   ]
  },
  {
   "cell_type": "code",
   "execution_count": 24,
   "id": "c60b3668",
   "metadata": {
    "tags": []
   },
   "outputs": [
    {
     "data": {
      "text/plain": [
       "Task\n",
       "Proline degradation                        99\n",
       "Arginine degradation                       97\n",
       "Lysine degradation                         96\n",
       "Isoleucine degradation                     96\n",
       "Valine degradation                         95\n",
       "                                           ..\n",
       "Conversion of histidine to histamine        1\n",
       "Synthesis of taurine from cysteine          1\n",
       "Conversion of carnosine to beta-alanine     1\n",
       "Conversion of lysine to L-Saccharopine      1\n",
       "Glycerol-3-phosphate synthesis              1\n",
       "Length: 196, dtype: int64"
      ]
     },
     "execution_count": 24,
     "metadata": {},
     "output_type": "execute_result"
    }
   ],
   "source": [
    "task_by_rxn.sum(axis=1).sort_values(ascending=False)"
   ]
  },
  {
   "cell_type": "code",
   "execution_count": 25,
   "id": "ef68b79d",
   "metadata": {
    "tags": []
   },
   "outputs": [
    {
     "data": {
      "text/plain": [
       "<Axes: >"
      ]
     },
     "execution_count": 25,
     "metadata": {},
     "output_type": "execute_result"
    },
    {
     "data": {
      "image/png": "[encoded data removed]",
      "text/plain": [
       "<Figure size 640x480 with 1 Axes>"
      ]
     },
     "metadata": {},
     "output_type": "display_data"
    }
   ],
   "source": [
    "task_by_rxn.sum(axis=1).hist(bins=50)"
   ]
  },
  {
   "cell_type": "markdown",
   "id": "dc97a396",
   "metadata": {},
   "source": [
    "# GPRs"
   ]
  },
  {
   "cell_type": "code",
   "execution_count": 26,
   "id": "5f58ac45",
   "metadata": {
    "tags": []
   },
   "outputs": [],
   "source": [
    "rxn_list = pd.DataFrame.from_records(_gpr_records, columns=['Reaction', 'GPR'])"
   ]
  },
  {
   "cell_type": "code",
   "execution_count": 27,
   "id": "cf012f09",
   "metadata": {
    "tags": []
   },
   "outputs": [],
   "source": [
    "rxn_list = rxn_list.loc[~rxn_list['GPR'].isna()].set_index('Reaction').astype(str)"
   ]
  },
  {
   "cell_type": "code",
   "execution_count": 28,
   "id": "797e4320",
   "metadata": {
    "tags": []
   },
   "outputs": [
    {
     "data": {
      "text/plain": [
       "Reaction\n",
       "13DAMPPOX                         11754 or 76507 or 237940 or 237940\n",
       "24_25VITD2Hm                                                   13081\n",
       "24_25VITD3Hm                                                   13081\n",
       "25VITD2Hm                                                      13115\n",
       "25VITD3Hm                                                      13115\n",
       "                                         ...                        \n",
       "co_TRANSLOC_6      ( 53421 ) and ( 66212 ) and ( 20335 ) and ( 69...\n",
       "BiP_release                    ( 81500 ) and ( 12282 ) and ( 14828 )\n",
       "SP_degradation     (( 26440 ) or ( 19166 ) or ( 19167 ) or ( 2644...\n",
       "PROTA_formation    ( 26440 ) and ( 19166 ) and ( 19167 ) and ( 26...\n",
       "PROTB_formation    ( 19170 ) and ( 26445 ) and ( 26446 ) and ( 19...\n",
       "Name: GPR, Length: 2338, dtype: object"
      ]
     },
     "execution_count": 28,
     "metadata": {},
     "output_type": "execute_result"
    }
   ],
   "source": [
    "rxn_list['GPR']"
   ]
  },
  {
   "cell_type": "code",
   "execution_count": 29,
   "id": "f051b528",
   "metadata": {
    "tags": []
   },
   "outputs": [],
   "source": [
    "rxn_list.reset_index(drop=False, inplace=True)"
   ]
  },
  {
   "cell_type": "code",
   "execution_count": 30,
   "id": "8bc21a35",
   "metadata": {
    "tags": []
   },
   "outputs": [],
   "source": [
    "genes = scipy.io.loadmat(folder + '/parsedGPR/parsedGPR_MT_iMM1415_sec.mat')"
   ]
  },
  {
   "cell_type": "code",
   "execution_count": 31,
   "id": "74aa391c",
   "metadata": {
    "tags": []
   },
   "outputs": [
    {
     "data": {
      "text/plain": [
       "array([[array([[array([], dtype='<U1')]], dtype=object)],\n",
       "       [array([[array([], dtype='<U1')]], dtype=object)],\n",
       "       [array([[array([], dtype='<U1')]], dtype=object)],\n",
       "       ...,\n",
       "       [array([[array([[array(['16912'], dtype='<U5')],\n",
       "                       [array(['16913'], dtype='<U5')],\n",
       "                       [array(['19170'], dtype='<U5')],\n",
       "                       [array(['19171'], dtype='<U5')],\n",
       "                       [array(['19172'], dtype='<U5')],\n",
       "                       [array(['19173'], dtype='<U5')],\n",
       "                       [array(['19175'], dtype='<U5')],\n",
       "                       [array(['19177'], dtype='<U5')],\n",
       "                       [array(['26445'], dtype='<U5')],\n",
       "                       [array(['26446'], dtype='<U5')],\n",
       "                       [array(['73902'], dtype='<U5')]], dtype=object)]],\n",
       "              dtype=object)                                              ],\n",
       "       [array([[array([], dtype='<U1')]], dtype=object)],\n",
       "       [array([[array([], dtype='<U1')]], dtype=object)]], dtype=object)"
      ]
     },
     "execution_count": 31,
     "metadata": {},
     "output_type": "execute_result"
    }
   ],
   "source": [
    "genes['parsedGPR']"
   ]
  },
  {
   "cell_type": "code",
   "execution_count": 32,
   "id": "74d15889",
   "metadata": {
    "tags": []
   },
   "outputs": [
    {
     "data": {
      "text/plain": [
       "(2338, 3870)"
      ]
     },
     "execution_count": 32,
     "metadata": {},
     "output_type": "execute_result"
    }
   ],
   "source": [
    "len(rxn_list['Reaction']), len(genes['parsedGPR'])"
   ]
  },
  {
   "cell_type": "code",
   "execution_count": 33,
   "id": "653e74b3",
   "metadata": {
    "tags": []
   },
   "outputs": [
    {
     "data": {
      "text/plain": [
       "array([[array(['19166'], dtype='<U5')],\n",
       "       [array(['19167'], dtype='<U5')],\n",
       "       [array(['26440'], dtype='<U5')],\n",
       "       [array(['26441'], dtype='<U5')],\n",
       "       [array(['26442'], dtype='<U5')],\n",
       "       [array(['26444'], dtype='<U5')],\n",
       "       [array(['73677'], dtype='<U5')]], dtype=object)"
      ]
     },
     "execution_count": 33,
     "metadata": {},
     "output_type": "execute_result"
    }
   ],
   "source": [
    "genes['parsedGPR'][-4][0][0][0]"
   ]
  },
  {
   "cell_type": "code",
   "execution_count": 34,
   "id": "778dd82e",
   "metadata": {
    "tags": []
   },
   "outputs": [],
   "source": [
    "gene_names = set()\n",
    "for idx, row in rxn_list.iterrows():\n",
    "    rxn_name = row['Reaction']\n",
    "    gpr = row['GPR']\n",
    "    if isinstance(gpr, str):\n",
    "        elements = re.findall(r'\\b[\\w:]+\\b', gpr)\n",
    "        _genes = [e for e in elements if e not in ('and', 'or', 'AND', 'OR')]\n",
    "        for g in _genes:\n",
    "            if 'HGNC:' not in g:\n",
    "                gene_names.add(str(g))"
   ]
  },
  {
   "cell_type": "code",
   "execution_count": 35,
   "id": "093c227c",
   "metadata": {
    "tags": []
   },
   "outputs": [
    {
     "data": {
      "text/plain": [
       "1565"
      ]
     },
     "execution_count": 35,
     "metadata": {},
     "output_type": "execute_result"
    }
   ],
   "source": [
    "len(gene_names)"
   ]
  },
  {
   "cell_type": "code",
   "execution_count": 36,
   "id": "29c6cd03",
   "metadata": {
    "tags": []
   },
   "outputs": [
    {
     "data": {
      "text/plain": [
       "True"
      ]
     },
     "execution_count": 36,
     "metadata": {},
     "output_type": "execute_result"
    }
   ],
   "source": [
    "'18126' in gene_names"
   ]
  },
  {
   "cell_type": "markdown",
   "id": "b0f5a403",
   "metadata": {},
   "source": [
    "### Grab new genes from secCellFie"
   ]
  },
  {
   "cell_type": "code",
   "execution_count": 37,
   "id": "44addf1c",
   "metadata": {
    "tags": []
   },
   "outputs": [],
   "source": [
    "import mygene"
   ]
  },
  {
   "cell_type": "code",
   "execution_count": 38,
   "id": "4ed392ce",
   "metadata": {
    "tags": []
   },
   "outputs": [],
   "source": [
    "mg = mygene.MyGeneInfo()"
   ]
  },
  {
   "cell_type": "code",
   "execution_count": 39,
   "id": "bea35ecb",
   "metadata": {
    "tags": []
   },
   "outputs": [],
   "source": [
    "geneid_df = mg.getgenes(gene_names, fields='entrezgene,symbol,name,alias,taxid,HGNC', as_dataframe=True, \n",
    "                        species='10090')"
   ]
  },
  {
   "cell_type": "code",
   "execution_count": 40,
   "id": "d63e83c8",
   "metadata": {
    "tags": []
   },
   "outputs": [],
   "source": [
    "geneid_df = geneid_df.reset_index().drop(columns=['_id', '_version'])"
   ]
  },
  {
   "cell_type": "code",
   "execution_count": 41,
   "id": "161ba46a",
   "metadata": {
    "tags": []
   },
   "outputs": [
    {
     "data": {
      "text/plain": [
       "(41, 7)"
      ]
     },
     "execution_count": 41,
     "metadata": {},
     "output_type": "execute_result"
    }
   ],
   "source": [
    "geneid_df[~geneid_df['notfound'].isna()].shape"
   ]
  },
  {
   "cell_type": "code",
   "execution_count": 42,
   "id": "11304e3f",
   "metadata": {},
   "outputs": [
    {
     "data": {
      "text/plain": [
       "['4844',\n",
       " '91734',\n",
       " '9952',\n",
       " '26062',\n",
       " '514',\n",
       " '8908',\n",
       " '7359',\n",
       " '169124',\n",
       " '4710',\n",
       " '284208',\n",
       " '4122',\n",
       " '26237',\n",
       " '2713',\n",
       " '286016',\n",
       " '9954',\n",
       " '286297',\n",
       " '4707',\n",
       " '4845',\n",
       " '2544',\n",
       " '5334',\n",
       " '6537',\n",
       " '285216',\n",
       " '222',\n",
       " '10476',\n",
       " '79087',\n",
       " '6487',\n",
       " '55350',\n",
       " '8781',\n",
       " '4541',\n",
       " '2679',\n",
       " '2655',\n",
       " '160287',\n",
       " '23563',\n",
       " '1159',\n",
       " '54480',\n",
       " '348477',\n",
       " '27124',\n",
       " '80068',\n",
       " '5240',\n",
       " '280',\n",
       " '2974']"
      ]
     },
     "execution_count": 42,
     "metadata": {},
     "output_type": "execute_result"
    }
   ],
   "source": [
    "geneid_df[~geneid_df['notfound'].isna()]['query'].values.tolist()"
   ]
  },
  {
   "cell_type": "code",
   "execution_count": 43,
   "id": "372aa312",
   "metadata": {
    "tags": []
   },
   "outputs": [],
   "source": [
    "manual_ids = {\n",
    "\n",
    " '10476' : 'Atp5pd',\n",
    " '5334' : 'Plcl1',\n",
    " '285216' : 'Mthfd2', # Not 100% sure\n",
    "# '169124', # Not found\n",
    " '8908' : 'Gyg1', # It should be 'Gyg2' but mus musculus does not have it\n",
    " '26237' : 'Eno1b',\n",
    " '54480' : 'Chpf2',\n",
    "# '6537', # Not found\n",
    " '4845' : 'Nos2', # It should be 'Nos2C', but not in mus musculus\n",
    " '6487' : 'St3gal3',\n",
    " '9952' : 'Hs3st2', # It should be 'Hs3st3', but not in mus musculus\n",
    " '4122' : 'Man2a2',\n",
    " '514' : 'Atp5f1e',\n",
    " '23563' : 'Chst5',\n",
    " '4707' : 'Ndufb1',\n",
    " '4844' : 'Nos2', # It should be 'Nos2B', but not in mus musculus\n",
    " '348477' : 'Mia3',\n",
    " '286297' : 'Mthfd2', # Not 100% sure\n",
    " '9954' : 'Hs3st1', # It should be 'Hs3st3', but not in mus musculus\n",
    " '2713' : 'Gk',\n",
    " '284208' : 'B3gntl1',\n",
    " '91734' : 'Idi2',\n",
    " '4541' : 'mt-Nd6',\n",
    " '160287' : 'Ldha',\n",
    " '7359' : 'Ugp2',\n",
    " '222' : 'Aldh3b2',\n",
    " '4710' : 'Ndufb4',\n",
    " '27124' : 'Inpp5j',\n",
    " '80068' : 'Mthfd2l',\n",
    " '280' : 'Amy2b',\n",
    " '8781' : 'Psph',\n",
    " '2974' : 'Gucy1b2',\n",
    " '286016' : 'Tpi1',\n",
    " '55350' : 'Vnn3',\n",
    " '2679' : 'Ggt1', # Should be Ggt3, but not in mus musculus\n",
    " '1159' : 'Ckmt1',\n",
    " '100039108' : 'Gm10231',\n",
    " '2544' : 'Slc37a4',\n",
    " '79087' : 'Alg12', \n",
    " '6537' : 'Slc6a8', \n",
    " '2655' : 'Ggct',\n",
    " '5240' : 'Pgp',\n",
    " #'169124' : '', # Not found\n",
    " '26062' : 'Hyal6'\n",
    "}"
   ]
  },
  {
   "cell_type": "code",
   "execution_count": 44,
   "id": "b2d6e8aa-bc31-4741-9bac-b41eb75ce447",
   "metadata": {
    "tags": []
   },
   "outputs": [
    {
     "data": {
      "text/plain": [
       "['169124']"
      ]
     },
     "execution_count": 44,
     "metadata": {},
     "output_type": "execute_result"
    }
   ],
   "source": [
    "[g for g in geneid_df[~geneid_df['notfound'].isna()]['query'].values.tolist() if g not in manual_ids.keys()]"
   ]
  },
  {
   "cell_type": "code",
   "execution_count": 45,
   "id": "6925c6b3",
   "metadata": {
    "tags": []
   },
   "outputs": [],
   "source": [
    "_df = geneid_df.copy()\n",
    "if 'notfound' in _df.columns:\n",
    "    _df = _df[_df['notfound'].isna()]\n",
    "_df['alias'] = [', '.join(a) if isinstance(a, list) else a for a in _df['alias']]"
   ]
  },
  {
   "cell_type": "code",
   "execution_count": 46,
   "id": "0c38b86d",
   "metadata": {
    "tags": []
   },
   "outputs": [
    {
     "data": {
      "text/plain": [
       "(1524, 7)"
      ]
     },
     "execution_count": 46,
     "metadata": {},
     "output_type": "execute_result"
    }
   ],
   "source": [
    "_df.shape"
   ]
  },
  {
   "cell_type": "code",
   "execution_count": 47,
   "id": "dd0613c7",
   "metadata": {
    "tags": []
   },
   "outputs": [],
   "source": [
    "sec_df = _df"
   ]
  },
  {
   "cell_type": "code",
   "execution_count": 48,
   "id": "93d8e3b2",
   "metadata": {
    "tags": []
   },
   "outputs": [
    {
     "data": {
      "text/html": [
       "<div>\n",
       "<style scoped>\n",
       "    .dataframe tbody tr th:only-of-type {\n",
       "        vertical-align: middle;\n",
       "    }\n",
       "\n",
       "    .dataframe tbody tr th {\n",
       "        vertical-align: top;\n",
       "    }\n",
       "\n",
       "    .dataframe thead th {\n",
       "        text-align: right;\n",
       "    }\n",
       "</style>\n",
       "<table border=\"1\" class=\"dataframe\">\n",
       "  <thead>\n",
       "    <tr style=\"text-align: right;\">\n",
       "      <th></th>\n",
       "      <th>query</th>\n",
       "      <th>alias</th>\n",
       "      <th>entrezgene</th>\n",
       "      <th>name</th>\n",
       "      <th>symbol</th>\n",
       "      <th>taxid</th>\n",
       "      <th>notfound</th>\n",
       "    </tr>\n",
       "  </thead>\n",
       "  <tbody>\n",
       "    <tr>\n",
       "      <th>0</th>\n",
       "      <td>18805</td>\n",
       "      <td>Pld1a, Pld1b, mPLD1</td>\n",
       "      <td>18805</td>\n",
       "      <td>phospholipase D1</td>\n",
       "      <td>Pld1</td>\n",
       "      <td>10090.0</td>\n",
       "      <td>NaN</td>\n",
       "    </tr>\n",
       "    <tr>\n",
       "      <th>1</th>\n",
       "      <td>26445</td>\n",
       "      <td>C7-I, D4Wsu33e, HC7-I</td>\n",
       "      <td>26445</td>\n",
       "      <td>proteasome (prosome, macropain) subunit, beta ...</td>\n",
       "      <td>Psmb2</td>\n",
       "      <td>10090.0</td>\n",
       "      <td>NaN</td>\n",
       "    </tr>\n",
       "    <tr>\n",
       "      <th>2</th>\n",
       "      <td>21871</td>\n",
       "      <td>8430408C20Rik, ATP6a2, Atp6n1d, Atp6n2, ISF, J...</td>\n",
       "      <td>21871</td>\n",
       "      <td>ATPase, H+ transporting, lysosomal V0 subunit A2</td>\n",
       "      <td>Atp6v0a2</td>\n",
       "      <td>10090.0</td>\n",
       "      <td>NaN</td>\n",
       "    </tr>\n",
       "    <tr>\n",
       "      <th>3</th>\n",
       "      <td>53897</td>\n",
       "      <td>Cst, Gcst</td>\n",
       "      <td>53897</td>\n",
       "      <td>galactose-3-O-sulfotransferase 1</td>\n",
       "      <td>Gal3st1</td>\n",
       "      <td>10090.0</td>\n",
       "      <td>NaN</td>\n",
       "    </tr>\n",
       "    <tr>\n",
       "      <th>4</th>\n",
       "      <td>243616</td>\n",
       "      <td>D930045G19Rik, E130202I16Rik, GAT4, Gabt4, Gat3</td>\n",
       "      <td>243616</td>\n",
       "      <td>solute carrier family 6 (neurotransmitter tran...</td>\n",
       "      <td>Slc6a11</td>\n",
       "      <td>10090.0</td>\n",
       "      <td>NaN</td>\n",
       "    </tr>\n",
       "  </tbody>\n",
       "</table>\n",
       "</div>"
      ],
      "text/plain": [
       "    query                                              alias entrezgene  \\\n",
       "0   18805                                Pld1a, Pld1b, mPLD1      18805   \n",
       "1   26445                              C7-I, D4Wsu33e, HC7-I      26445   \n",
       "2   21871  8430408C20Rik, ATP6a2, Atp6n1d, Atp6n2, ISF, J...      21871   \n",
       "3   53897                                          Cst, Gcst      53897   \n",
       "4  243616    D930045G19Rik, E130202I16Rik, GAT4, Gabt4, Gat3     243616   \n",
       "\n",
       "                                                name    symbol    taxid  \\\n",
       "0                                   phospholipase D1      Pld1  10090.0   \n",
       "1  proteasome (prosome, macropain) subunit, beta ...     Psmb2  10090.0   \n",
       "2   ATPase, H+ transporting, lysosomal V0 subunit A2  Atp6v0a2  10090.0   \n",
       "3                   galactose-3-O-sulfotransferase 1   Gal3st1  10090.0   \n",
       "4  solute carrier family 6 (neurotransmitter tran...   Slc6a11  10090.0   \n",
       "\n",
       "  notfound  \n",
       "0      NaN  \n",
       "1      NaN  \n",
       "2      NaN  \n",
       "3      NaN  \n",
       "4      NaN  "
      ]
     },
     "execution_count": 48,
     "metadata": {},
     "output_type": "execute_result"
    }
   ],
   "source": [
    "sec_df.head()"
   ]
  },
  {
   "cell_type": "markdown",
   "id": "cfa46b5e",
   "metadata": {},
   "source": [
    "### Mappers"
   ]
  },
  {
   "cell_type": "code",
   "execution_count": 49,
   "id": "0238bb75",
   "metadata": {
    "tags": []
   },
   "outputs": [],
   "source": [
    "gene_id = sec_df[['entrezgene', 'symbol']].set_index('entrezgene').to_dict()['symbol']\n",
    "gene_id.update(manual_ids)\n",
    "gene_id = {str(k) : v for k, v in gene_id.items()}"
   ]
  },
  {
   "cell_type": "code",
   "execution_count": 50,
   "id": "3f4eb80a",
   "metadata": {
    "tags": []
   },
   "outputs": [],
   "source": [
    "def find_genes_gpr(gpr_rule):\n",
    "    elements = re.findall(r'\\b[\\w:]+\\b', gpr_rule)\n",
    "    gene_ids = [e for e in elements if e not in ('and', 'or', 'AND', 'OR')]\n",
    "    return gene_ids"
   ]
  },
  {
   "cell_type": "code",
   "execution_count": 51,
   "id": "f60b2dc4",
   "metadata": {
    "tags": []
   },
   "outputs": [],
   "source": [
    "def replace_gene_ids_in_gpr(gpr_rule, gene_id_mapping):\n",
    "    # Use regular expressions to find gene IDs in the GPR rule\n",
    "    elements = re.findall(r'\\b[\\w:]+\\b', gpr_rule)\n",
    "    gene_ids = [e for e in elements if e not in ('and', 'or', 'AND', 'OR')]\n",
    "\n",
    "    # Replace gene IDs with their mapped values\n",
    "    updated_gpr_rule = gpr_rule\n",
    "    for gene_id in gene_ids:\n",
    "        gene_id = str(gene_id)\n",
    "        if gene_id in gene_id_mapping:\n",
    "            updated_gpr_rule = updated_gpr_rule.replace(gene_id, gene_id_mapping[gene_id])\n",
    "\n",
    "    return updated_gpr_rule"
   ]
  },
  {
   "cell_type": "code",
   "execution_count": 52,
   "id": "f2131260",
   "metadata": {
    "tags": []
   },
   "outputs": [],
   "source": [
    "def clean_gene_names(text):\n",
    "    # Remove spaces between parentheses and numbers\n",
    "    text = re.sub(r'\\(\\s+', '(', text)\n",
    "    text = re.sub(r'\\s+\\)', ')', text)\n",
    "\n",
    "    # Regular expression pattern for single numbers in parentheses\n",
    "    pattern = r'\\((\\d+)\\)'\n",
    "\n",
    "    # Replace the pattern with just the number\n",
    "    cleaned_text = re.sub(pattern, r'\\1', text)\n",
    "\n",
    "    return cleaned_text"
   ]
  },
  {
   "cell_type": "code",
   "execution_count": 53,
   "id": "3ae232f7",
   "metadata": {
    "tags": []
   },
   "outputs": [],
   "source": [
    "for idx, row in rxn_list.iterrows():\n",
    "    rxn_name = row['Reaction']\n",
    "    gpr = row['GPR']\n",
    "    if isinstance(gpr, str):\n",
    "        gpr_new = clean_gene_names(gpr)\n",
    "        old_ids = find_genes_gpr(gpr)\n",
    "        new_ids = find_genes_gpr(gpr_new)\n",
    "\n",
    "        assert(all([x1 == x2 for x1, x2 in zip(sorted(old_ids), sorted(new_ids))]))"
   ]
  },
  {
   "cell_type": "code",
   "execution_count": 54,
   "id": "c04f6ca6",
   "metadata": {
    "tags": []
   },
   "outputs": [
    {
     "data": {
      "text/plain": [
       "'( 19170 ) and ( 26445 ) and ( 26446 ) and ( 19172 ) and ( 19173 ) and ( 19175 ) and ( 19177 ) and ( 16913 ) and ( 16912 ) and ( 19171 ) and ( 73902 )'"
      ]
     },
     "execution_count": 54,
     "metadata": {},
     "output_type": "execute_result"
    }
   ],
   "source": [
    "gpr"
   ]
  },
  {
   "cell_type": "code",
   "execution_count": 55,
   "id": "2118f848",
   "metadata": {
    "tags": []
   },
   "outputs": [
    {
     "data": {
      "text/plain": [
       "'19170 and 26445 and 26446 and 19172 and 19173 and 19175 and 19177 and 16913 and 16912 and 19171 and 73902'"
      ]
     },
     "execution_count": 55,
     "metadata": {},
     "output_type": "execute_result"
    }
   ],
   "source": [
    "gpr_new"
   ]
  },
  {
   "cell_type": "code",
   "execution_count": 56,
   "id": "cda81bb3",
   "metadata": {
    "tags": []
   },
   "outputs": [
    {
     "data": {
      "text/plain": [
       "True"
      ]
     },
     "execution_count": 56,
     "metadata": {},
     "output_type": "execute_result"
    }
   ],
   "source": [
    "all([x1 == x2 for x1, x2 in zip(sorted(old_ids), sorted(new_ids))])"
   ]
  },
  {
   "cell_type": "code",
   "execution_count": 57,
   "id": "399ba5cb",
   "metadata": {
    "tags": []
   },
   "outputs": [],
   "source": [
    "# Convert entrez to gene symbol\n",
    "records = []\n",
    "for idx, row in rxn_list.iterrows():\n",
    "    rxn_name = row['Reaction']\n",
    "    gpr = row['GPR']\n",
    "    if isinstance(gpr, str):\n",
    "        gpr = clean_gene_names(gpr)\n",
    "            \n",
    "    records.append((rxn_name, gpr))\n",
    "rxn_list_updated = pd.DataFrame.from_records(records, columns=rxn_list.columns)"
   ]
  },
  {
   "cell_type": "code",
   "execution_count": 58,
   "id": "c46db345",
   "metadata": {
    "tags": []
   },
   "outputs": [
    {
     "data": {
      "text/plain": [
       "(2338, 2)"
      ]
     },
     "execution_count": 58,
     "metadata": {},
     "output_type": "execute_result"
    }
   ],
   "source": [
    "rxn_list_updated.shape"
   ]
  },
  {
   "cell_type": "code",
   "execution_count": 59,
   "id": "4f104b95",
   "metadata": {
    "tags": []
   },
   "outputs": [],
   "source": [
    "rxn_list_updated['GPR-symbol'] = rxn_list_updated['GPR'].apply(lambda x: replace_gene_ids_in_gpr(x, gene_id) if isinstance(x, str) else np.nan)"
   ]
  },
  {
   "cell_type": "code",
   "execution_count": 60,
   "id": "c2dae097",
   "metadata": {
    "tags": []
   },
   "outputs": [],
   "source": [
    "rxn_list_updated['GPR-symbol'] = rxn_list_updated['GPR-symbol'].replace(np.nan, '')"
   ]
  },
  {
   "cell_type": "code",
   "execution_count": 61,
   "id": "adfbad91",
   "metadata": {
    "tags": []
   },
   "outputs": [
    {
     "data": {
      "text/html": [
       "<div>\n",
       "<style scoped>\n",
       "    .dataframe tbody tr th:only-of-type {\n",
       "        vertical-align: middle;\n",
       "    }\n",
       "\n",
       "    .dataframe tbody tr th {\n",
       "        vertical-align: top;\n",
       "    }\n",
       "\n",
       "    .dataframe thead th {\n",
       "        text-align: right;\n",
       "    }\n",
       "</style>\n",
       "<table border=\"1\" class=\"dataframe\">\n",
       "  <thead>\n",
       "    <tr style=\"text-align: right;\">\n",
       "      <th></th>\n",
       "      <th>Reaction</th>\n",
       "      <th>GPR</th>\n",
       "      <th>GPR-symbol</th>\n",
       "    </tr>\n",
       "  </thead>\n",
       "  <tbody>\n",
       "    <tr>\n",
       "      <th>0</th>\n",
       "      <td>13DAMPPOX</td>\n",
       "      <td>11754 or 76507 or 237940 or 237940</td>\n",
       "      <td>Aoc3 or Aoc1 or Aoc2 or Aoc2</td>\n",
       "    </tr>\n",
       "    <tr>\n",
       "      <th>1</th>\n",
       "      <td>24_25VITD2Hm</td>\n",
       "      <td>13081</td>\n",
       "      <td>Cyp24a1</td>\n",
       "    </tr>\n",
       "    <tr>\n",
       "      <th>2</th>\n",
       "      <td>24_25VITD3Hm</td>\n",
       "      <td>13081</td>\n",
       "      <td>Cyp24a1</td>\n",
       "    </tr>\n",
       "    <tr>\n",
       "      <th>3</th>\n",
       "      <td>25VITD2Hm</td>\n",
       "      <td>13115</td>\n",
       "      <td>Cyp27b1</td>\n",
       "    </tr>\n",
       "    <tr>\n",
       "      <th>4</th>\n",
       "      <td>25VITD3Hm</td>\n",
       "      <td>13115</td>\n",
       "      <td>Cyp27b1</td>\n",
       "    </tr>\n",
       "    <tr>\n",
       "      <th>...</th>\n",
       "      <td>...</td>\n",
       "      <td>...</td>\n",
       "      <td>...</td>\n",
       "    </tr>\n",
       "    <tr>\n",
       "      <th>2333</th>\n",
       "      <td>co_TRANSLOC_6</td>\n",
       "      <td>53421 and 66212 and 20335 and 69276 and 140740...</td>\n",
       "      <td>Sec61a1 and Sec61b and Sec61g and Sec62 and Se...</td>\n",
       "    </tr>\n",
       "    <tr>\n",
       "      <th>2334</th>\n",
       "      <td>BiP_release</td>\n",
       "      <td>81500 and 12282 and 14828</td>\n",
       "      <td>Sil1 and Hyou1 and Hspa5</td>\n",
       "    </tr>\n",
       "    <tr>\n",
       "      <th>2335</th>\n",
       "      <td>SP_degradation</td>\n",
       "      <td>(26440 or 19166 or 19167 or 26441 or 26442 or ...</td>\n",
       "      <td>(Psma1 or Psma2 or Psma3 or Psma4 or Psma5 or ...</td>\n",
       "    </tr>\n",
       "    <tr>\n",
       "      <th>2336</th>\n",
       "      <td>PROTA_formation</td>\n",
       "      <td>26440 and 19166 and 19167 and 26441 and 26442 ...</td>\n",
       "      <td>Psma1 and Psma2 and Psma3 and Psma4 and Psma5 ...</td>\n",
       "    </tr>\n",
       "    <tr>\n",
       "      <th>2337</th>\n",
       "      <td>PROTB_formation</td>\n",
       "      <td>19170 and 26445 and 26446 and 19172 and 19173 ...</td>\n",
       "      <td>Psmb1 and Psmb2 and Psmb3 and Psmb4 and Psmb5 ...</td>\n",
       "    </tr>\n",
       "  </tbody>\n",
       "</table>\n",
       "<p>2338 rows × 3 columns</p>\n",
       "</div>"
      ],
      "text/plain": [
       "             Reaction                                                GPR  \\\n",
       "0           13DAMPPOX                 11754 or 76507 or 237940 or 237940   \n",
       "1        24_25VITD2Hm                                              13081   \n",
       "2        24_25VITD3Hm                                              13081   \n",
       "3           25VITD2Hm                                              13115   \n",
       "4           25VITD3Hm                                              13115   \n",
       "...               ...                                                ...   \n",
       "2333    co_TRANSLOC_6  53421 and 66212 and 20335 and 69276 and 140740...   \n",
       "2334      BiP_release                          81500 and 12282 and 14828   \n",
       "2335   SP_degradation  (26440 or 19166 or 19167 or 26441 or 26442 or ...   \n",
       "2336  PROTA_formation  26440 and 19166 and 19167 and 26441 and 26442 ...   \n",
       "2337  PROTB_formation  19170 and 26445 and 26446 and 19172 and 19173 ...   \n",
       "\n",
       "                                             GPR-symbol  \n",
       "0                          Aoc3 or Aoc1 or Aoc2 or Aoc2  \n",
       "1                                               Cyp24a1  \n",
       "2                                               Cyp24a1  \n",
       "3                                               Cyp27b1  \n",
       "4                                               Cyp27b1  \n",
       "...                                                 ...  \n",
       "2333  Sec61a1 and Sec61b and Sec61g and Sec62 and Se...  \n",
       "2334                           Sil1 and Hyou1 and Hspa5  \n",
       "2335  (Psma1 or Psma2 or Psma3 or Psma4 or Psma5 or ...  \n",
       "2336  Psma1 and Psma2 and Psma3 and Psma4 and Psma5 ...  \n",
       "2337  Psmb1 and Psmb2 and Psmb3 and Psmb4 and Psmb5 ...  \n",
       "\n",
       "[2338 rows x 3 columns]"
      ]
     },
     "execution_count": 61,
     "metadata": {},
     "output_type": "execute_result"
    }
   ],
   "source": [
    "rxn_list_updated"
   ]
  },
  {
   "cell_type": "code",
   "execution_count": 62,
   "id": "c02abf75",
   "metadata": {
    "tags": []
   },
   "outputs": [],
   "source": [
    "rxn_records = []\n",
    "for idx, row in rxn_list_updated.iterrows():\n",
    "    rxn_name = row['Reaction']\n",
    "    gpr = row['GPR-symbol']\n",
    "    if isinstance(gpr, str):\n",
    "        elements = re.findall(r'\\b[\\w:]+\\b', gpr)\n",
    "        _genes = [e for e in elements if e not in ('and', 'or', 'AND', 'OR')]\n",
    "        for g in _genes:\n",
    "            rxn_records.append((rxn_name, g))"
   ]
  },
  {
   "cell_type": "code",
   "execution_count": 63,
   "id": "d6fe4477",
   "metadata": {
    "tags": []
   },
   "outputs": [],
   "source": [
    "rxn_gene_df = pd.DataFrame.from_records(rxn_records, columns=['Reaction', 'Gene'])"
   ]
  },
  {
   "cell_type": "code",
   "execution_count": 64,
   "id": "747d31e5",
   "metadata": {
    "tags": []
   },
   "outputs": [
    {
     "data": {
      "text/html": [
       "<div>\n",
       "<style scoped>\n",
       "    .dataframe tbody tr th:only-of-type {\n",
       "        vertical-align: middle;\n",
       "    }\n",
       "\n",
       "    .dataframe tbody tr th {\n",
       "        vertical-align: top;\n",
       "    }\n",
       "\n",
       "    .dataframe thead th {\n",
       "        text-align: right;\n",
       "    }\n",
       "</style>\n",
       "<table border=\"1\" class=\"dataframe\">\n",
       "  <thead>\n",
       "    <tr style=\"text-align: right;\">\n",
       "      <th></th>\n",
       "      <th>Reaction</th>\n",
       "      <th>Gene</th>\n",
       "    </tr>\n",
       "  </thead>\n",
       "  <tbody>\n",
       "    <tr>\n",
       "      <th>0</th>\n",
       "      <td>13DAMPPOX</td>\n",
       "      <td>Aoc3</td>\n",
       "    </tr>\n",
       "    <tr>\n",
       "      <th>1</th>\n",
       "      <td>13DAMPPOX</td>\n",
       "      <td>Aoc1</td>\n",
       "    </tr>\n",
       "    <tr>\n",
       "      <th>2</th>\n",
       "      <td>13DAMPPOX</td>\n",
       "      <td>Aoc2</td>\n",
       "    </tr>\n",
       "    <tr>\n",
       "      <th>3</th>\n",
       "      <td>13DAMPPOX</td>\n",
       "      <td>Aoc2</td>\n",
       "    </tr>\n",
       "    <tr>\n",
       "      <th>4</th>\n",
       "      <td>24_25VITD2Hm</td>\n",
       "      <td>Cyp24a1</td>\n",
       "    </tr>\n",
       "  </tbody>\n",
       "</table>\n",
       "</div>"
      ],
      "text/plain": [
       "       Reaction     Gene\n",
       "0     13DAMPPOX     Aoc3\n",
       "1     13DAMPPOX     Aoc1\n",
       "2     13DAMPPOX     Aoc2\n",
       "3     13DAMPPOX     Aoc2\n",
       "4  24_25VITD2Hm  Cyp24a1"
      ]
     },
     "execution_count": 64,
     "metadata": {},
     "output_type": "execute_result"
    }
   ],
   "source": [
    "rxn_gene_df.head()"
   ]
  },
  {
   "cell_type": "code",
   "execution_count": 65,
   "id": "de890364",
   "metadata": {
    "tags": []
   },
   "outputs": [],
   "source": [
    "rxn_by_gene = pd.crosstab(rxn_gene_df['Reaction'], rxn_gene_df['Gene'])\n",
    "rxn_by_gene[rxn_by_gene > 0] = 1\n",
    "rxn_by_gene=rxn_by_gene.reindex(rxn_list['Reaction'].values, fill_value=0.0)"
   ]
  },
  {
   "cell_type": "code",
   "execution_count": 66,
   "id": "9d884b57",
   "metadata": {
    "tags": []
   },
   "outputs": [
    {
     "data": {
      "text/html": [
       "<div>\n",
       "<style scoped>\n",
       "    .dataframe tbody tr th:only-of-type {\n",
       "        vertical-align: middle;\n",
       "    }\n",
       "\n",
       "    .dataframe tbody tr th {\n",
       "        vertical-align: top;\n",
       "    }\n",
       "\n",
       "    .dataframe thead th {\n",
       "        text-align: right;\n",
       "    }\n",
       "</style>\n",
       "<table border=\"1\" class=\"dataframe\">\n",
       "  <thead>\n",
       "    <tr style=\"text-align: right;\">\n",
       "      <th>Gene</th>\n",
       "      <th>667301</th>\n",
       "      <th>A4galt</th>\n",
       "      <th>A4gnt</th>\n",
       "      <th>Aacs</th>\n",
       "      <th>Aadac</th>\n",
       "      <th>Aadat</th>\n",
       "      <th>Aanat</th>\n",
       "      <th>Aass</th>\n",
       "      <th>Abat</th>\n",
       "      <th>Abca1</th>\n",
       "      <th>...</th>\n",
       "      <th>Vcp</th>\n",
       "      <th>Vmn2r37</th>\n",
       "      <th>Vnn1</th>\n",
       "      <th>Vnn3</th>\n",
       "      <th>Xdh</th>\n",
       "      <th>Xylb</th>\n",
       "      <th>Xylt1</th>\n",
       "      <th>Xylt2</th>\n",
       "      <th>mt</th>\n",
       "      <th>ps1</th>\n",
       "    </tr>\n",
       "    <tr>\n",
       "      <th>Reaction</th>\n",
       "      <th></th>\n",
       "      <th></th>\n",
       "      <th></th>\n",
       "      <th></th>\n",
       "      <th></th>\n",
       "      <th></th>\n",
       "      <th></th>\n",
       "      <th></th>\n",
       "      <th></th>\n",
       "      <th></th>\n",
       "      <th></th>\n",
       "      <th></th>\n",
       "      <th></th>\n",
       "      <th></th>\n",
       "      <th></th>\n",
       "      <th></th>\n",
       "      <th></th>\n",
       "      <th></th>\n",
       "      <th></th>\n",
       "      <th></th>\n",
       "      <th></th>\n",
       "    </tr>\n",
       "  </thead>\n",
       "  <tbody>\n",
       "    <tr>\n",
       "      <th>13DAMPPOX</th>\n",
       "      <td>0</td>\n",
       "      <td>0</td>\n",
       "      <td>0</td>\n",
       "      <td>0</td>\n",
       "      <td>0</td>\n",
       "      <td>0</td>\n",
       "      <td>0</td>\n",
       "      <td>0</td>\n",
       "      <td>0</td>\n",
       "      <td>0</td>\n",
       "      <td>...</td>\n",
       "      <td>0</td>\n",
       "      <td>0</td>\n",
       "      <td>0</td>\n",
       "      <td>0</td>\n",
       "      <td>0</td>\n",
       "      <td>0</td>\n",
       "      <td>0</td>\n",
       "      <td>0</td>\n",
       "      <td>0</td>\n",
       "      <td>0</td>\n",
       "    </tr>\n",
       "    <tr>\n",
       "      <th>24_25VITD2Hm</th>\n",
       "      <td>0</td>\n",
       "      <td>0</td>\n",
       "      <td>0</td>\n",
       "      <td>0</td>\n",
       "      <td>0</td>\n",
       "      <td>0</td>\n",
       "      <td>0</td>\n",
       "      <td>0</td>\n",
       "      <td>0</td>\n",
       "      <td>0</td>\n",
       "      <td>...</td>\n",
       "      <td>0</td>\n",
       "      <td>0</td>\n",
       "      <td>0</td>\n",
       "      <td>0</td>\n",
       "      <td>0</td>\n",
       "      <td>0</td>\n",
       "      <td>0</td>\n",
       "      <td>0</td>\n",
       "      <td>0</td>\n",
       "      <td>0</td>\n",
       "    </tr>\n",
       "    <tr>\n",
       "      <th>24_25VITD3Hm</th>\n",
       "      <td>0</td>\n",
       "      <td>0</td>\n",
       "      <td>0</td>\n",
       "      <td>0</td>\n",
       "      <td>0</td>\n",
       "      <td>0</td>\n",
       "      <td>0</td>\n",
       "      <td>0</td>\n",
       "      <td>0</td>\n",
       "      <td>0</td>\n",
       "      <td>...</td>\n",
       "      <td>0</td>\n",
       "      <td>0</td>\n",
       "      <td>0</td>\n",
       "      <td>0</td>\n",
       "      <td>0</td>\n",
       "      <td>0</td>\n",
       "      <td>0</td>\n",
       "      <td>0</td>\n",
       "      <td>0</td>\n",
       "      <td>0</td>\n",
       "    </tr>\n",
       "    <tr>\n",
       "      <th>25VITD2Hm</th>\n",
       "      <td>0</td>\n",
       "      <td>0</td>\n",
       "      <td>0</td>\n",
       "      <td>0</td>\n",
       "      <td>0</td>\n",
       "      <td>0</td>\n",
       "      <td>0</td>\n",
       "      <td>0</td>\n",
       "      <td>0</td>\n",
       "      <td>0</td>\n",
       "      <td>...</td>\n",
       "      <td>0</td>\n",
       "      <td>0</td>\n",
       "      <td>0</td>\n",
       "      <td>0</td>\n",
       "      <td>0</td>\n",
       "      <td>0</td>\n",
       "      <td>0</td>\n",
       "      <td>0</td>\n",
       "      <td>0</td>\n",
       "      <td>0</td>\n",
       "    </tr>\n",
       "    <tr>\n",
       "      <th>25VITD3Hm</th>\n",
       "      <td>0</td>\n",
       "      <td>0</td>\n",
       "      <td>0</td>\n",
       "      <td>0</td>\n",
       "      <td>0</td>\n",
       "      <td>0</td>\n",
       "      <td>0</td>\n",
       "      <td>0</td>\n",
       "      <td>0</td>\n",
       "      <td>0</td>\n",
       "      <td>...</td>\n",
       "      <td>0</td>\n",
       "      <td>0</td>\n",
       "      <td>0</td>\n",
       "      <td>0</td>\n",
       "      <td>0</td>\n",
       "      <td>0</td>\n",
       "      <td>0</td>\n",
       "      <td>0</td>\n",
       "      <td>0</td>\n",
       "      <td>0</td>\n",
       "    </tr>\n",
       "    <tr>\n",
       "      <th>...</th>\n",
       "      <td>...</td>\n",
       "      <td>...</td>\n",
       "      <td>...</td>\n",
       "      <td>...</td>\n",
       "      <td>...</td>\n",
       "      <td>...</td>\n",
       "      <td>...</td>\n",
       "      <td>...</td>\n",
       "      <td>...</td>\n",
       "      <td>...</td>\n",
       "      <td>...</td>\n",
       "      <td>...</td>\n",
       "      <td>...</td>\n",
       "      <td>...</td>\n",
       "      <td>...</td>\n",
       "      <td>...</td>\n",
       "      <td>...</td>\n",
       "      <td>...</td>\n",
       "      <td>...</td>\n",
       "      <td>...</td>\n",
       "      <td>...</td>\n",
       "    </tr>\n",
       "    <tr>\n",
       "      <th>co_TRANSLOC_6</th>\n",
       "      <td>0</td>\n",
       "      <td>0</td>\n",
       "      <td>0</td>\n",
       "      <td>0</td>\n",
       "      <td>0</td>\n",
       "      <td>0</td>\n",
       "      <td>0</td>\n",
       "      <td>0</td>\n",
       "      <td>0</td>\n",
       "      <td>0</td>\n",
       "      <td>...</td>\n",
       "      <td>0</td>\n",
       "      <td>0</td>\n",
       "      <td>0</td>\n",
       "      <td>0</td>\n",
       "      <td>0</td>\n",
       "      <td>0</td>\n",
       "      <td>0</td>\n",
       "      <td>0</td>\n",
       "      <td>0</td>\n",
       "      <td>0</td>\n",
       "    </tr>\n",
       "    <tr>\n",
       "      <th>BiP_release</th>\n",
       "      <td>0</td>\n",
       "      <td>0</td>\n",
       "      <td>0</td>\n",
       "      <td>0</td>\n",
       "      <td>0</td>\n",
       "      <td>0</td>\n",
       "      <td>0</td>\n",
       "      <td>0</td>\n",
       "      <td>0</td>\n",
       "      <td>0</td>\n",
       "      <td>...</td>\n",
       "      <td>0</td>\n",
       "      <td>0</td>\n",
       "      <td>0</td>\n",
       "      <td>0</td>\n",
       "      <td>0</td>\n",
       "      <td>0</td>\n",
       "      <td>0</td>\n",
       "      <td>0</td>\n",
       "      <td>0</td>\n",
       "      <td>0</td>\n",
       "    </tr>\n",
       "    <tr>\n",
       "      <th>SP_degradation</th>\n",
       "      <td>0</td>\n",
       "      <td>0</td>\n",
       "      <td>0</td>\n",
       "      <td>0</td>\n",
       "      <td>0</td>\n",
       "      <td>0</td>\n",
       "      <td>0</td>\n",
       "      <td>0</td>\n",
       "      <td>0</td>\n",
       "      <td>0</td>\n",
       "      <td>...</td>\n",
       "      <td>0</td>\n",
       "      <td>0</td>\n",
       "      <td>0</td>\n",
       "      <td>0</td>\n",
       "      <td>0</td>\n",
       "      <td>0</td>\n",
       "      <td>0</td>\n",
       "      <td>0</td>\n",
       "      <td>0</td>\n",
       "      <td>0</td>\n",
       "    </tr>\n",
       "    <tr>\n",
       "      <th>PROTA_formation</th>\n",
       "      <td>0</td>\n",
       "      <td>0</td>\n",
       "      <td>0</td>\n",
       "      <td>0</td>\n",
       "      <td>0</td>\n",
       "      <td>0</td>\n",
       "      <td>0</td>\n",
       "      <td>0</td>\n",
       "      <td>0</td>\n",
       "      <td>0</td>\n",
       "      <td>...</td>\n",
       "      <td>0</td>\n",
       "      <td>0</td>\n",
       "      <td>0</td>\n",
       "      <td>0</td>\n",
       "      <td>0</td>\n",
       "      <td>0</td>\n",
       "      <td>0</td>\n",
       "      <td>0</td>\n",
       "      <td>0</td>\n",
       "      <td>0</td>\n",
       "    </tr>\n",
       "    <tr>\n",
       "      <th>PROTB_formation</th>\n",
       "      <td>0</td>\n",
       "      <td>0</td>\n",
       "      <td>0</td>\n",
       "      <td>0</td>\n",
       "      <td>0</td>\n",
       "      <td>0</td>\n",
       "      <td>0</td>\n",
       "      <td>0</td>\n",
       "      <td>0</td>\n",
       "      <td>0</td>\n",
       "      <td>...</td>\n",
       "      <td>0</td>\n",
       "      <td>0</td>\n",
       "      <td>0</td>\n",
       "      <td>0</td>\n",
       "      <td>0</td>\n",
       "      <td>0</td>\n",
       "      <td>0</td>\n",
       "      <td>0</td>\n",
       "      <td>0</td>\n",
       "      <td>0</td>\n",
       "    </tr>\n",
       "  </tbody>\n",
       "</table>\n",
       "<p>2338 rows × 1548 columns</p>\n",
       "</div>"
      ],
      "text/plain": [
       "Gene             667301  A4galt  A4gnt  Aacs  Aadac  Aadat  Aanat  Aass  Abat  \\\n",
       "Reaction                                                                        \n",
       "13DAMPPOX             0       0      0     0      0      0      0     0     0   \n",
       "24_25VITD2Hm          0       0      0     0      0      0      0     0     0   \n",
       "24_25VITD3Hm          0       0      0     0      0      0      0     0     0   \n",
       "25VITD2Hm             0       0      0     0      0      0      0     0     0   \n",
       "25VITD3Hm             0       0      0     0      0      0      0     0     0   \n",
       "...                 ...     ...    ...   ...    ...    ...    ...   ...   ...   \n",
       "co_TRANSLOC_6         0       0      0     0      0      0      0     0     0   \n",
       "BiP_release           0       0      0     0      0      0      0     0     0   \n",
       "SP_degradation        0       0      0     0      0      0      0     0     0   \n",
       "PROTA_formation       0       0      0     0      0      0      0     0     0   \n",
       "PROTB_formation       0       0      0     0      0      0      0     0     0   \n",
       "\n",
       "Gene             Abca1  ...  Vcp  Vmn2r37  Vnn1  Vnn3  Xdh  Xylb  Xylt1  \\\n",
       "Reaction                ...                                               \n",
       "13DAMPPOX            0  ...    0        0     0     0    0     0      0   \n",
       "24_25VITD2Hm         0  ...    0        0     0     0    0     0      0   \n",
       "24_25VITD3Hm         0  ...    0        0     0     0    0     0      0   \n",
       "25VITD2Hm            0  ...    0        0     0     0    0     0      0   \n",
       "25VITD3Hm            0  ...    0        0     0     0    0     0      0   \n",
       "...                ...  ...  ...      ...   ...   ...  ...   ...    ...   \n",
       "co_TRANSLOC_6        0  ...    0        0     0     0    0     0      0   \n",
       "BiP_release          0  ...    0        0     0     0    0     0      0   \n",
       "SP_degradation       0  ...    0        0     0     0    0     0      0   \n",
       "PROTA_formation      0  ...    0        0     0     0    0     0      0   \n",
       "PROTB_formation      0  ...    0        0     0     0    0     0      0   \n",
       "\n",
       "Gene             Xylt2  mt  ps1  \n",
       "Reaction                         \n",
       "13DAMPPOX            0   0    0  \n",
       "24_25VITD2Hm         0   0    0  \n",
       "24_25VITD3Hm         0   0    0  \n",
       "25VITD2Hm            0   0    0  \n",
       "25VITD3Hm            0   0    0  \n",
       "...                ...  ..  ...  \n",
       "co_TRANSLOC_6        0   0    0  \n",
       "BiP_release          0   0    0  \n",
       "SP_degradation       0   0    0  \n",
       "PROTA_formation      0   0    0  \n",
       "PROTB_formation      0   0    0  \n",
       "\n",
       "[2338 rows x 1548 columns]"
      ]
     },
     "execution_count": 66,
     "metadata": {},
     "output_type": "execute_result"
    }
   ],
   "source": [
    "genes_to_drop = geneid_df[~geneid_df['notfound'].isna()]['query'].unique()\n",
    "genes_to_drop = [g for g in genes_to_drop if g in rxn_by_gene.columns] #+ ['100039108']\n",
    "\n",
    "rxn_by_gene.drop(columns=genes_to_drop)"
   ]
  },
  {
   "cell_type": "code",
   "execution_count": 67,
   "id": "abdda8f6",
   "metadata": {
    "tags": []
   },
   "outputs": [],
   "source": [
    "rxn_by_gene = rxn_by_gene.drop(columns=genes_to_drop)"
   ]
  },
  {
   "cell_type": "code",
   "execution_count": 68,
   "id": "c91a4a8a",
   "metadata": {
    "tags": []
   },
   "outputs": [
    {
     "data": {
      "text/html": [
       "<div>\n",
       "<style scoped>\n",
       "    .dataframe tbody tr th:only-of-type {\n",
       "        vertical-align: middle;\n",
       "    }\n",
       "\n",
       "    .dataframe tbody tr th {\n",
       "        vertical-align: top;\n",
       "    }\n",
       "\n",
       "    .dataframe thead th {\n",
       "        text-align: right;\n",
       "    }\n",
       "</style>\n",
       "<table border=\"1\" class=\"dataframe\">\n",
       "  <thead>\n",
       "    <tr style=\"text-align: right;\">\n",
       "      <th>Reaction</th>\n",
       "      <th>10FTHFtm</th>\n",
       "      <th>1PPDCRp</th>\n",
       "      <th>2AMACHYD</th>\n",
       "      <th>2AMADPTm</th>\n",
       "      <th>2OXOADOXm</th>\n",
       "      <th>2OXOADPTm</th>\n",
       "      <th>34HPLFM</th>\n",
       "      <th>34HPPOR</th>\n",
       "      <th>3DPHBH1</th>\n",
       "      <th>3DSPHR</th>\n",
       "      <th>...</th>\n",
       "      <th>post_TRANSLOC_1</th>\n",
       "      <th>post_TRANSLOC_2</th>\n",
       "      <th>post_TRANSLOC_3A_1</th>\n",
       "      <th>post_TRANSLOC_3A_2</th>\n",
       "      <th>post_TRANSLOC_3B_1</th>\n",
       "      <th>post_TRANSLOC_3B_2</th>\n",
       "      <th>post_TRANSLOC_3B_3</th>\n",
       "      <th>retro_TRANSLOC_1</th>\n",
       "      <th>retro_TRANSLOC_2</th>\n",
       "      <th>thr_mt</th>\n",
       "    </tr>\n",
       "    <tr>\n",
       "      <th>Task</th>\n",
       "      <th></th>\n",
       "      <th></th>\n",
       "      <th></th>\n",
       "      <th></th>\n",
       "      <th></th>\n",
       "      <th></th>\n",
       "      <th></th>\n",
       "      <th></th>\n",
       "      <th></th>\n",
       "      <th></th>\n",
       "      <th></th>\n",
       "      <th></th>\n",
       "      <th></th>\n",
       "      <th></th>\n",
       "      <th></th>\n",
       "      <th></th>\n",
       "      <th></th>\n",
       "      <th></th>\n",
       "      <th></th>\n",
       "      <th></th>\n",
       "      <th></th>\n",
       "    </tr>\n",
       "  </thead>\n",
       "  <tbody>\n",
       "    <tr>\n",
       "      <th>(R)-3-Hydroxybutanoate synthesis</th>\n",
       "      <td>0</td>\n",
       "      <td>0</td>\n",
       "      <td>0</td>\n",
       "      <td>0</td>\n",
       "      <td>0</td>\n",
       "      <td>0</td>\n",
       "      <td>0</td>\n",
       "      <td>0</td>\n",
       "      <td>0</td>\n",
       "      <td>0</td>\n",
       "      <td>...</td>\n",
       "      <td>0</td>\n",
       "      <td>0</td>\n",
       "      <td>0</td>\n",
       "      <td>0</td>\n",
       "      <td>0</td>\n",
       "      <td>0</td>\n",
       "      <td>0</td>\n",
       "      <td>0</td>\n",
       "      <td>0</td>\n",
       "      <td>0</td>\n",
       "    </tr>\n",
       "    <tr>\n",
       "      <th>3'-Phospho-5'-adenylyl sulfate synthesis</th>\n",
       "      <td>0</td>\n",
       "      <td>0</td>\n",
       "      <td>0</td>\n",
       "      <td>0</td>\n",
       "      <td>0</td>\n",
       "      <td>0</td>\n",
       "      <td>0</td>\n",
       "      <td>0</td>\n",
       "      <td>0</td>\n",
       "      <td>0</td>\n",
       "      <td>...</td>\n",
       "      <td>0</td>\n",
       "      <td>0</td>\n",
       "      <td>0</td>\n",
       "      <td>0</td>\n",
       "      <td>0</td>\n",
       "      <td>0</td>\n",
       "      <td>0</td>\n",
       "      <td>0</td>\n",
       "      <td>0</td>\n",
       "      <td>0</td>\n",
       "    </tr>\n",
       "    <tr>\n",
       "      <th>AMP salvage from adenine</th>\n",
       "      <td>0</td>\n",
       "      <td>0</td>\n",
       "      <td>0</td>\n",
       "      <td>0</td>\n",
       "      <td>0</td>\n",
       "      <td>0</td>\n",
       "      <td>0</td>\n",
       "      <td>0</td>\n",
       "      <td>0</td>\n",
       "      <td>0</td>\n",
       "      <td>...</td>\n",
       "      <td>0</td>\n",
       "      <td>0</td>\n",
       "      <td>0</td>\n",
       "      <td>0</td>\n",
       "      <td>0</td>\n",
       "      <td>0</td>\n",
       "      <td>0</td>\n",
       "      <td>0</td>\n",
       "      <td>0</td>\n",
       "      <td>0</td>\n",
       "    </tr>\n",
       "    <tr>\n",
       "      <th>ATP generation from glucose (hypoxic conditions) - glycolysis</th>\n",
       "      <td>0</td>\n",
       "      <td>0</td>\n",
       "      <td>0</td>\n",
       "      <td>0</td>\n",
       "      <td>0</td>\n",
       "      <td>0</td>\n",
       "      <td>0</td>\n",
       "      <td>0</td>\n",
       "      <td>0</td>\n",
       "      <td>0</td>\n",
       "      <td>...</td>\n",
       "      <td>0</td>\n",
       "      <td>0</td>\n",
       "      <td>0</td>\n",
       "      <td>0</td>\n",
       "      <td>0</td>\n",
       "      <td>0</td>\n",
       "      <td>0</td>\n",
       "      <td>0</td>\n",
       "      <td>0</td>\n",
       "      <td>0</td>\n",
       "    </tr>\n",
       "    <tr>\n",
       "      <th>Acetoacetate synthesis</th>\n",
       "      <td>0</td>\n",
       "      <td>0</td>\n",
       "      <td>0</td>\n",
       "      <td>0</td>\n",
       "      <td>0</td>\n",
       "      <td>0</td>\n",
       "      <td>0</td>\n",
       "      <td>0</td>\n",
       "      <td>0</td>\n",
       "      <td>0</td>\n",
       "      <td>...</td>\n",
       "      <td>0</td>\n",
       "      <td>0</td>\n",
       "      <td>0</td>\n",
       "      <td>0</td>\n",
       "      <td>0</td>\n",
       "      <td>0</td>\n",
       "      <td>0</td>\n",
       "      <td>0</td>\n",
       "      <td>0</td>\n",
       "      <td>0</td>\n",
       "    </tr>\n",
       "    <tr>\n",
       "      <th>...</th>\n",
       "      <td>...</td>\n",
       "      <td>...</td>\n",
       "      <td>...</td>\n",
       "      <td>...</td>\n",
       "      <td>...</td>\n",
       "      <td>...</td>\n",
       "      <td>...</td>\n",
       "      <td>...</td>\n",
       "      <td>...</td>\n",
       "      <td>...</td>\n",
       "      <td>...</td>\n",
       "      <td>...</td>\n",
       "      <td>...</td>\n",
       "      <td>...</td>\n",
       "      <td>...</td>\n",
       "      <td>...</td>\n",
       "      <td>...</td>\n",
       "      <td>...</td>\n",
       "      <td>...</td>\n",
       "      <td>...</td>\n",
       "      <td>...</td>\n",
       "    </tr>\n",
       "    <tr>\n",
       "      <th>cis-vaccenic acid synthesis</th>\n",
       "      <td>0</td>\n",
       "      <td>0</td>\n",
       "      <td>0</td>\n",
       "      <td>0</td>\n",
       "      <td>0</td>\n",
       "      <td>0</td>\n",
       "      <td>0</td>\n",
       "      <td>0</td>\n",
       "      <td>0</td>\n",
       "      <td>0</td>\n",
       "      <td>...</td>\n",
       "      <td>0</td>\n",
       "      <td>0</td>\n",
       "      <td>0</td>\n",
       "      <td>0</td>\n",
       "      <td>0</td>\n",
       "      <td>0</td>\n",
       "      <td>0</td>\n",
       "      <td>0</td>\n",
       "      <td>0</td>\n",
       "      <td>0</td>\n",
       "    </tr>\n",
       "    <tr>\n",
       "      <th>gamma-Linolenate degradation</th>\n",
       "      <td>0</td>\n",
       "      <td>0</td>\n",
       "      <td>0</td>\n",
       "      <td>0</td>\n",
       "      <td>0</td>\n",
       "      <td>0</td>\n",
       "      <td>0</td>\n",
       "      <td>0</td>\n",
       "      <td>0</td>\n",
       "      <td>0</td>\n",
       "      <td>...</td>\n",
       "      <td>0</td>\n",
       "      <td>0</td>\n",
       "      <td>0</td>\n",
       "      <td>0</td>\n",
       "      <td>0</td>\n",
       "      <td>0</td>\n",
       "      <td>0</td>\n",
       "      <td>0</td>\n",
       "      <td>0</td>\n",
       "      <td>0</td>\n",
       "    </tr>\n",
       "    <tr>\n",
       "      <th>gamma-Linolenate synthesis</th>\n",
       "      <td>0</td>\n",
       "      <td>0</td>\n",
       "      <td>0</td>\n",
       "      <td>0</td>\n",
       "      <td>0</td>\n",
       "      <td>0</td>\n",
       "      <td>0</td>\n",
       "      <td>0</td>\n",
       "      <td>0</td>\n",
       "      <td>0</td>\n",
       "      <td>...</td>\n",
       "      <td>0</td>\n",
       "      <td>0</td>\n",
       "      <td>0</td>\n",
       "      <td>0</td>\n",
       "      <td>0</td>\n",
       "      <td>0</td>\n",
       "      <td>0</td>\n",
       "      <td>0</td>\n",
       "      <td>0</td>\n",
       "      <td>0</td>\n",
       "    </tr>\n",
       "    <tr>\n",
       "      <th>glyco-cholate synthesis</th>\n",
       "      <td>0</td>\n",
       "      <td>0</td>\n",
       "      <td>0</td>\n",
       "      <td>0</td>\n",
       "      <td>0</td>\n",
       "      <td>0</td>\n",
       "      <td>0</td>\n",
       "      <td>0</td>\n",
       "      <td>0</td>\n",
       "      <td>0</td>\n",
       "      <td>...</td>\n",
       "      <td>0</td>\n",
       "      <td>0</td>\n",
       "      <td>0</td>\n",
       "      <td>0</td>\n",
       "      <td>0</td>\n",
       "      <td>0</td>\n",
       "      <td>0</td>\n",
       "      <td>0</td>\n",
       "      <td>0</td>\n",
       "      <td>0</td>\n",
       "    </tr>\n",
       "    <tr>\n",
       "      <th>tauro-cholate synthesis</th>\n",
       "      <td>0</td>\n",
       "      <td>0</td>\n",
       "      <td>0</td>\n",
       "      <td>0</td>\n",
       "      <td>0</td>\n",
       "      <td>0</td>\n",
       "      <td>0</td>\n",
       "      <td>0</td>\n",
       "      <td>0</td>\n",
       "      <td>0</td>\n",
       "      <td>...</td>\n",
       "      <td>0</td>\n",
       "      <td>0</td>\n",
       "      <td>0</td>\n",
       "      <td>0</td>\n",
       "      <td>0</td>\n",
       "      <td>0</td>\n",
       "      <td>0</td>\n",
       "      <td>0</td>\n",
       "      <td>0</td>\n",
       "      <td>0</td>\n",
       "    </tr>\n",
       "  </tbody>\n",
       "</table>\n",
       "<p>196 rows × 809 columns</p>\n",
       "</div>"
      ],
      "text/plain": [
       "Reaction                                            10FTHFtm  1PPDCRp  \\\n",
       "Task                                                                    \n",
       "(R)-3-Hydroxybutanoate synthesis                           0        0   \n",
       "3'-Phospho-5'-adenylyl sulfate synthesis                   0        0   \n",
       "AMP salvage from adenine                                   0        0   \n",
       "ATP generation from glucose (hypoxic conditions...         0        0   \n",
       "Acetoacetate synthesis                                     0        0   \n",
       "...                                                      ...      ...   \n",
       "cis-vaccenic acid synthesis                                0        0   \n",
       "gamma-Linolenate degradation                               0        0   \n",
       "gamma-Linolenate synthesis                                 0        0   \n",
       "glyco-cholate synthesis                                    0        0   \n",
       "tauro-cholate synthesis                                    0        0   \n",
       "\n",
       "Reaction                                            2AMACHYD  2AMADPTm  \\\n",
       "Task                                                                     \n",
       "(R)-3-Hydroxybutanoate synthesis                           0         0   \n",
       "3'-Phospho-5'-adenylyl sulfate synthesis                   0         0   \n",
       "AMP salvage from adenine                                   0         0   \n",
       "ATP generation from glucose (hypoxic conditions...         0         0   \n",
       "Acetoacetate synthesis                                     0         0   \n",
       "...                                                      ...       ...   \n",
       "cis-vaccenic acid synthesis                                0         0   \n",
       "gamma-Linolenate degradation                               0         0   \n",
       "gamma-Linolenate synthesis                                 0         0   \n",
       "glyco-cholate synthesis                                    0         0   \n",
       "tauro-cholate synthesis                                    0         0   \n",
       "\n",
       "Reaction                                            2OXOADOXm  2OXOADPTm  \\\n",
       "Task                                                                       \n",
       "(R)-3-Hydroxybutanoate synthesis                            0          0   \n",
       "3'-Phospho-5'-adenylyl sulfate synthesis                    0          0   \n",
       "AMP salvage from adenine                                    0          0   \n",
       "ATP generation from glucose (hypoxic conditions...          0          0   \n",
       "Acetoacetate synthesis                                      0          0   \n",
       "...                                                       ...        ...   \n",
       "cis-vaccenic acid synthesis                                 0          0   \n",
       "gamma-Linolenate degradation                                0          0   \n",
       "gamma-Linolenate synthesis                                  0          0   \n",
       "glyco-cholate synthesis                                     0          0   \n",
       "tauro-cholate synthesis                                     0          0   \n",
       "\n",
       "Reaction                                            34HPLFM  34HPPOR  3DPHBH1  \\\n",
       "Task                                                                            \n",
       "(R)-3-Hydroxybutanoate synthesis                          0        0        0   \n",
       "3'-Phospho-5'-adenylyl sulfate synthesis                  0        0        0   \n",
       "AMP salvage from adenine                                  0        0        0   \n",
       "ATP generation from glucose (hypoxic conditions...        0        0        0   \n",
       "Acetoacetate synthesis                                    0        0        0   \n",
       "...                                                     ...      ...      ...   \n",
       "cis-vaccenic acid synthesis                               0        0        0   \n",
       "gamma-Linolenate degradation                              0        0        0   \n",
       "gamma-Linolenate synthesis                                0        0        0   \n",
       "glyco-cholate synthesis                                   0        0        0   \n",
       "tauro-cholate synthesis                                   0        0        0   \n",
       "\n",
       "Reaction                                            3DSPHR  ...  \\\n",
       "Task                                                        ...   \n",
       "(R)-3-Hydroxybutanoate synthesis                         0  ...   \n",
       "3'-Phospho-5'-adenylyl sulfate synthesis                 0  ...   \n",
       "AMP salvage from adenine                                 0  ...   \n",
       "ATP generation from glucose (hypoxic conditions...       0  ...   \n",
       "Acetoacetate synthesis                                   0  ...   \n",
       "...                                                    ...  ...   \n",
       "cis-vaccenic acid synthesis                              0  ...   \n",
       "gamma-Linolenate degradation                             0  ...   \n",
       "gamma-Linolenate synthesis                               0  ...   \n",
       "glyco-cholate synthesis                                  0  ...   \n",
       "tauro-cholate synthesis                                  0  ...   \n",
       "\n",
       "Reaction                                            post_TRANSLOC_1  \\\n",
       "Task                                                                  \n",
       "(R)-3-Hydroxybutanoate synthesis                                  0   \n",
       "3'-Phospho-5'-adenylyl sulfate synthesis                          0   \n",
       "AMP salvage from adenine                                          0   \n",
       "ATP generation from glucose (hypoxic conditions...                0   \n",
       "Acetoacetate synthesis                                            0   \n",
       "...                                                             ...   \n",
       "cis-vaccenic acid synthesis                                       0   \n",
       "gamma-Linolenate degradation                                      0   \n",
       "gamma-Linolenate synthesis                                        0   \n",
       "glyco-cholate synthesis                                           0   \n",
       "tauro-cholate synthesis                                           0   \n",
       "\n",
       "Reaction                                            post_TRANSLOC_2  \\\n",
       "Task                                                                  \n",
       "(R)-3-Hydroxybutanoate synthesis                                  0   \n",
       "3'-Phospho-5'-adenylyl sulfate synthesis                          0   \n",
       "AMP salvage from adenine                                          0   \n",
       "ATP generation from glucose (hypoxic conditions...                0   \n",
       "Acetoacetate synthesis                                            0   \n",
       "...                                                             ...   \n",
       "cis-vaccenic acid synthesis                                       0   \n",
       "gamma-Linolenate degradation                                      0   \n",
       "gamma-Linolenate synthesis                                        0   \n",
       "glyco-cholate synthesis                                           0   \n",
       "tauro-cholate synthesis                                           0   \n",
       "\n",
       "Reaction                                            post_TRANSLOC_3A_1  \\\n",
       "Task                                                                     \n",
       "(R)-3-Hydroxybutanoate synthesis                                     0   \n",
       "3'-Phospho-5'-adenylyl sulfate synthesis                             0   \n",
       "AMP salvage from adenine                                             0   \n",
       "ATP generation from glucose (hypoxic conditions...                   0   \n",
       "Acetoacetate synthesis                                               0   \n",
       "...                                                                ...   \n",
       "cis-vaccenic acid synthesis                                          0   \n",
       "gamma-Linolenate degradation                                         0   \n",
       "gamma-Linolenate synthesis                                           0   \n",
       "glyco-cholate synthesis                                              0   \n",
       "tauro-cholate synthesis                                              0   \n",
       "\n",
       "Reaction                                            post_TRANSLOC_3A_2  \\\n",
       "Task                                                                     \n",
       "(R)-3-Hydroxybutanoate synthesis                                     0   \n",
       "3'-Phospho-5'-adenylyl sulfate synthesis                             0   \n",
       "AMP salvage from adenine                                             0   \n",
       "ATP generation from glucose (hypoxic conditions...                   0   \n",
       "Acetoacetate synthesis                                               0   \n",
       "...                                                                ...   \n",
       "cis-vaccenic acid synthesis                                          0   \n",
       "gamma-Linolenate degradation                                         0   \n",
       "gamma-Linolenate synthesis                                           0   \n",
       "glyco-cholate synthesis                                              0   \n",
       "tauro-cholate synthesis                                              0   \n",
       "\n",
       "Reaction                                            post_TRANSLOC_3B_1  \\\n",
       "Task                                                                     \n",
       "(R)-3-Hydroxybutanoate synthesis                                     0   \n",
       "3'-Phospho-5'-adenylyl sulfate synthesis                             0   \n",
       "AMP salvage from adenine                                             0   \n",
       "ATP generation from glucose (hypoxic conditions...                   0   \n",
       "Acetoacetate synthesis                                               0   \n",
       "...                                                                ...   \n",
       "cis-vaccenic acid synthesis                                          0   \n",
       "gamma-Linolenate degradation                                         0   \n",
       "gamma-Linolenate synthesis                                           0   \n",
       "glyco-cholate synthesis                                              0   \n",
       "tauro-cholate synthesis                                              0   \n",
       "\n",
       "Reaction                                            post_TRANSLOC_3B_2  \\\n",
       "Task                                                                     \n",
       "(R)-3-Hydroxybutanoate synthesis                                     0   \n",
       "3'-Phospho-5'-adenylyl sulfate synthesis                             0   \n",
       "AMP salvage from adenine                                             0   \n",
       "ATP generation from glucose (hypoxic conditions...                   0   \n",
       "Acetoacetate synthesis                                               0   \n",
       "...                                                                ...   \n",
       "cis-vaccenic acid synthesis                                          0   \n",
       "gamma-Linolenate degradation                                         0   \n",
       "gamma-Linolenate synthesis                                           0   \n",
       "glyco-cholate synthesis                                              0   \n",
       "tauro-cholate synthesis                                              0   \n",
       "\n",
       "Reaction                                            post_TRANSLOC_3B_3  \\\n",
       "Task                                                                     \n",
       "(R)-3-Hydroxybutanoate synthesis                                     0   \n",
       "3'-Phospho-5'-adenylyl sulfate synthesis                             0   \n",
       "AMP salvage from adenine                                             0   \n",
       "ATP generation from glucose (hypoxic conditions...                   0   \n",
       "Acetoacetate synthesis                                               0   \n",
       "...                                                                ...   \n",
       "cis-vaccenic acid synthesis                                          0   \n",
       "gamma-Linolenate degradation                                         0   \n",
       "gamma-Linolenate synthesis                                           0   \n",
       "glyco-cholate synthesis                                              0   \n",
       "tauro-cholate synthesis                                              0   \n",
       "\n",
       "Reaction                                            retro_TRANSLOC_1  \\\n",
       "Task                                                                   \n",
       "(R)-3-Hydroxybutanoate synthesis                                   0   \n",
       "3'-Phospho-5'-adenylyl sulfate synthesis                           0   \n",
       "AMP salvage from adenine                                           0   \n",
       "ATP generation from glucose (hypoxic conditions...                 0   \n",
       "Acetoacetate synthesis                                             0   \n",
       "...                                                              ...   \n",
       "cis-vaccenic acid synthesis                                        0   \n",
       "gamma-Linolenate degradation                                       0   \n",
       "gamma-Linolenate synthesis                                         0   \n",
       "glyco-cholate synthesis                                            0   \n",
       "tauro-cholate synthesis                                            0   \n",
       "\n",
       "Reaction                                            retro_TRANSLOC_2  thr_mt  \n",
       "Task                                                                          \n",
       "(R)-3-Hydroxybutanoate synthesis                                   0       0  \n",
       "3'-Phospho-5'-adenylyl sulfate synthesis                           0       0  \n",
       "AMP salvage from adenine                                           0       0  \n",
       "ATP generation from glucose (hypoxic conditions...                 0       0  \n",
       "Acetoacetate synthesis                                             0       0  \n",
       "...                                                              ...     ...  \n",
       "cis-vaccenic acid synthesis                                        0       0  \n",
       "gamma-Linolenate degradation                                       0       0  \n",
       "gamma-Linolenate synthesis                                         0       0  \n",
       "glyco-cholate synthesis                                            0       0  \n",
       "tauro-cholate synthesis                                            0       0  \n",
       "\n",
       "[196 rows x 809 columns]"
      ]
     },
     "execution_count": 68,
     "metadata": {},
     "output_type": "execute_result"
    }
   ],
   "source": [
    "task_by_rxn"
   ]
  },
  {
   "cell_type": "code",
   "execution_count": 69,
   "id": "a52733a9-9218-4839-8bf5-0a9c18168d35",
   "metadata": {
    "tags": []
   },
   "outputs": [],
   "source": [
    "total_met_rxn = rxn_list_updated.loc[rxn_list_updated['Reaction'].isin(rxn_set)]['Reaction'].tolist()"
   ]
  },
  {
   "cell_type": "code",
   "execution_count": 70,
   "id": "b2d8cbf3-de77-42a9-a200-4f8ee55ef5cd",
   "metadata": {
    "tags": []
   },
   "outputs": [
    {
     "data": {
      "text/plain": [
       "676"
      ]
     },
     "execution_count": 70,
     "metadata": {},
     "output_type": "execute_result"
    }
   ],
   "source": [
    "len(total_met_rxn)"
   ]
  },
  {
   "cell_type": "code",
   "execution_count": 71,
   "id": "745ff9b6-bb6a-47b0-80c9-3a00b09dc1a8",
   "metadata": {
    "tags": []
   },
   "outputs": [],
   "source": [
    "task_by_rxn = task_by_rxn[total_met_rxn]"
   ]
  },
  {
   "cell_type": "code",
   "execution_count": 72,
   "id": "799c4c44-2d9d-4ec9-b2c5-5cbb8849c50a",
   "metadata": {
    "tags": []
   },
   "outputs": [
    {
     "data": {
      "text/plain": [
       "(196, 676)"
      ]
     },
     "execution_count": 72,
     "metadata": {},
     "output_type": "execute_result"
    }
   ],
   "source": [
    "task_by_rxn.shape"
   ]
  },
  {
   "cell_type": "code",
   "execution_count": 73,
   "id": "f195fbc3-e999-481c-845b-335cd0a90f60",
   "metadata": {
    "tags": []
   },
   "outputs": [],
   "source": [
    "rxn_by_gene = rxn_by_gene.loc[total_met_rxn,:]"
   ]
  },
  {
   "cell_type": "code",
   "execution_count": 74,
   "id": "5b8c3354-5dbf-42c9-b1ed-0494d3337938",
   "metadata": {
    "tags": []
   },
   "outputs": [
    {
     "data": {
      "text/plain": [
       "(676, 1548)"
      ]
     },
     "execution_count": 74,
     "metadata": {},
     "output_type": "execute_result"
    }
   ],
   "source": [
    "rxn_by_gene.shape"
   ]
  },
  {
   "cell_type": "code",
   "execution_count": 75,
   "id": "4db3d8bd-ec96-41c9-8a36-67b4c40e2d39",
   "metadata": {
    "tags": []
   },
   "outputs": [],
   "source": [
    "task_by_gene = np.matmul(task_by_rxn, rxn_by_gene)\n",
    "task_by_gene[task_by_gene > 0] = 1"
   ]
  },
  {
   "cell_type": "code",
   "execution_count": 76,
   "id": "a080eaa0-95f2-45a7-a902-260038548962",
   "metadata": {
    "tags": []
   },
   "outputs": [
    {
     "data": {
      "text/plain": [
       "Index([], dtype='object', name='Gene')"
      ]
     },
     "execution_count": 76,
     "metadata": {},
     "output_type": "execute_result"
    }
   ],
   "source": [
    "task_by_gene.columns[task_by_gene.columns.str.contains('HGNC:')]"
   ]
  },
  {
   "cell_type": "code",
   "execution_count": 77,
   "id": "18c29380-ee2e-4951-8c00-497bf8f6eec1",
   "metadata": {
    "tags": []
   },
   "outputs": [
    {
     "data": {
      "text/plain": [
       "(196, 1548)"
      ]
     },
     "execution_count": 77,
     "metadata": {},
     "output_type": "execute_result"
    }
   ],
   "source": [
    "task_by_gene.shape"
   ]
  },
  {
   "cell_type": "code",
   "execution_count": 78,
   "id": "5e8ff1da-9879-4b18-9709-b587c8d7b060",
   "metadata": {
    "tags": []
   },
   "outputs": [],
   "source": [
    "final_genes = task_by_gene.loc[:,task_by_gene.sum()>0].columns.tolist()"
   ]
  },
  {
   "cell_type": "code",
   "execution_count": 79,
   "id": "b0301002-2dd4-4e35-abc5-84db68e42dfc",
   "metadata": {
    "tags": []
   },
   "outputs": [],
   "source": [
    "final_tasks = task_by_gene.loc[task_by_gene.sum(axis=1)>0].index.tolist()"
   ]
  },
  {
   "cell_type": "code",
   "execution_count": 80,
   "id": "e3e9800c-5683-400f-abe0-6e710cdc31f6",
   "metadata": {
    "tags": []
   },
   "outputs": [],
   "source": [
    "final_rxns = rxn_by_gene[final_genes][rxn_by_gene[final_genes].sum(axis=1)>0].index.tolist()"
   ]
  },
  {
   "cell_type": "code",
   "execution_count": 81,
   "id": "db8692c2-5d4d-453c-9e08-f593197ee7e9",
   "metadata": {
    "tags": []
   },
   "outputs": [
    {
     "data": {
      "text/plain": [
       "676"
      ]
     },
     "execution_count": 81,
     "metadata": {},
     "output_type": "execute_result"
    }
   ],
   "source": [
    "len(final_rxns)"
   ]
  },
  {
   "cell_type": "code",
   "execution_count": 82,
   "id": "ef12370d-2a66-40bd-9322-58e21ed1521b",
   "metadata": {
    "tags": []
   },
   "outputs": [
    {
     "data": {
      "text/plain": [
       "(195, 676)"
      ]
     },
     "execution_count": 82,
     "metadata": {},
     "output_type": "execute_result"
    }
   ],
   "source": [
    "task_by_rxn = task_by_rxn.loc[final_tasks, final_rxns]\n",
    "task_by_rxn.shape"
   ]
  },
  {
   "cell_type": "code",
   "execution_count": 83,
   "id": "55d089cf-3469-4635-bf97-7624122a4ab7",
   "metadata": {
    "tags": []
   },
   "outputs": [
    {
     "data": {
      "text/plain": [
       "(195, 790)"
      ]
     },
     "execution_count": 83,
     "metadata": {},
     "output_type": "execute_result"
    }
   ],
   "source": [
    "task_by_gene = task_by_gene.loc[final_tasks, final_genes]\n",
    "task_by_gene.shape"
   ]
  },
  {
   "cell_type": "code",
   "execution_count": 84,
   "id": "a1cc74bf-601d-4095-889c-a8e77ee50da8",
   "metadata": {
    "tags": []
   },
   "outputs": [
    {
     "data": {
      "text/plain": [
       "(676, 790)"
      ]
     },
     "execution_count": 84,
     "metadata": {},
     "output_type": "execute_result"
    }
   ],
   "source": [
    "rxn_by_gene = rxn_by_gene.loc[final_rxns, final_genes]\n",
    "rxn_by_gene.shape"
   ]
  },
  {
   "cell_type": "code",
   "execution_count": 85,
   "id": "c1fce2c2-b7e2-4f47-9462-ea1b9490c17d",
   "metadata": {
    "tags": []
   },
   "outputs": [],
   "source": [
    "rxn_list_updated = rxn_list_updated.loc[rxn_list_updated['Reaction'].isin(final_rxns)].reset_index(drop=True)"
   ]
  },
  {
   "cell_type": "code",
   "execution_count": 86,
   "id": "181375cc-96b6-4465-bd27-93fb1e18c786",
   "metadata": {
    "tags": []
   },
   "outputs": [],
   "source": [
    "task_df = task_df.loc[final_tasks,:]"
   ]
  },
  {
   "cell_type": "markdown",
   "id": "5d8bfebc",
   "metadata": {},
   "source": [
    "# Exports"
   ]
  },
  {
   "cell_type": "code",
   "execution_count": 87,
   "id": "201b2665",
   "metadata": {
    "tags": []
   },
   "outputs": [],
   "source": [
    "task_df.to_csv('./mus_musculus/Task-Info.csv')"
   ]
  },
  {
   "cell_type": "code",
   "execution_count": 88,
   "id": "c362124b",
   "metadata": {
    "tags": []
   },
   "outputs": [],
   "source": [
    "task_by_rxn.to_csv('./mus_musculus/Task_by_Rxn.csv')"
   ]
  },
  {
   "cell_type": "code",
   "execution_count": 89,
   "id": "c26d6929",
   "metadata": {
    "tags": []
   },
   "outputs": [],
   "source": [
    "rxn_by_gene.to_csv('./mus_musculus/Rxn_by_Gene.csv')"
   ]
  },
  {
   "cell_type": "code",
   "execution_count": 90,
   "id": "5647bfbd",
   "metadata": {
    "tags": []
   },
   "outputs": [],
   "source": [
    "task_by_gene.to_csv('./mus_musculus/Task_by_Gene.csv')"
   ]
  },
  {
   "cell_type": "code",
   "execution_count": 91,
   "id": "455570d4",
   "metadata": {
    "tags": []
   },
   "outputs": [],
   "source": [
    "rxn_list_updated.to_json('./mus_musculus/Rxn-Info-iMM1415.json')"
   ]
  }
 ],
 "metadata": {
  "kernelspec": {
   "display_name": "Python 3 (ipykernel)",
   "language": "python",
   "name": "python3"
  },
  "language_info": {
   "codemirror_mode": {
    "name": "ipython",
    "version": 3
   },
   "file_extension": ".py",
   "mimetype": "text/x-python",
   "name": "python",
   "nbconvert_exporter": "python",
   "pygments_lexer": "ipython3",
   "version": "3.11.6"
  }
 },
 "nbformat": 4,
 "nbformat_minor": 5
}
